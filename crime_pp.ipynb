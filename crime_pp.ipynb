{
 "cells": [
  {
   "cell_type": "code",
   "execution_count": 2,
   "metadata": {},
   "outputs": [],
   "source": [
    "import time\n",
    "import random\n",
    "from math import *\n",
    "import operator\n",
    "import pandas as pd\n",
    "import numpy as np\n",
    "import datetime \n",
    "import calendar\n",
    "import matplotlib.pyplot as plt"
   ]
  },
  {
   "cell_type": "code",
   "execution_count": 3,
   "metadata": {},
   "outputs": [],
   "source": [
    "# Importing File\n",
    "\n",
    "location = r\"file:///C:\\Users\\nikhil\\Downloads\\police_department_data%20(1).csv\""
   ]
  },
  {
   "cell_type": "code",
   "execution_count": 4,
   "metadata": {},
   "outputs": [],
   "source": [
    "df_police=pd.read_csv(location)"
   ]
  },
  {
   "cell_type": "code",
   "execution_count": 5,
   "metadata": {
    "collapsed": true
   },
   "outputs": [
    {
     "data": {
      "text/html": [
       "<div>\n",
       "<style scoped>\n",
       "    .dataframe tbody tr th:only-of-type {\n",
       "        vertical-align: middle;\n",
       "    }\n",
       "\n",
       "    .dataframe tbody tr th {\n",
       "        vertical-align: top;\n",
       "    }\n",
       "\n",
       "    .dataframe thead th {\n",
       "        text-align: right;\n",
       "    }\n",
       "</style>\n",
       "<table border=\"1\" class=\"dataframe\">\n",
       "  <thead>\n",
       "    <tr style=\"text-align: right;\">\n",
       "      <th></th>\n",
       "      <th>incident_id</th>\n",
       "      <th>category</th>\n",
       "      <th>crime_description</th>\n",
       "      <th>crime_date</th>\n",
       "      <th>department_district</th>\n",
       "      <th>resolution</th>\n",
       "      <th>address</th>\n",
       "      <th>department_id</th>\n",
       "      <th>location</th>\n",
       "    </tr>\n",
       "  </thead>\n",
       "  <tbody>\n",
       "    <tr>\n",
       "      <th>0</th>\n",
       "      <td>120058272</td>\n",
       "      <td>WEAPON LAWS</td>\n",
       "      <td>POSS OF PROHIBITED WEAPON</td>\n",
       "      <td>2016-01-29 11:00:00</td>\n",
       "      <td>SOUTHERN</td>\n",
       "      <td>ARREST, BOOKED</td>\n",
       "      <td>800 Block of BRYANT ST</td>\n",
       "      <td>12005827212120</td>\n",
       "      <td>(37.775420706711, -122.403404791479)</td>\n",
       "    </tr>\n",
       "    <tr>\n",
       "      <th>1</th>\n",
       "      <td>120058272</td>\n",
       "      <td>WEAPON LAWS</td>\n",
       "      <td>FIREARM, LOADED, IN VEHICLE, POSSESSION OR USE</td>\n",
       "      <td>2016-01-29 11:00:00</td>\n",
       "      <td>SOUTHERN</td>\n",
       "      <td>ARREST, BOOKED</td>\n",
       "      <td>800 Block of BRYANT ST</td>\n",
       "      <td>12005827212168</td>\n",
       "      <td>(37.775420706711, -122.403404791479)</td>\n",
       "    </tr>\n",
       "    <tr>\n",
       "      <th>2</th>\n",
       "      <td>141059263</td>\n",
       "      <td>WARRANTS</td>\n",
       "      <td>WARRANT ARREST</td>\n",
       "      <td>2016-04-25 14:59:00</td>\n",
       "      <td>BAYVIEW</td>\n",
       "      <td>ARREST, BOOKED</td>\n",
       "      <td>KEITH ST / SHAFTER AV</td>\n",
       "      <td>14105926363010</td>\n",
       "      <td>(37.7299809672996, -122.388856204292)</td>\n",
       "    </tr>\n",
       "    <tr>\n",
       "      <th>3</th>\n",
       "      <td>160013662</td>\n",
       "      <td>NON-CRIMINAL</td>\n",
       "      <td>LOST PROPERTY</td>\n",
       "      <td>2016-01-05 23:50:00</td>\n",
       "      <td>TENDERLOIN</td>\n",
       "      <td>NONE</td>\n",
       "      <td>JONES ST / OFARRELL ST</td>\n",
       "      <td>16001366271000</td>\n",
       "      <td>(37.7857883766888, -122.412970537591)</td>\n",
       "    </tr>\n",
       "    <tr>\n",
       "      <th>4</th>\n",
       "      <td>160002740</td>\n",
       "      <td>NON-CRIMINAL</td>\n",
       "      <td>LOST PROPERTY</td>\n",
       "      <td>2016-01-01 00:30:00</td>\n",
       "      <td>MISSION</td>\n",
       "      <td>NONE</td>\n",
       "      <td>16TH ST / MISSION ST</td>\n",
       "      <td>16000274071000</td>\n",
       "      <td>(37.7650501214668, -122.419671780296)</td>\n",
       "    </tr>\n",
       "  </tbody>\n",
       "</table>\n",
       "</div>"
      ],
      "text/plain": [
       "   incident_id      category                               crime_description  \\\n",
       "0    120058272   WEAPON LAWS                       POSS OF PROHIBITED WEAPON   \n",
       "1    120058272   WEAPON LAWS  FIREARM, LOADED, IN VEHICLE, POSSESSION OR USE   \n",
       "2    141059263      WARRANTS                                  WARRANT ARREST   \n",
       "3    160013662  NON-CRIMINAL                                   LOST PROPERTY   \n",
       "4    160002740  NON-CRIMINAL                                   LOST PROPERTY   \n",
       "\n",
       "            crime_date department_district      resolution  \\\n",
       "0  2016-01-29 11:00:00            SOUTHERN  ARREST, BOOKED   \n",
       "1  2016-01-29 11:00:00            SOUTHERN  ARREST, BOOKED   \n",
       "2  2016-04-25 14:59:00             BAYVIEW  ARREST, BOOKED   \n",
       "3  2016-01-05 23:50:00          TENDERLOIN            NONE   \n",
       "4  2016-01-01 00:30:00             MISSION            NONE   \n",
       "\n",
       "                  address   department_id  \\\n",
       "0  800 Block of BRYANT ST  12005827212120   \n",
       "1  800 Block of BRYANT ST  12005827212168   \n",
       "2   KEITH ST / SHAFTER AV  14105926363010   \n",
       "3  JONES ST / OFARRELL ST  16001366271000   \n",
       "4    16TH ST / MISSION ST  16000274071000   \n",
       "\n",
       "                                location  \n",
       "0   (37.775420706711, -122.403404791479)  \n",
       "1   (37.775420706711, -122.403404791479)  \n",
       "2  (37.7299809672996, -122.388856204292)  \n",
       "3  (37.7857883766888, -122.412970537591)  \n",
       "4  (37.7650501214668, -122.419671780296)  "
      ]
     },
     "execution_count": 5,
     "metadata": {},
     "output_type": "execute_result"
    }
   ],
   "source": [
    "# Checking Imported File\n",
    "\n",
    "df_police.head()"
   ]
  },
  {
   "cell_type": "code",
   "execution_count": 6,
   "metadata": {},
   "outputs": [],
   "source": [
    "# Droping column Not Necessary for study\n",
    "\n",
    "df2=df_police.drop(['incident_id','crime_description','address','department_id','location'\n",
    "\n",
    "],axis=1)"
   ]
  },
  {
   "cell_type": "code",
   "execution_count": 7,
   "metadata": {},
   "outputs": [
    {
     "data": {
      "text/html": [
       "<div>\n",
       "<style scoped>\n",
       "    .dataframe tbody tr th:only-of-type {\n",
       "        vertical-align: middle;\n",
       "    }\n",
       "\n",
       "    .dataframe tbody tr th {\n",
       "        vertical-align: top;\n",
       "    }\n",
       "\n",
       "    .dataframe thead th {\n",
       "        text-align: right;\n",
       "    }\n",
       "</style>\n",
       "<table border=\"1\" class=\"dataframe\">\n",
       "  <thead>\n",
       "    <tr style=\"text-align: right;\">\n",
       "      <th></th>\n",
       "      <th>category</th>\n",
       "      <th>crime_date</th>\n",
       "      <th>department_district</th>\n",
       "      <th>resolution</th>\n",
       "    </tr>\n",
       "  </thead>\n",
       "  <tbody>\n",
       "    <tr>\n",
       "      <th>0</th>\n",
       "      <td>WEAPON LAWS</td>\n",
       "      <td>2016-01-29 11:00:00</td>\n",
       "      <td>SOUTHERN</td>\n",
       "      <td>ARREST, BOOKED</td>\n",
       "    </tr>\n",
       "    <tr>\n",
       "      <th>1</th>\n",
       "      <td>WEAPON LAWS</td>\n",
       "      <td>2016-01-29 11:00:00</td>\n",
       "      <td>SOUTHERN</td>\n",
       "      <td>ARREST, BOOKED</td>\n",
       "    </tr>\n",
       "    <tr>\n",
       "      <th>2</th>\n",
       "      <td>WARRANTS</td>\n",
       "      <td>2016-04-25 14:59:00</td>\n",
       "      <td>BAYVIEW</td>\n",
       "      <td>ARREST, BOOKED</td>\n",
       "    </tr>\n",
       "    <tr>\n",
       "      <th>3</th>\n",
       "      <td>NON-CRIMINAL</td>\n",
       "      <td>2016-01-05 23:50:00</td>\n",
       "      <td>TENDERLOIN</td>\n",
       "      <td>NONE</td>\n",
       "    </tr>\n",
       "    <tr>\n",
       "      <th>4</th>\n",
       "      <td>NON-CRIMINAL</td>\n",
       "      <td>2016-01-01 00:30:00</td>\n",
       "      <td>MISSION</td>\n",
       "      <td>NONE</td>\n",
       "    </tr>\n",
       "  </tbody>\n",
       "</table>\n",
       "</div>"
      ],
      "text/plain": [
       "       category           crime_date department_district      resolution\n",
       "0   WEAPON LAWS  2016-01-29 11:00:00            SOUTHERN  ARREST, BOOKED\n",
       "1   WEAPON LAWS  2016-01-29 11:00:00            SOUTHERN  ARREST, BOOKED\n",
       "2      WARRANTS  2016-04-25 14:59:00             BAYVIEW  ARREST, BOOKED\n",
       "3  NON-CRIMINAL  2016-01-05 23:50:00          TENDERLOIN            NONE\n",
       "4  NON-CRIMINAL  2016-01-01 00:30:00             MISSION            NONE"
      ]
     },
     "execution_count": 7,
     "metadata": {},
     "output_type": "execute_result"
    }
   ],
   "source": [
    "df2.head()"
   ]
  },
  {
   "cell_type": "code",
   "execution_count": 8,
   "metadata": {},
   "outputs": [],
   "source": [
    "df3=df2"
   ]
  },
  {
   "cell_type": "code",
   "execution_count": 9,
   "metadata": {},
   "outputs": [],
   "source": [
    "# Getting Month from crime date\n",
    "\n",
    "df3['month'] = pd.DatetimeIndex(df3['crime_date']).month"
   ]
  },
  {
   "cell_type": "code",
   "execution_count": 10,
   "metadata": {},
   "outputs": [],
   "source": [
    "month1={1:\"Jan\" ,2:\"Feb\" ,3:\"Mar\" ,4:\"April\" ,5:\"May\" ,6:\"June\" ,7:\"July\" ,8:\"Aug\" ,9:\"Sep\"\n",
    "       ,10:\"Oct\" ,11:\"Nov\" ,12:\"Dec\"}"
   ]
  },
  {
   "cell_type": "code",
   "execution_count": 11,
   "metadata": {},
   "outputs": [],
   "source": [
    "df3['month']=[month1[items] for items in df3['month']]"
   ]
  },
  {
   "cell_type": "code",
   "execution_count": 12,
   "metadata": {
    "collapsed": true
   },
   "outputs": [
    {
     "data": {
      "text/plain": [
       "0      Jan\n",
       "1      Jan\n",
       "2    April\n",
       "3      Jan\n",
       "4      Jan\n",
       "Name: month, dtype: object"
      ]
     },
     "execution_count": 12,
     "metadata": {},
     "output_type": "execute_result"
    }
   ],
   "source": [
    "df3['month'].head()"
   ]
  },
  {
   "cell_type": "code",
   "execution_count": 13,
   "metadata": {},
   "outputs": [],
   "source": [
    "df3['Day'] = pd.DatetimeIndex(df3['crime_date']).day"
   ]
  },
  {
   "cell_type": "code",
   "execution_count": 14,
   "metadata": {},
   "outputs": [],
   "source": [
    "df3['crime_date'] = pd.to_datetime(df3['crime_date'])"
   ]
  },
  {
   "cell_type": "code",
   "execution_count": 15,
   "metadata": {},
   "outputs": [],
   "source": [
    "# Getting day of week(sun, mon, tue)\n",
    "\n",
    "df3['day_of_week'] = df3['crime_date'].dt.day_name()"
   ]
  },
  {
   "cell_type": "code",
   "execution_count": 16,
   "metadata": {
    "collapsed": true
   },
   "outputs": [
    {
     "data": {
      "text/plain": [
       "array(['Friday', 'Monday', 'Tuesday', 'Saturday', 'Thursday', 'Sunday',\n",
       "       'Wednesday'], dtype=object)"
      ]
     },
     "execution_count": 16,
     "metadata": {},
     "output_type": "execute_result"
    }
   ],
   "source": [
    "df3.day_of_week.unique()"
   ]
  },
  {
   "cell_type": "code",
   "execution_count": 17,
   "metadata": {
    "collapsed": true
   },
   "outputs": [
    {
     "data": {
      "text/plain": [
       "Friday       15.528904\n",
       "Saturday     14.732226\n",
       "Thursday     14.215947\n",
       "Wednesday    14.174086\n",
       "Tuesday      14.114286\n",
       "Monday       13.809302\n",
       "Sunday       13.425249\n",
       "Name: day_of_week, dtype: float64"
      ]
     },
     "execution_count": 17,
     "metadata": {},
     "output_type": "execute_result"
    }
   ],
   "source": [
    "(df3['day_of_week'].value_counts()/df3['day_of_week'].count())*100"
   ]
  },
  {
   "cell_type": "code",
   "execution_count": 19,
   "metadata": {},
   "outputs": [],
   "source": [
    "# Getting hour of day (1, 2, 3)\n",
    "\n",
    "df3['hour'] = df3['crime_date'].dt.hour"
   ]
  },
  {
   "cell_type": "code",
   "execution_count": 20,
   "metadata": {
    "collapsed": true
   },
   "outputs": [
    {
     "data": {
      "text/plain": [
       "array([11, 14, 23,  0, 21,  1, 12, 10, 22, 13,  7, 16, 17,  4,  6,  9, 15,\n",
       "       19, 20,  5,  2,  8, 18,  3], dtype=int64)"
      ]
     },
     "execution_count": 20,
     "metadata": {},
     "output_type": "execute_result"
    }
   ],
   "source": [
    "df3.hour.unique()"
   ]
  },
  {
   "cell_type": "code",
   "execution_count": 21,
   "metadata": {
    "collapsed": true
   },
   "outputs": [
    {
     "data": {
      "text/plain": [
       "18    6.457143\n",
       "17    6.351495\n",
       "12    5.994020\n",
       "19    5.967442\n",
       "16    5.751495\n",
       "15    5.534219\n",
       "20    5.380731\n",
       "14    5.063787\n",
       "21    4.970100\n",
       "13    4.829236\n",
       "22    4.716944\n",
       "0     4.611960\n",
       "11    4.508970\n",
       "23    4.367442\n",
       "10    4.307641\n",
       "9     3.897010\n",
       "8     3.704319\n",
       "1     2.896346\n",
       "7     2.587375\n",
       "2     2.321595\n",
       "3     1.696346\n",
       "6     1.673090\n",
       "4     1.252492\n",
       "5     1.158804\n",
       "Name: hour, dtype: float64"
      ]
     },
     "execution_count": 21,
     "metadata": {},
     "output_type": "execute_result"
    }
   ],
   "source": [
    "(df3['hour'].value_counts()/df3['hour'].count())*100"
   ]
  },
  {
   "cell_type": "code",
   "execution_count": 22,
   "metadata": {},
   "outputs": [],
   "source": [
    "df33=df3.drop(df3[df3.hour.isin([\"9\",\"8\",\"1\",\"2\",\"7\",\"3\",\"6\",\"4\",\"5\"\n",
    "])].index)"
   ]
  },
  {
   "cell_type": "code",
   "execution_count": 23,
   "metadata": {
    "collapsed": true
   },
   "outputs": [
    {
     "data": {
      "text/html": [
       "<div>\n",
       "<style scoped>\n",
       "    .dataframe tbody tr th:only-of-type {\n",
       "        vertical-align: middle;\n",
       "    }\n",
       "\n",
       "    .dataframe tbody tr th {\n",
       "        vertical-align: top;\n",
       "    }\n",
       "\n",
       "    .dataframe thead th {\n",
       "        text-align: right;\n",
       "    }\n",
       "</style>\n",
       "<table border=\"1\" class=\"dataframe\">\n",
       "  <thead>\n",
       "    <tr style=\"text-align: right;\">\n",
       "      <th></th>\n",
       "      <th>category</th>\n",
       "      <th>crime_date</th>\n",
       "      <th>department_district</th>\n",
       "      <th>resolution</th>\n",
       "      <th>month</th>\n",
       "      <th>Day</th>\n",
       "      <th>day_of_week</th>\n",
       "      <th>hour</th>\n",
       "    </tr>\n",
       "  </thead>\n",
       "  <tbody>\n",
       "    <tr>\n",
       "      <th>0</th>\n",
       "      <td>WEAPON LAWS</td>\n",
       "      <td>2016-01-29 11:00:00</td>\n",
       "      <td>SOUTHERN</td>\n",
       "      <td>ARREST, BOOKED</td>\n",
       "      <td>Jan</td>\n",
       "      <td>29</td>\n",
       "      <td>Friday</td>\n",
       "      <td>11</td>\n",
       "    </tr>\n",
       "    <tr>\n",
       "      <th>1</th>\n",
       "      <td>WEAPON LAWS</td>\n",
       "      <td>2016-01-29 11:00:00</td>\n",
       "      <td>SOUTHERN</td>\n",
       "      <td>ARREST, BOOKED</td>\n",
       "      <td>Jan</td>\n",
       "      <td>29</td>\n",
       "      <td>Friday</td>\n",
       "      <td>11</td>\n",
       "    </tr>\n",
       "    <tr>\n",
       "      <th>2</th>\n",
       "      <td>WARRANTS</td>\n",
       "      <td>2016-04-25 14:59:00</td>\n",
       "      <td>BAYVIEW</td>\n",
       "      <td>ARREST, BOOKED</td>\n",
       "      <td>April</td>\n",
       "      <td>25</td>\n",
       "      <td>Monday</td>\n",
       "      <td>14</td>\n",
       "    </tr>\n",
       "    <tr>\n",
       "      <th>3</th>\n",
       "      <td>NON-CRIMINAL</td>\n",
       "      <td>2016-01-05 23:50:00</td>\n",
       "      <td>TENDERLOIN</td>\n",
       "      <td>NONE</td>\n",
       "      <td>Jan</td>\n",
       "      <td>5</td>\n",
       "      <td>Tuesday</td>\n",
       "      <td>23</td>\n",
       "    </tr>\n",
       "    <tr>\n",
       "      <th>4</th>\n",
       "      <td>NON-CRIMINAL</td>\n",
       "      <td>2016-01-01 00:30:00</td>\n",
       "      <td>MISSION</td>\n",
       "      <td>NONE</td>\n",
       "      <td>Jan</td>\n",
       "      <td>1</td>\n",
       "      <td>Friday</td>\n",
       "      <td>0</td>\n",
       "    </tr>\n",
       "  </tbody>\n",
       "</table>\n",
       "</div>"
      ],
      "text/plain": [
       "       category          crime_date department_district      resolution  \\\n",
       "0   WEAPON LAWS 2016-01-29 11:00:00            SOUTHERN  ARREST, BOOKED   \n",
       "1   WEAPON LAWS 2016-01-29 11:00:00            SOUTHERN  ARREST, BOOKED   \n",
       "2      WARRANTS 2016-04-25 14:59:00             BAYVIEW  ARREST, BOOKED   \n",
       "3  NON-CRIMINAL 2016-01-05 23:50:00          TENDERLOIN            NONE   \n",
       "4  NON-CRIMINAL 2016-01-01 00:30:00             MISSION            NONE   \n",
       "\n",
       "   month  Day day_of_week  hour  \n",
       "0    Jan   29      Friday    11  \n",
       "1    Jan   29      Friday    11  \n",
       "2  April   25      Monday    14  \n",
       "3    Jan    5     Tuesday    23  \n",
       "4    Jan    1      Friday     0  "
      ]
     },
     "execution_count": 23,
     "metadata": {},
     "output_type": "execute_result"
    }
   ],
   "source": [
    "df33.head()"
   ]
  },
  {
   "cell_type": "code",
   "execution_count": 24,
   "metadata": {
    "collapsed": true
   },
   "outputs": [
    {
     "data": {
      "text/plain": [
       "array(['WEAPON LAWS', 'WARRANTS', 'NON-CRIMINAL', 'ASSAULT',\n",
       "       'OTHER OFFENSES', 'MISSING PERSON', 'LARCENY/THEFT',\n",
       "       'STOLEN PROPERTY', 'ROBBERY', 'FRAUD', 'BURGLARY', 'VEHICLE THEFT',\n",
       "       'RECOVERED VEHICLE', 'VANDALISM', 'ARSON', 'DRUG/NARCOTIC',\n",
       "       'PROSTITUTION', 'SECONDARY CODES', 'SUSPICIOUS OCC', 'TRESPASS',\n",
       "       'DRUNKENNESS', 'SEX OFFENSES, NON FORCIBLE',\n",
       "       'SEX OFFENSES, FORCIBLE', 'RUNAWAY', 'DRIVING UNDER THE INFLUENCE',\n",
       "       'FORGERY/COUNTERFEITING', 'DISORDERLY CONDUCT', 'BRIBERY',\n",
       "       'FAMILY OFFENSES', 'GAMBLING', 'KIDNAPPING', 'EMBEZZLEMENT',\n",
       "       'SUICIDE', 'EXTORTION', 'LIQUOR LAWS', 'LOITERING', 'BAD CHECKS',\n",
       "       'PORNOGRAPHY/OBSCENE MAT', 'TREA'], dtype=object)"
      ]
     },
     "execution_count": 24,
     "metadata": {},
     "output_type": "execute_result"
    }
   ],
   "source": [
    "df33.category.unique()"
   ]
  },
  {
   "cell_type": "code",
   "execution_count": 25,
   "metadata": {
    "collapsed": true
   },
   "outputs": [
    {
     "data": {
      "text/plain": [
       "LARCENY/THEFT                  28.929375\n",
       "OTHER OFFENSES                 12.905837\n",
       "NON-CRIMINAL                   11.865478\n",
       "ASSAULT                         8.642392\n",
       "VANDALISM                       5.558413\n",
       "VEHICLE THEFT                   4.402553\n",
       "WARRANTS                        3.862140\n",
       "SUSPICIOUS OCC                  3.707014\n",
       "BURGLARY                        3.443973\n",
       "DRUG/NARCOTIC                   2.766139\n",
       "MISSING PERSON                  2.754336\n",
       "ROBBERY                         2.041935\n",
       "FRAUD                           1.857301\n",
       "SECONDARY CODES                 1.188740\n",
       "WEAPON LAWS                     1.106118\n",
       "TRESPASS                        0.886918\n",
       "STOLEN PROPERTY                 0.564862\n",
       "SEX OFFENSES, FORCIBLE          0.558118\n",
       "PROSTITUTION                    0.510062\n",
       "FORGERY/COUNTERFEITING          0.435871\n",
       "RECOVERED VEHICLE               0.435028\n",
       "DRUNKENNESS                     0.284960\n",
       "DRIVING UNDER THE INFLUENCE     0.228474\n",
       "DISORDERLY CONDUCT              0.195594\n",
       "KIDNAPPING                      0.157656\n",
       "ARSON                           0.123089\n",
       "EMBEZZLEMENT                    0.121403\n",
       "LIQUOR LAWS                     0.110443\n",
       "RUNAWAY                         0.087680\n",
       "EXTORTION                       0.044683\n",
       "BRIBERY                         0.042154\n",
       "SUICIDE                         0.042154\n",
       "FAMILY OFFENSES                 0.041311\n",
       "SEX OFFENSES, NON FORCIBLE      0.028665\n",
       "BAD CHECKS                      0.025292\n",
       "LOITERING                       0.022763\n",
       "GAMBLING                        0.016862\n",
       "PORNOGRAPHY/OBSCENE MAT         0.003372\n",
       "TREA                            0.000843\n",
       "Name: category, dtype: float64"
      ]
     },
     "execution_count": 25,
     "metadata": {},
     "output_type": "execute_result"
    }
   ],
   "source": [
    "(df33['category'].value_counts()/df33['category'].count())*100"
   ]
  },
  {
   "cell_type": "code",
   "execution_count": 26,
   "metadata": {},
   "outputs": [],
   "source": [
    "# Dropping less frequency variable from category\n",
    "\n",
    "df4=df33.drop(df33[df33.category.isin([\"SEX OFFENSES, FORCIBLE\",\"STOLEN PROPERTY\",\"RECOVERED VEHICLE\",\"DISORDERLY CONDUCT\",\n",
    "                                    \"PROSTITUTION\",\"FORGERY/COUNTERFEITING\",\"DRUNKENNESS\",\"DRIVING UNDER THE INFLUENCE\",\"ARSON\",\"KIDNAPPING\",\"EMBEZZLEMENT\",\n",
    "          \"LIQUOR LAWS\",\"RUNAWAY\",\"SUICIDE\",\"BRIBERY\",\"EXTORTION\",\"FAMILY OFFENSE\",\"LOITERING\",\"SEX OFFENSES, NON FORCIBLE\",\n",
    "          \"BAD CHECKS\",\"GAMBLING\",\"PORNOGRAPHY/OBSCENE MAT\",\"TREA\",\"MISSING PERSON\",\"DRUG/NARCOTIC\",\"ROBBERY\",\"FRAUD\",\n",
    "        \"SECONDARY CODES\",\"TRESPASS\",\"FAMILY OFFENSES\",\"WEAPON LAWS\"\n",
    "                                   ])].index)"
   ]
  },
  {
   "cell_type": "code",
   "execution_count": 27,
   "metadata": {
    "collapsed": true
   },
   "outputs": [
    {
     "data": {
      "text/plain": [
       "array(['WARRANTS', 'NON-CRIMINAL', 'ASSAULT', 'OTHER OFFENSES',\n",
       "       'LARCENY/THEFT', 'BURGLARY', 'VEHICLE THEFT', 'VANDALISM',\n",
       "       'SUSPICIOUS OCC'], dtype=object)"
      ]
     },
     "execution_count": 27,
     "metadata": {},
     "output_type": "execute_result"
    }
   ],
   "source": [
    "df4.category.unique()"
   ]
  },
  {
   "cell_type": "code",
   "execution_count": 28,
   "metadata": {
    "collapsed": true
   },
   "outputs": [
    {
     "data": {
      "text/plain": [
       "LARCENY/THEFT     34.721983\n",
       "OTHER OFFENSES    15.490008\n",
       "NON-CRIMINAL      14.241336\n",
       "ASSAULT           10.372881\n",
       "VANDALISM          6.671389\n",
       "VEHICLE THEFT      5.284088\n",
       "WARRANTS           4.635467\n",
       "SUSPICIOUS OCC     4.449279\n",
       "BURGLARY           4.133569\n",
       "Name: category, dtype: float64"
      ]
     },
     "execution_count": 28,
     "metadata": {},
     "output_type": "execute_result"
    }
   ],
   "source": [
    "(df4['category'].value_counts()/df4['category'].count())*100"
   ]
  },
  {
   "cell_type": "code",
   "execution_count": 29,
   "metadata": {
    "collapsed": true
   },
   "outputs": [
    {
     "data": {
      "text/plain": [
       "array(['ARREST, BOOKED', 'NONE', 'JUVENILE BOOKED', 'UNFOUNDED',\n",
       "       'ARREST, CITED', 'CLEARED-CONTACT JUVENILE FOR MORE INFO',\n",
       "       'EXCEPTIONAL CLEARANCE', 'COMPLAINANT REFUSES TO PROSECUTE',\n",
       "       'LOCATED', 'NOT PROSECUTED', 'PSYCHOPATHIC CASE', 'JUVENILE CITED'],\n",
       "      dtype=object)"
      ]
     },
     "execution_count": 29,
     "metadata": {},
     "output_type": "execute_result"
    }
   ],
   "source": [
    "df4.resolution.unique()"
   ]
  },
  {
   "cell_type": "code",
   "execution_count": 30,
   "metadata": {
    "collapsed": true
   },
   "outputs": [
    {
     "data": {
      "text/plain": [
       "NONE                                      75.842145\n",
       "ARREST, BOOKED                            22.300025\n",
       "UNFOUNDED                                  0.994688\n",
       "JUVENILE BOOKED                            0.522135\n",
       "EXCEPTIONAL CLEARANCE                      0.205414\n",
       "ARREST, CITED                              0.098153\n",
       "CLEARED-CONTACT JUVENILE FOR MORE INFO     0.016190\n",
       "NOT PROSECUTED                             0.007083\n",
       "PSYCHOPATHIC CASE                          0.007083\n",
       "JUVENILE CITED                             0.003036\n",
       "COMPLAINANT REFUSES TO PROSECUTE           0.002024\n",
       "LOCATED                                    0.002024\n",
       "Name: resolution, dtype: float64"
      ]
     },
     "execution_count": 30,
     "metadata": {},
     "output_type": "execute_result"
    }
   ],
   "source": [
    "(df4['resolution'].value_counts()/df4['resolution'].count())*100"
   ]
  },
  {
   "cell_type": "code",
   "execution_count": 31,
   "metadata": {},
   "outputs": [],
   "source": [
    "# Dropping less frequency variable from resolution\n",
    "\n",
    "df5=df4.drop(df4[df4.resolution.isin([\"CLEARED-CONTACT JUVENILE FOR MORE INFO\",\"NOT PROSECUTED\",\"LOCATED\",\n",
    "                                      \"PSYCHOPATHIC CASE\",\"JUVENILE CITED\",\"COMPLAINANT REFUSES TO PROSECUTE\",\n",
    "                                      \"JUVENILE DIVERTED\",\"PROSECUTED BY OUTSIDE AGENCY\",\"UNFOUNDED\",\"JUVENILE BOOKED\",\n",
    "                                      \"EXCEPTIONAL CLEARANCE\",\"ARREST, CITED\",\"CLEARED-CONTACT JUVENILE FOR MORE INFO\",\n",
    "                                    \"NOT PROSECUTED\",\"LOCATED\",\"PSYCHOPATHIC CASE\",\"JUVENILE CITED\",\n",
    "                                      \"COMPLAINANT REFUSES TO PROSECUTE\",\"JUVENILE DIVERTED\",\"PROSECUTED BY OUTSIDE AGENCY\"\n",
    "])].index)"
   ]
  },
  {
   "cell_type": "code",
   "execution_count": 32,
   "metadata": {
    "collapsed": true
   },
   "outputs": [
    {
     "data": {
      "text/plain": [
       "array(['ARREST, BOOKED', 'NONE'], dtype=object)"
      ]
     },
     "execution_count": 32,
     "metadata": {},
     "output_type": "execute_result"
    }
   ],
   "source": [
    "df5.resolution.unique()"
   ]
  },
  {
   "cell_type": "code",
   "execution_count": 33,
   "metadata": {
    "collapsed": true
   },
   "outputs": [
    {
     "data": {
      "text/plain": [
       "NONE              77.277836\n",
       "ARREST, BOOKED    22.722164\n",
       "Name: resolution, dtype: float64"
      ]
     },
     "execution_count": 33,
     "metadata": {},
     "output_type": "execute_result"
    }
   ],
   "source": [
    "(df5['resolution'].value_counts()/df5['resolution'].count())*100"
   ]
  },
  {
   "cell_type": "code",
   "execution_count": 34,
   "metadata": {
    "collapsed": true
   },
   "outputs": [
    {
     "data": {
      "text/plain": [
       "array(['BAYVIEW', 'TENDERLOIN', 'MISSION', 'NORTHERN', 'SOUTHERN',\n",
       "       'TARAVAL', 'INGLESIDE', 'CENTRAL', 'PARK', 'RICHMOND', nan],\n",
       "      dtype=object)"
      ]
     },
     "execution_count": 34,
     "metadata": {},
     "output_type": "execute_result"
    }
   ],
   "source": [
    "df5.department_district.unique()"
   ]
  },
  {
   "cell_type": "code",
   "execution_count": 35,
   "metadata": {
    "collapsed": true
   },
   "outputs": [
    {
     "data": {
      "text/plain": [
       "SOUTHERN      19.158040\n",
       "NORTHERN      13.681074\n",
       "CENTRAL       12.707758\n",
       "MISSION       12.023137\n",
       "BAYVIEW        9.201138\n",
       "TARAVAL        7.521549\n",
       "INGLESIDE      7.485462\n",
       "RICHMOND       6.539984\n",
       "TENDERLOIN     5.955376\n",
       "PARK           5.726482\n",
       "Name: department_district, dtype: float64"
      ]
     },
     "execution_count": 35,
     "metadata": {},
     "output_type": "execute_result"
    }
   ],
   "source": [
    "(df5['department_district'].value_counts()/df5['department_district'].count())*100"
   ]
  },
  {
   "cell_type": "code",
   "execution_count": 36,
   "metadata": {},
   "outputs": [],
   "source": [
    "df6=df5.drop(df5[df5.department_district.isin([\"TENDERLOIN\",'RICHMOND', 'PARK'\n",
    "])].index)"
   ]
  },
  {
   "cell_type": "code",
   "execution_count": 37,
   "metadata": {
    "collapsed": true
   },
   "outputs": [
    {
     "data": {
      "text/plain": [
       "array(['BAYVIEW', 'MISSION', 'NORTHERN', 'SOUTHERN', 'TARAVAL',\n",
       "       'INGLESIDE', 'CENTRAL', nan], dtype=object)"
      ]
     },
     "execution_count": 37,
     "metadata": {},
     "output_type": "execute_result"
    }
   ],
   "source": [
    "df6.department_district.unique()"
   ]
  },
  {
   "cell_type": "code",
   "execution_count": 38,
   "metadata": {
    "collapsed": true
   },
   "outputs": [
    {
     "data": {
      "text/plain": [
       "SOUTHERN     23.426842\n",
       "NORTHERN     16.729496\n",
       "CENTRAL      15.539305\n",
       "MISSION      14.702137\n",
       "BAYVIEW      11.251340\n",
       "TARAVAL       9.197504\n",
       "INGLESIDE     9.153376\n",
       "Name: department_district, dtype: float64"
      ]
     },
     "execution_count": 38,
     "metadata": {},
     "output_type": "execute_result"
    }
   ],
   "source": [
    "(df6['department_district'].value_counts()/df6['department_district'].count())*100"
   ]
  },
  {
   "cell_type": "code",
   "execution_count": 39,
   "metadata": {
    "collapsed": true
   },
   "outputs": [
    {
     "data": {
      "text/html": [
       "<div>\n",
       "<style scoped>\n",
       "    .dataframe tbody tr th:only-of-type {\n",
       "        vertical-align: middle;\n",
       "    }\n",
       "\n",
       "    .dataframe tbody tr th {\n",
       "        vertical-align: top;\n",
       "    }\n",
       "\n",
       "    .dataframe thead th {\n",
       "        text-align: right;\n",
       "    }\n",
       "</style>\n",
       "<table border=\"1\" class=\"dataframe\">\n",
       "  <thead>\n",
       "    <tr style=\"text-align: right;\">\n",
       "      <th></th>\n",
       "      <th>category</th>\n",
       "      <th>crime_date</th>\n",
       "      <th>department_district</th>\n",
       "      <th>resolution</th>\n",
       "      <th>month</th>\n",
       "      <th>Day</th>\n",
       "      <th>day_of_week</th>\n",
       "      <th>hour</th>\n",
       "    </tr>\n",
       "  </thead>\n",
       "  <tbody>\n",
       "    <tr>\n",
       "      <th>2</th>\n",
       "      <td>WARRANTS</td>\n",
       "      <td>2016-04-25 14:59:00</td>\n",
       "      <td>BAYVIEW</td>\n",
       "      <td>ARREST, BOOKED</td>\n",
       "      <td>April</td>\n",
       "      <td>25</td>\n",
       "      <td>Monday</td>\n",
       "      <td>14</td>\n",
       "    </tr>\n",
       "    <tr>\n",
       "      <th>4</th>\n",
       "      <td>NON-CRIMINAL</td>\n",
       "      <td>2016-01-01 00:30:00</td>\n",
       "      <td>MISSION</td>\n",
       "      <td>NONE</td>\n",
       "      <td>Jan</td>\n",
       "      <td>1</td>\n",
       "      <td>Friday</td>\n",
       "      <td>0</td>\n",
       "    </tr>\n",
       "    <tr>\n",
       "      <th>5</th>\n",
       "      <td>ASSAULT</td>\n",
       "      <td>2016-01-01 21:35:00</td>\n",
       "      <td>NORTHERN</td>\n",
       "      <td>NONE</td>\n",
       "      <td>Jan</td>\n",
       "      <td>1</td>\n",
       "      <td>Friday</td>\n",
       "      <td>21</td>\n",
       "    </tr>\n",
       "    <tr>\n",
       "      <th>6</th>\n",
       "      <td>OTHER OFFENSES</td>\n",
       "      <td>2016-01-02 00:04:00</td>\n",
       "      <td>SOUTHERN</td>\n",
       "      <td>ARREST, BOOKED</td>\n",
       "      <td>Jan</td>\n",
       "      <td>2</td>\n",
       "      <td>Saturday</td>\n",
       "      <td>0</td>\n",
       "    </tr>\n",
       "    <tr>\n",
       "      <th>8</th>\n",
       "      <td>WARRANTS</td>\n",
       "      <td>2016-01-02 12:21:00</td>\n",
       "      <td>SOUTHERN</td>\n",
       "      <td>ARREST, BOOKED</td>\n",
       "      <td>Jan</td>\n",
       "      <td>2</td>\n",
       "      <td>Saturday</td>\n",
       "      <td>12</td>\n",
       "    </tr>\n",
       "  </tbody>\n",
       "</table>\n",
       "</div>"
      ],
      "text/plain": [
       "         category          crime_date department_district      resolution  \\\n",
       "2        WARRANTS 2016-04-25 14:59:00             BAYVIEW  ARREST, BOOKED   \n",
       "4    NON-CRIMINAL 2016-01-01 00:30:00             MISSION            NONE   \n",
       "5         ASSAULT 2016-01-01 21:35:00            NORTHERN            NONE   \n",
       "6  OTHER OFFENSES 2016-01-02 00:04:00            SOUTHERN  ARREST, BOOKED   \n",
       "8        WARRANTS 2016-01-02 12:21:00            SOUTHERN  ARREST, BOOKED   \n",
       "\n",
       "   month  Day day_of_week  hour  \n",
       "2  April   25      Monday    14  \n",
       "4    Jan    1      Friday     0  \n",
       "5    Jan    1      Friday    21  \n",
       "6    Jan    2    Saturday     0  \n",
       "8    Jan    2    Saturday    12  "
      ]
     },
     "execution_count": 39,
     "metadata": {},
     "output_type": "execute_result"
    }
   ],
   "source": [
    "df6.head()"
   ]
  },
  {
   "cell_type": "code",
   "execution_count": 40,
   "metadata": {},
   "outputs": [],
   "source": [
    "df7=df6.dropna()"
   ]
  },
  {
   "cell_type": "code",
   "execution_count": 41,
   "metadata": {
    "collapsed": true
   },
   "outputs": [
    {
     "data": {
      "text/html": [
       "<div>\n",
       "<style scoped>\n",
       "    .dataframe tbody tr th:only-of-type {\n",
       "        vertical-align: middle;\n",
       "    }\n",
       "\n",
       "    .dataframe tbody tr th {\n",
       "        vertical-align: top;\n",
       "    }\n",
       "\n",
       "    .dataframe thead th {\n",
       "        text-align: right;\n",
       "    }\n",
       "</style>\n",
       "<table border=\"1\" class=\"dataframe\">\n",
       "  <thead>\n",
       "    <tr style=\"text-align: right;\">\n",
       "      <th></th>\n",
       "      <th>category</th>\n",
       "      <th>crime_date</th>\n",
       "      <th>department_district</th>\n",
       "      <th>resolution</th>\n",
       "      <th>month</th>\n",
       "      <th>Day</th>\n",
       "      <th>day_of_week</th>\n",
       "      <th>hour</th>\n",
       "    </tr>\n",
       "  </thead>\n",
       "  <tbody>\n",
       "    <tr>\n",
       "      <th>2</th>\n",
       "      <td>WARRANTS</td>\n",
       "      <td>2016-04-25 14:59:00</td>\n",
       "      <td>BAYVIEW</td>\n",
       "      <td>ARREST, BOOKED</td>\n",
       "      <td>April</td>\n",
       "      <td>25</td>\n",
       "      <td>Monday</td>\n",
       "      <td>14</td>\n",
       "    </tr>\n",
       "    <tr>\n",
       "      <th>4</th>\n",
       "      <td>NON-CRIMINAL</td>\n",
       "      <td>2016-01-01 00:30:00</td>\n",
       "      <td>MISSION</td>\n",
       "      <td>NONE</td>\n",
       "      <td>Jan</td>\n",
       "      <td>1</td>\n",
       "      <td>Friday</td>\n",
       "      <td>0</td>\n",
       "    </tr>\n",
       "    <tr>\n",
       "      <th>5</th>\n",
       "      <td>ASSAULT</td>\n",
       "      <td>2016-01-01 21:35:00</td>\n",
       "      <td>NORTHERN</td>\n",
       "      <td>NONE</td>\n",
       "      <td>Jan</td>\n",
       "      <td>1</td>\n",
       "      <td>Friday</td>\n",
       "      <td>21</td>\n",
       "    </tr>\n",
       "    <tr>\n",
       "      <th>6</th>\n",
       "      <td>OTHER OFFENSES</td>\n",
       "      <td>2016-01-02 00:04:00</td>\n",
       "      <td>SOUTHERN</td>\n",
       "      <td>ARREST, BOOKED</td>\n",
       "      <td>Jan</td>\n",
       "      <td>2</td>\n",
       "      <td>Saturday</td>\n",
       "      <td>0</td>\n",
       "    </tr>\n",
       "    <tr>\n",
       "      <th>8</th>\n",
       "      <td>WARRANTS</td>\n",
       "      <td>2016-01-02 12:21:00</td>\n",
       "      <td>SOUTHERN</td>\n",
       "      <td>ARREST, BOOKED</td>\n",
       "      <td>Jan</td>\n",
       "      <td>2</td>\n",
       "      <td>Saturday</td>\n",
       "      <td>12</td>\n",
       "    </tr>\n",
       "  </tbody>\n",
       "</table>\n",
       "</div>"
      ],
      "text/plain": [
       "         category          crime_date department_district      resolution  \\\n",
       "2        WARRANTS 2016-04-25 14:59:00             BAYVIEW  ARREST, BOOKED   \n",
       "4    NON-CRIMINAL 2016-01-01 00:30:00             MISSION            NONE   \n",
       "5         ASSAULT 2016-01-01 21:35:00            NORTHERN            NONE   \n",
       "6  OTHER OFFENSES 2016-01-02 00:04:00            SOUTHERN  ARREST, BOOKED   \n",
       "8        WARRANTS 2016-01-02 12:21:00            SOUTHERN  ARREST, BOOKED   \n",
       "\n",
       "   month  Day day_of_week  hour  \n",
       "2  April   25      Monday    14  \n",
       "4    Jan    1      Friday     0  \n",
       "5    Jan    1      Friday    21  \n",
       "6    Jan    2    Saturday     0  \n",
       "8    Jan    2    Saturday    12  "
      ]
     },
     "execution_count": 41,
     "metadata": {},
     "output_type": "execute_result"
    }
   ],
   "source": [
    "df7.head()"
   ]
  },
  {
   "cell_type": "markdown",
   "metadata": {},
   "source": [
    "# Variable conversion to binary"
   ]
  },
  {
   "cell_type": "code",
   "execution_count": 44,
   "metadata": {
    "collapsed": true
   },
   "outputs": [
    {
     "data": {
      "text/html": [
       "<div>\n",
       "<style scoped>\n",
       "    .dataframe tbody tr th:only-of-type {\n",
       "        vertical-align: middle;\n",
       "    }\n",
       "\n",
       "    .dataframe tbody tr th {\n",
       "        vertical-align: top;\n",
       "    }\n",
       "\n",
       "    .dataframe thead th {\n",
       "        text-align: right;\n",
       "    }\n",
       "</style>\n",
       "<table border=\"1\" class=\"dataframe\">\n",
       "  <thead>\n",
       "    <tr style=\"text-align: right;\">\n",
       "      <th></th>\n",
       "      <th>Friday</th>\n",
       "      <th>Monday</th>\n",
       "      <th>Saturday</th>\n",
       "      <th>Sunday</th>\n",
       "      <th>Thursday</th>\n",
       "      <th>Tuesday</th>\n",
       "      <th>Wednesday</th>\n",
       "    </tr>\n",
       "  </thead>\n",
       "  <tbody>\n",
       "    <tr>\n",
       "      <th>0</th>\n",
       "      <td>0</td>\n",
       "      <td>1</td>\n",
       "      <td>0</td>\n",
       "      <td>0</td>\n",
       "      <td>0</td>\n",
       "      <td>0</td>\n",
       "      <td>0</td>\n",
       "    </tr>\n",
       "    <tr>\n",
       "      <th>1</th>\n",
       "      <td>1</td>\n",
       "      <td>0</td>\n",
       "      <td>0</td>\n",
       "      <td>0</td>\n",
       "      <td>0</td>\n",
       "      <td>0</td>\n",
       "      <td>0</td>\n",
       "    </tr>\n",
       "    <tr>\n",
       "      <th>2</th>\n",
       "      <td>1</td>\n",
       "      <td>0</td>\n",
       "      <td>0</td>\n",
       "      <td>0</td>\n",
       "      <td>0</td>\n",
       "      <td>0</td>\n",
       "      <td>0</td>\n",
       "    </tr>\n",
       "    <tr>\n",
       "      <th>3</th>\n",
       "      <td>0</td>\n",
       "      <td>0</td>\n",
       "      <td>1</td>\n",
       "      <td>0</td>\n",
       "      <td>0</td>\n",
       "      <td>0</td>\n",
       "      <td>0</td>\n",
       "    </tr>\n",
       "    <tr>\n",
       "      <th>4</th>\n",
       "      <td>0</td>\n",
       "      <td>0</td>\n",
       "      <td>1</td>\n",
       "      <td>0</td>\n",
       "      <td>0</td>\n",
       "      <td>0</td>\n",
       "      <td>0</td>\n",
       "    </tr>\n",
       "  </tbody>\n",
       "</table>\n",
       "</div>"
      ],
      "text/plain": [
       "   Friday  Monday  Saturday  Sunday  Thursday  Tuesday  Wednesday\n",
       "0       0       1         0       0         0        0          0\n",
       "1       1       0         0       0         0        0          0\n",
       "2       1       0         0       0         0        0          0\n",
       "3       0       0         1       0         0        0          0\n",
       "4       0       0         1       0         0        0          0"
      ]
     },
     "execution_count": 44,
     "metadata": {},
     "output_type": "execute_result"
    }
   ],
   "source": [
    "# For day_of_week\n",
    "from sklearn.preprocessing import LabelBinarizer\n",
    "\n",
    "lb_style = LabelBinarizer()\n",
    "lb_results = lb_style.fit_transform(df7[\"day_of_week\"])\n",
    "dfw=pd.DataFrame(lb_results, columns=lb_style.classes_)\n",
    "dfw.head()"
   ]
  },
  {
   "cell_type": "code",
   "execution_count": null,
   "metadata": {},
   "outputs": [],
   "source": []
  },
  {
   "cell_type": "code",
   "execution_count": 45,
   "metadata": {
    "collapsed": true
   },
   "outputs": [
    {
     "data": {
      "text/html": [
       "<div>\n",
       "<style scoped>\n",
       "    .dataframe tbody tr th:only-of-type {\n",
       "        vertical-align: middle;\n",
       "    }\n",
       "\n",
       "    .dataframe tbody tr th {\n",
       "        vertical-align: top;\n",
       "    }\n",
       "\n",
       "    .dataframe thead th {\n",
       "        text-align: right;\n",
       "    }\n",
       "</style>\n",
       "<table border=\"1\" class=\"dataframe\">\n",
       "  <thead>\n",
       "    <tr style=\"text-align: right;\">\n",
       "      <th></th>\n",
       "      <th>ASSAULT</th>\n",
       "      <th>BURGLARY</th>\n",
       "      <th>LARCENY/THEFT</th>\n",
       "      <th>NON-CRIMINAL</th>\n",
       "      <th>OTHER OFFENSES</th>\n",
       "      <th>SUSPICIOUS OCC</th>\n",
       "      <th>VANDALISM</th>\n",
       "      <th>VEHICLE THEFT</th>\n",
       "      <th>WARRANTS</th>\n",
       "    </tr>\n",
       "  </thead>\n",
       "  <tbody>\n",
       "    <tr>\n",
       "      <th>0</th>\n",
       "      <td>0</td>\n",
       "      <td>0</td>\n",
       "      <td>0</td>\n",
       "      <td>0</td>\n",
       "      <td>0</td>\n",
       "      <td>0</td>\n",
       "      <td>0</td>\n",
       "      <td>0</td>\n",
       "      <td>1</td>\n",
       "    </tr>\n",
       "    <tr>\n",
       "      <th>1</th>\n",
       "      <td>0</td>\n",
       "      <td>0</td>\n",
       "      <td>0</td>\n",
       "      <td>1</td>\n",
       "      <td>0</td>\n",
       "      <td>0</td>\n",
       "      <td>0</td>\n",
       "      <td>0</td>\n",
       "      <td>0</td>\n",
       "    </tr>\n",
       "    <tr>\n",
       "      <th>2</th>\n",
       "      <td>1</td>\n",
       "      <td>0</td>\n",
       "      <td>0</td>\n",
       "      <td>0</td>\n",
       "      <td>0</td>\n",
       "      <td>0</td>\n",
       "      <td>0</td>\n",
       "      <td>0</td>\n",
       "      <td>0</td>\n",
       "    </tr>\n",
       "    <tr>\n",
       "      <th>3</th>\n",
       "      <td>0</td>\n",
       "      <td>0</td>\n",
       "      <td>0</td>\n",
       "      <td>0</td>\n",
       "      <td>1</td>\n",
       "      <td>0</td>\n",
       "      <td>0</td>\n",
       "      <td>0</td>\n",
       "      <td>0</td>\n",
       "    </tr>\n",
       "    <tr>\n",
       "      <th>4</th>\n",
       "      <td>0</td>\n",
       "      <td>0</td>\n",
       "      <td>0</td>\n",
       "      <td>0</td>\n",
       "      <td>0</td>\n",
       "      <td>0</td>\n",
       "      <td>0</td>\n",
       "      <td>0</td>\n",
       "      <td>1</td>\n",
       "    </tr>\n",
       "  </tbody>\n",
       "</table>\n",
       "</div>"
      ],
      "text/plain": [
       "   ASSAULT  BURGLARY  LARCENY/THEFT  NON-CRIMINAL  OTHER OFFENSES  \\\n",
       "0        0         0              0             0               0   \n",
       "1        0         0              0             1               0   \n",
       "2        1         0              0             0               0   \n",
       "3        0         0              0             0               1   \n",
       "4        0         0              0             0               0   \n",
       "\n",
       "   SUSPICIOUS OCC  VANDALISM  VEHICLE THEFT  WARRANTS  \n",
       "0               0          0              0         1  \n",
       "1               0          0              0         0  \n",
       "2               0          0              0         0  \n",
       "3               0          0              0         0  \n",
       "4               0          0              0         1  "
      ]
     },
     "execution_count": 45,
     "metadata": {},
     "output_type": "execute_result"
    }
   ],
   "source": [
    "# For category\n",
    "\n",
    "lb_style = LabelBinarizer()\n",
    "lb_results = lb_style.fit_transform(df7[\"category\"])\n",
    "ctg=pd.DataFrame(lb_results, columns=lb_style.classes_)\n",
    "ctg.head()"
   ]
  },
  {
   "cell_type": "code",
   "execution_count": 46,
   "metadata": {
    "collapsed": true
   },
   "outputs": [
    {
     "data": {
      "text/html": [
       "<div>\n",
       "<style scoped>\n",
       "    .dataframe tbody tr th:only-of-type {\n",
       "        vertical-align: middle;\n",
       "    }\n",
       "\n",
       "    .dataframe tbody tr th {\n",
       "        vertical-align: top;\n",
       "    }\n",
       "\n",
       "    .dataframe thead th {\n",
       "        text-align: right;\n",
       "    }\n",
       "</style>\n",
       "<table border=\"1\" class=\"dataframe\">\n",
       "  <thead>\n",
       "    <tr style=\"text-align: right;\">\n",
       "      <th></th>\n",
       "      <th>April</th>\n",
       "      <th>Aug</th>\n",
       "      <th>Dec</th>\n",
       "      <th>Feb</th>\n",
       "      <th>Jan</th>\n",
       "      <th>July</th>\n",
       "      <th>June</th>\n",
       "      <th>Mar</th>\n",
       "      <th>May</th>\n",
       "      <th>Nov</th>\n",
       "      <th>Oct</th>\n",
       "      <th>Sep</th>\n",
       "    </tr>\n",
       "  </thead>\n",
       "  <tbody>\n",
       "    <tr>\n",
       "      <th>0</th>\n",
       "      <td>1</td>\n",
       "      <td>0</td>\n",
       "      <td>0</td>\n",
       "      <td>0</td>\n",
       "      <td>0</td>\n",
       "      <td>0</td>\n",
       "      <td>0</td>\n",
       "      <td>0</td>\n",
       "      <td>0</td>\n",
       "      <td>0</td>\n",
       "      <td>0</td>\n",
       "      <td>0</td>\n",
       "    </tr>\n",
       "    <tr>\n",
       "      <th>1</th>\n",
       "      <td>0</td>\n",
       "      <td>0</td>\n",
       "      <td>0</td>\n",
       "      <td>0</td>\n",
       "      <td>1</td>\n",
       "      <td>0</td>\n",
       "      <td>0</td>\n",
       "      <td>0</td>\n",
       "      <td>0</td>\n",
       "      <td>0</td>\n",
       "      <td>0</td>\n",
       "      <td>0</td>\n",
       "    </tr>\n",
       "    <tr>\n",
       "      <th>2</th>\n",
       "      <td>0</td>\n",
       "      <td>0</td>\n",
       "      <td>0</td>\n",
       "      <td>0</td>\n",
       "      <td>1</td>\n",
       "      <td>0</td>\n",
       "      <td>0</td>\n",
       "      <td>0</td>\n",
       "      <td>0</td>\n",
       "      <td>0</td>\n",
       "      <td>0</td>\n",
       "      <td>0</td>\n",
       "    </tr>\n",
       "    <tr>\n",
       "      <th>3</th>\n",
       "      <td>0</td>\n",
       "      <td>0</td>\n",
       "      <td>0</td>\n",
       "      <td>0</td>\n",
       "      <td>1</td>\n",
       "      <td>0</td>\n",
       "      <td>0</td>\n",
       "      <td>0</td>\n",
       "      <td>0</td>\n",
       "      <td>0</td>\n",
       "      <td>0</td>\n",
       "      <td>0</td>\n",
       "    </tr>\n",
       "    <tr>\n",
       "      <th>4</th>\n",
       "      <td>0</td>\n",
       "      <td>0</td>\n",
       "      <td>0</td>\n",
       "      <td>0</td>\n",
       "      <td>1</td>\n",
       "      <td>0</td>\n",
       "      <td>0</td>\n",
       "      <td>0</td>\n",
       "      <td>0</td>\n",
       "      <td>0</td>\n",
       "      <td>0</td>\n",
       "      <td>0</td>\n",
       "    </tr>\n",
       "  </tbody>\n",
       "</table>\n",
       "</div>"
      ],
      "text/plain": [
       "   April  Aug  Dec  Feb  Jan  July  June  Mar  May  Nov  Oct  Sep\n",
       "0      1    0    0    0    0     0     0    0    0    0    0    0\n",
       "1      0    0    0    0    1     0     0    0    0    0    0    0\n",
       "2      0    0    0    0    1     0     0    0    0    0    0    0\n",
       "3      0    0    0    0    1     0     0    0    0    0    0    0\n",
       "4      0    0    0    0    1     0     0    0    0    0    0    0"
      ]
     },
     "execution_count": 46,
     "metadata": {},
     "output_type": "execute_result"
    }
   ],
   "source": [
    "# For month\n",
    "from sklearn.preprocessing import LabelBinarizer\n",
    "\n",
    "lb_style = LabelBinarizer()\n",
    "lb_results = lb_style.fit_transform(df7[\"month\"])\n",
    "mth=pd.DataFrame(lb_results, columns=lb_style.classes_)\n",
    "mth.head()"
   ]
  },
  {
   "cell_type": "code",
   "execution_count": 47,
   "metadata": {
    "collapsed": true
   },
   "outputs": [
    {
     "data": {
      "text/html": [
       "<div>\n",
       "<style scoped>\n",
       "    .dataframe tbody tr th:only-of-type {\n",
       "        vertical-align: middle;\n",
       "    }\n",
       "\n",
       "    .dataframe tbody tr th {\n",
       "        vertical-align: top;\n",
       "    }\n",
       "\n",
       "    .dataframe thead th {\n",
       "        text-align: right;\n",
       "    }\n",
       "</style>\n",
       "<table border=\"1\" class=\"dataframe\">\n",
       "  <thead>\n",
       "    <tr style=\"text-align: right;\">\n",
       "      <th></th>\n",
       "      <th>BAYVIEW</th>\n",
       "      <th>CENTRAL</th>\n",
       "      <th>INGLESIDE</th>\n",
       "      <th>MISSION</th>\n",
       "      <th>NORTHERN</th>\n",
       "      <th>SOUTHERN</th>\n",
       "      <th>TARAVAL</th>\n",
       "    </tr>\n",
       "  </thead>\n",
       "  <tbody>\n",
       "    <tr>\n",
       "      <th>0</th>\n",
       "      <td>1</td>\n",
       "      <td>0</td>\n",
       "      <td>0</td>\n",
       "      <td>0</td>\n",
       "      <td>0</td>\n",
       "      <td>0</td>\n",
       "      <td>0</td>\n",
       "    </tr>\n",
       "    <tr>\n",
       "      <th>1</th>\n",
       "      <td>0</td>\n",
       "      <td>0</td>\n",
       "      <td>0</td>\n",
       "      <td>1</td>\n",
       "      <td>0</td>\n",
       "      <td>0</td>\n",
       "      <td>0</td>\n",
       "    </tr>\n",
       "    <tr>\n",
       "      <th>2</th>\n",
       "      <td>0</td>\n",
       "      <td>0</td>\n",
       "      <td>0</td>\n",
       "      <td>0</td>\n",
       "      <td>1</td>\n",
       "      <td>0</td>\n",
       "      <td>0</td>\n",
       "    </tr>\n",
       "    <tr>\n",
       "      <th>3</th>\n",
       "      <td>0</td>\n",
       "      <td>0</td>\n",
       "      <td>0</td>\n",
       "      <td>0</td>\n",
       "      <td>0</td>\n",
       "      <td>1</td>\n",
       "      <td>0</td>\n",
       "    </tr>\n",
       "    <tr>\n",
       "      <th>4</th>\n",
       "      <td>0</td>\n",
       "      <td>0</td>\n",
       "      <td>0</td>\n",
       "      <td>0</td>\n",
       "      <td>0</td>\n",
       "      <td>1</td>\n",
       "      <td>0</td>\n",
       "    </tr>\n",
       "  </tbody>\n",
       "</table>\n",
       "</div>"
      ],
      "text/plain": [
       "   BAYVIEW  CENTRAL  INGLESIDE  MISSION  NORTHERN  SOUTHERN  TARAVAL\n",
       "0        1        0          0        0         0         0        0\n",
       "1        0        0          0        1         0         0        0\n",
       "2        0        0          0        0         1         0        0\n",
       "3        0        0          0        0         0         1        0\n",
       "4        0        0          0        0         0         1        0"
      ]
     },
     "execution_count": 47,
     "metadata": {},
     "output_type": "execute_result"
    }
   ],
   "source": [
    "# For department_district\n",
    "from sklearn.preprocessing import LabelBinarizer\n",
    "\n",
    "lb_style = LabelBinarizer()\n",
    "lb_results = lb_style.fit_transform(df7[\"department_district\"])\n",
    "dd=pd.DataFrame(lb_results, columns=lb_style.classes_)\n",
    "dd.head()"
   ]
  },
  {
   "cell_type": "code",
   "execution_count": null,
   "metadata": {},
   "outputs": [],
   "source": []
  },
  {
   "cell_type": "code",
   "execution_count": 48,
   "metadata": {},
   "outputs": [],
   "source": [
    "hr_gp={0:'0-3' ,1:'0-3' ,2:'0-3' ,3:'0-3' ,4:'4-7' ,5:'4-7' ,6:'4-7' ,7:'4-7' ,8:'8-11' ,9:'8-11' ,\n",
    "10:'8-11' ,11:'8-11' ,12:'12-15' ,13:'12-15',14:'12-15',15:'12-15',16:'16-19',17:'16-19',18:'16-19',\n",
    "      19:'16-19',20:'20-23',21:'20-23',22:'20-23',23:'20-23'}"
   ]
  },
  {
   "cell_type": "code",
   "execution_count": 49,
   "metadata": {
    "collapsed": true
   },
   "outputs": [
    {
     "name": "stderr",
     "output_type": "stream",
     "text": [
      "C:\\Users\\nikhil\\Anaconda3\\lib\\site-packages\\pandas\\core\\generic.py:5096: SettingWithCopyWarning: \n",
      "A value is trying to be set on a copy of a slice from a DataFrame.\n",
      "Try using .loc[row_indexer,col_indexer] = value instead\n",
      "\n",
      "See the caveats in the documentation: http://pandas.pydata.org/pandas-docs/stable/indexing.html#indexing-view-versus-copy\n",
      "  self[name] = value\n"
     ]
    }
   ],
   "source": [
    "df7.hour=[hr_gp[items] for items in df7.hour]"
   ]
  },
  {
   "cell_type": "code",
   "execution_count": 50,
   "metadata": {},
   "outputs": [
    {
     "data": {
      "text/plain": [
       "array(['12-15', '0-3', '20-23', '16-19', '8-11'], dtype=object)"
      ]
     },
     "execution_count": 50,
     "metadata": {},
     "output_type": "execute_result"
    }
   ],
   "source": [
    "df7.hour.unique()"
   ]
  },
  {
   "cell_type": "code",
   "execution_count": 51,
   "metadata": {
    "collapsed": true
   },
   "outputs": [
    {
     "data": {
      "text/html": [
       "<div>\n",
       "<style scoped>\n",
       "    .dataframe tbody tr th:only-of-type {\n",
       "        vertical-align: middle;\n",
       "    }\n",
       "\n",
       "    .dataframe tbody tr th {\n",
       "        vertical-align: top;\n",
       "    }\n",
       "\n",
       "    .dataframe thead th {\n",
       "        text-align: right;\n",
       "    }\n",
       "</style>\n",
       "<table border=\"1\" class=\"dataframe\">\n",
       "  <thead>\n",
       "    <tr style=\"text-align: right;\">\n",
       "      <th></th>\n",
       "      <th>0-3</th>\n",
       "      <th>12-15</th>\n",
       "      <th>16-19</th>\n",
       "      <th>20-23</th>\n",
       "      <th>8-11</th>\n",
       "    </tr>\n",
       "  </thead>\n",
       "  <tbody>\n",
       "    <tr>\n",
       "      <th>0</th>\n",
       "      <td>0</td>\n",
       "      <td>1</td>\n",
       "      <td>0</td>\n",
       "      <td>0</td>\n",
       "      <td>0</td>\n",
       "    </tr>\n",
       "    <tr>\n",
       "      <th>1</th>\n",
       "      <td>1</td>\n",
       "      <td>0</td>\n",
       "      <td>0</td>\n",
       "      <td>0</td>\n",
       "      <td>0</td>\n",
       "    </tr>\n",
       "    <tr>\n",
       "      <th>2</th>\n",
       "      <td>0</td>\n",
       "      <td>0</td>\n",
       "      <td>0</td>\n",
       "      <td>1</td>\n",
       "      <td>0</td>\n",
       "    </tr>\n",
       "    <tr>\n",
       "      <th>3</th>\n",
       "      <td>1</td>\n",
       "      <td>0</td>\n",
       "      <td>0</td>\n",
       "      <td>0</td>\n",
       "      <td>0</td>\n",
       "    </tr>\n",
       "    <tr>\n",
       "      <th>4</th>\n",
       "      <td>0</td>\n",
       "      <td>1</td>\n",
       "      <td>0</td>\n",
       "      <td>0</td>\n",
       "      <td>0</td>\n",
       "    </tr>\n",
       "  </tbody>\n",
       "</table>\n",
       "</div>"
      ],
      "text/plain": [
       "   0-3  12-15  16-19  20-23  8-11\n",
       "0    0      1      0      0     0\n",
       "1    1      0      0      0     0\n",
       "2    0      0      0      1     0\n",
       "3    1      0      0      0     0\n",
       "4    0      1      0      0     0"
      ]
     },
     "execution_count": 51,
     "metadata": {},
     "output_type": "execute_result"
    }
   ],
   "source": [
    "lb_style = LabelBinarizer()\n",
    "lb_results = lb_style.fit_transform(df7[\"hour\"])\n",
    "hrr=pd.DataFrame(lb_results, columns=lb_style.classes_)\n",
    "hrr.head()"
   ]
  },
  {
   "cell_type": "code",
   "execution_count": 52,
   "metadata": {},
   "outputs": [],
   "source": [
    "df8=df7"
   ]
  },
  {
   "cell_type": "code",
   "execution_count": 53,
   "metadata": {
    "collapsed": true
   },
   "outputs": [
    {
     "data": {
      "text/html": [
       "<div>\n",
       "<style scoped>\n",
       "    .dataframe tbody tr th:only-of-type {\n",
       "        vertical-align: middle;\n",
       "    }\n",
       "\n",
       "    .dataframe tbody tr th {\n",
       "        vertical-align: top;\n",
       "    }\n",
       "\n",
       "    .dataframe thead th {\n",
       "        text-align: right;\n",
       "    }\n",
       "</style>\n",
       "<table border=\"1\" class=\"dataframe\">\n",
       "  <thead>\n",
       "    <tr style=\"text-align: right;\">\n",
       "      <th></th>\n",
       "      <th>category</th>\n",
       "      <th>crime_date</th>\n",
       "      <th>department_district</th>\n",
       "      <th>resolution</th>\n",
       "      <th>month</th>\n",
       "      <th>Day</th>\n",
       "      <th>day_of_week</th>\n",
       "      <th>hour</th>\n",
       "    </tr>\n",
       "  </thead>\n",
       "  <tbody>\n",
       "    <tr>\n",
       "      <th>2</th>\n",
       "      <td>WARRANTS</td>\n",
       "      <td>2016-04-25 14:59:00</td>\n",
       "      <td>BAYVIEW</td>\n",
       "      <td>ARREST, BOOKED</td>\n",
       "      <td>April</td>\n",
       "      <td>25</td>\n",
       "      <td>Monday</td>\n",
       "      <td>12-15</td>\n",
       "    </tr>\n",
       "    <tr>\n",
       "      <th>4</th>\n",
       "      <td>NON-CRIMINAL</td>\n",
       "      <td>2016-01-01 00:30:00</td>\n",
       "      <td>MISSION</td>\n",
       "      <td>NONE</td>\n",
       "      <td>Jan</td>\n",
       "      <td>1</td>\n",
       "      <td>Friday</td>\n",
       "      <td>0-3</td>\n",
       "    </tr>\n",
       "    <tr>\n",
       "      <th>5</th>\n",
       "      <td>ASSAULT</td>\n",
       "      <td>2016-01-01 21:35:00</td>\n",
       "      <td>NORTHERN</td>\n",
       "      <td>NONE</td>\n",
       "      <td>Jan</td>\n",
       "      <td>1</td>\n",
       "      <td>Friday</td>\n",
       "      <td>20-23</td>\n",
       "    </tr>\n",
       "    <tr>\n",
       "      <th>6</th>\n",
       "      <td>OTHER OFFENSES</td>\n",
       "      <td>2016-01-02 00:04:00</td>\n",
       "      <td>SOUTHERN</td>\n",
       "      <td>ARREST, BOOKED</td>\n",
       "      <td>Jan</td>\n",
       "      <td>2</td>\n",
       "      <td>Saturday</td>\n",
       "      <td>0-3</td>\n",
       "    </tr>\n",
       "    <tr>\n",
       "      <th>8</th>\n",
       "      <td>WARRANTS</td>\n",
       "      <td>2016-01-02 12:21:00</td>\n",
       "      <td>SOUTHERN</td>\n",
       "      <td>ARREST, BOOKED</td>\n",
       "      <td>Jan</td>\n",
       "      <td>2</td>\n",
       "      <td>Saturday</td>\n",
       "      <td>12-15</td>\n",
       "    </tr>\n",
       "  </tbody>\n",
       "</table>\n",
       "</div>"
      ],
      "text/plain": [
       "         category          crime_date department_district      resolution  \\\n",
       "2        WARRANTS 2016-04-25 14:59:00             BAYVIEW  ARREST, BOOKED   \n",
       "4    NON-CRIMINAL 2016-01-01 00:30:00             MISSION            NONE   \n",
       "5         ASSAULT 2016-01-01 21:35:00            NORTHERN            NONE   \n",
       "6  OTHER OFFENSES 2016-01-02 00:04:00            SOUTHERN  ARREST, BOOKED   \n",
       "8        WARRANTS 2016-01-02 12:21:00            SOUTHERN  ARREST, BOOKED   \n",
       "\n",
       "   month  Day day_of_week   hour  \n",
       "2  April   25      Monday  12-15  \n",
       "4    Jan    1      Friday    0-3  \n",
       "5    Jan    1      Friday  20-23  \n",
       "6    Jan    2    Saturday    0-3  \n",
       "8    Jan    2    Saturday  12-15  "
      ]
     },
     "execution_count": 53,
     "metadata": {},
     "output_type": "execute_result"
    }
   ],
   "source": [
    "df8.head()"
   ]
  },
  {
   "cell_type": "code",
   "execution_count": 55,
   "metadata": {
    "collapsed": true
   },
   "outputs": [
    {
     "name": "stderr",
     "output_type": "stream",
     "text": [
      "C:\\Users\\nikhil\\Anaconda3\\lib\\site-packages\\ipykernel_launcher.py:2: SettingWithCopyWarning: \n",
      "A value is trying to be set on a copy of a slice from a DataFrame.\n",
      "Try using .loc[row_indexer,col_indexer] = value instead\n",
      "\n",
      "See the caveats in the documentation: http://pandas.pydata.org/pandas-docs/stable/indexing.html#indexing-view-versus-copy\n",
      "  \n"
     ]
    }
   ],
   "source": [
    "# For resolution taking variable criminal get arrested\n",
    "df8['res_arrest']=df7[\"resolution\"]\n",
    "#df12['res_none']=df12['resolution']"
   ]
  },
  {
   "cell_type": "code",
   "execution_count": 56,
   "metadata": {
    "collapsed": true
   },
   "outputs": [
    {
     "data": {
      "text/plain": [
       "array(['ARREST, BOOKED', 'NONE'], dtype=object)"
      ]
     },
     "execution_count": 56,
     "metadata": {},
     "output_type": "execute_result"
    }
   ],
   "source": [
    "df8[\"resolution\"].unique()"
   ]
  },
  {
   "cell_type": "code",
   "execution_count": 57,
   "metadata": {
    "collapsed": true
   },
   "outputs": [
    {
     "name": "stderr",
     "output_type": "stream",
     "text": [
      "C:\\Users\\nikhil\\Anaconda3\\lib\\site-packages\\pandas\\core\\generic.py:5096: SettingWithCopyWarning: \n",
      "A value is trying to be set on a copy of a slice from a DataFrame.\n",
      "Try using .loc[row_indexer,col_indexer] = value instead\n",
      "\n",
      "See the caveats in the documentation: http://pandas.pydata.org/pandas-docs/stable/indexing.html#indexing-view-versus-copy\n",
      "  self[name] = value\n"
     ]
    }
   ],
   "source": [
    "a_b={\"NONE\":0 ,\"ARREST, BOOKED\":1}\n",
    "df8.resolution=[a_b[items] for items in df8.resolution]"
   ]
  },
  {
   "cell_type": "code",
   "execution_count": 58,
   "metadata": {},
   "outputs": [],
   "source": [
    "rstt=df8['resolution']"
   ]
  },
  {
   "cell_type": "code",
   "execution_count": 59,
   "metadata": {
    "collapsed": true
   },
   "outputs": [
    {
     "data": {
      "text/plain": [
       "2    1\n",
       "4    0\n",
       "5    0\n",
       "6    1\n",
       "8    1\n",
       "Name: resolution, dtype: int64"
      ]
     },
     "execution_count": 59,
     "metadata": {},
     "output_type": "execute_result"
    }
   ],
   "source": [
    "rstt.head()"
   ]
  },
  {
   "cell_type": "code",
   "execution_count": 60,
   "metadata": {},
   "outputs": [],
   "source": [
    "df9=df7"
   ]
  },
  {
   "cell_type": "code",
   "execution_count": 61,
   "metadata": {
    "collapsed": true
   },
   "outputs": [
    {
     "data": {
      "text/html": [
       "<div>\n",
       "<style scoped>\n",
       "    .dataframe tbody tr th:only-of-type {\n",
       "        vertical-align: middle;\n",
       "    }\n",
       "\n",
       "    .dataframe tbody tr th {\n",
       "        vertical-align: top;\n",
       "    }\n",
       "\n",
       "    .dataframe thead th {\n",
       "        text-align: right;\n",
       "    }\n",
       "</style>\n",
       "<table border=\"1\" class=\"dataframe\">\n",
       "  <thead>\n",
       "    <tr style=\"text-align: right;\">\n",
       "      <th></th>\n",
       "      <th>category</th>\n",
       "      <th>crime_date</th>\n",
       "      <th>department_district</th>\n",
       "      <th>resolution</th>\n",
       "      <th>month</th>\n",
       "      <th>Day</th>\n",
       "      <th>day_of_week</th>\n",
       "      <th>hour</th>\n",
       "      <th>res_arrest</th>\n",
       "    </tr>\n",
       "  </thead>\n",
       "  <tbody>\n",
       "    <tr>\n",
       "      <th>2</th>\n",
       "      <td>WARRANTS</td>\n",
       "      <td>2016-04-25 14:59:00</td>\n",
       "      <td>BAYVIEW</td>\n",
       "      <td>1</td>\n",
       "      <td>April</td>\n",
       "      <td>25</td>\n",
       "      <td>Monday</td>\n",
       "      <td>12-15</td>\n",
       "      <td>ARREST, BOOKED</td>\n",
       "    </tr>\n",
       "    <tr>\n",
       "      <th>4</th>\n",
       "      <td>NON-CRIMINAL</td>\n",
       "      <td>2016-01-01 00:30:00</td>\n",
       "      <td>MISSION</td>\n",
       "      <td>0</td>\n",
       "      <td>Jan</td>\n",
       "      <td>1</td>\n",
       "      <td>Friday</td>\n",
       "      <td>0-3</td>\n",
       "      <td>NONE</td>\n",
       "    </tr>\n",
       "    <tr>\n",
       "      <th>5</th>\n",
       "      <td>ASSAULT</td>\n",
       "      <td>2016-01-01 21:35:00</td>\n",
       "      <td>NORTHERN</td>\n",
       "      <td>0</td>\n",
       "      <td>Jan</td>\n",
       "      <td>1</td>\n",
       "      <td>Friday</td>\n",
       "      <td>20-23</td>\n",
       "      <td>NONE</td>\n",
       "    </tr>\n",
       "    <tr>\n",
       "      <th>6</th>\n",
       "      <td>OTHER OFFENSES</td>\n",
       "      <td>2016-01-02 00:04:00</td>\n",
       "      <td>SOUTHERN</td>\n",
       "      <td>1</td>\n",
       "      <td>Jan</td>\n",
       "      <td>2</td>\n",
       "      <td>Saturday</td>\n",
       "      <td>0-3</td>\n",
       "      <td>ARREST, BOOKED</td>\n",
       "    </tr>\n",
       "    <tr>\n",
       "      <th>8</th>\n",
       "      <td>WARRANTS</td>\n",
       "      <td>2016-01-02 12:21:00</td>\n",
       "      <td>SOUTHERN</td>\n",
       "      <td>1</td>\n",
       "      <td>Jan</td>\n",
       "      <td>2</td>\n",
       "      <td>Saturday</td>\n",
       "      <td>12-15</td>\n",
       "      <td>ARREST, BOOKED</td>\n",
       "    </tr>\n",
       "  </tbody>\n",
       "</table>\n",
       "</div>"
      ],
      "text/plain": [
       "         category          crime_date department_district  resolution  month  \\\n",
       "2        WARRANTS 2016-04-25 14:59:00             BAYVIEW           1  April   \n",
       "4    NON-CRIMINAL 2016-01-01 00:30:00             MISSION           0    Jan   \n",
       "5         ASSAULT 2016-01-01 21:35:00            NORTHERN           0    Jan   \n",
       "6  OTHER OFFENSES 2016-01-02 00:04:00            SOUTHERN           1    Jan   \n",
       "8        WARRANTS 2016-01-02 12:21:00            SOUTHERN           1    Jan   \n",
       "\n",
       "   Day day_of_week   hour      res_arrest  \n",
       "2   25      Monday  12-15  ARREST, BOOKED  \n",
       "4    1      Friday    0-3            NONE  \n",
       "5    1      Friday  20-23            NONE  \n",
       "6    2    Saturday    0-3  ARREST, BOOKED  \n",
       "8    2    Saturday  12-15  ARREST, BOOKED  "
      ]
     },
     "execution_count": 61,
     "metadata": {},
     "output_type": "execute_result"
    }
   ],
   "source": [
    "df9.head()"
   ]
  },
  {
   "cell_type": "code",
   "execution_count": 62,
   "metadata": {},
   "outputs": [],
   "source": [
    "a_bb={0:1 ,1:0}\n",
    "df9.resolution=[a_bb[items] for items in df9.resolution]"
   ]
  },
  {
   "cell_type": "code",
   "execution_count": 63,
   "metadata": {
    "collapsed": true
   },
   "outputs": [
    {
     "data": {
      "text/html": [
       "<div>\n",
       "<style scoped>\n",
       "    .dataframe tbody tr th:only-of-type {\n",
       "        vertical-align: middle;\n",
       "    }\n",
       "\n",
       "    .dataframe tbody tr th {\n",
       "        vertical-align: top;\n",
       "    }\n",
       "\n",
       "    .dataframe thead th {\n",
       "        text-align: right;\n",
       "    }\n",
       "</style>\n",
       "<table border=\"1\" class=\"dataframe\">\n",
       "  <thead>\n",
       "    <tr style=\"text-align: right;\">\n",
       "      <th></th>\n",
       "      <th>category</th>\n",
       "      <th>crime_date</th>\n",
       "      <th>department_district</th>\n",
       "      <th>resolution</th>\n",
       "      <th>month</th>\n",
       "      <th>Day</th>\n",
       "      <th>day_of_week</th>\n",
       "      <th>hour</th>\n",
       "      <th>res_arrest</th>\n",
       "    </tr>\n",
       "  </thead>\n",
       "  <tbody>\n",
       "    <tr>\n",
       "      <th>2</th>\n",
       "      <td>WARRANTS</td>\n",
       "      <td>2016-04-25 14:59:00</td>\n",
       "      <td>BAYVIEW</td>\n",
       "      <td>0</td>\n",
       "      <td>April</td>\n",
       "      <td>25</td>\n",
       "      <td>Monday</td>\n",
       "      <td>12-15</td>\n",
       "      <td>ARREST, BOOKED</td>\n",
       "    </tr>\n",
       "    <tr>\n",
       "      <th>4</th>\n",
       "      <td>NON-CRIMINAL</td>\n",
       "      <td>2016-01-01 00:30:00</td>\n",
       "      <td>MISSION</td>\n",
       "      <td>1</td>\n",
       "      <td>Jan</td>\n",
       "      <td>1</td>\n",
       "      <td>Friday</td>\n",
       "      <td>0-3</td>\n",
       "      <td>NONE</td>\n",
       "    </tr>\n",
       "    <tr>\n",
       "      <th>5</th>\n",
       "      <td>ASSAULT</td>\n",
       "      <td>2016-01-01 21:35:00</td>\n",
       "      <td>NORTHERN</td>\n",
       "      <td>1</td>\n",
       "      <td>Jan</td>\n",
       "      <td>1</td>\n",
       "      <td>Friday</td>\n",
       "      <td>20-23</td>\n",
       "      <td>NONE</td>\n",
       "    </tr>\n",
       "    <tr>\n",
       "      <th>6</th>\n",
       "      <td>OTHER OFFENSES</td>\n",
       "      <td>2016-01-02 00:04:00</td>\n",
       "      <td>SOUTHERN</td>\n",
       "      <td>0</td>\n",
       "      <td>Jan</td>\n",
       "      <td>2</td>\n",
       "      <td>Saturday</td>\n",
       "      <td>0-3</td>\n",
       "      <td>ARREST, BOOKED</td>\n",
       "    </tr>\n",
       "    <tr>\n",
       "      <th>8</th>\n",
       "      <td>WARRANTS</td>\n",
       "      <td>2016-01-02 12:21:00</td>\n",
       "      <td>SOUTHERN</td>\n",
       "      <td>0</td>\n",
       "      <td>Jan</td>\n",
       "      <td>2</td>\n",
       "      <td>Saturday</td>\n",
       "      <td>12-15</td>\n",
       "      <td>ARREST, BOOKED</td>\n",
       "    </tr>\n",
       "  </tbody>\n",
       "</table>\n",
       "</div>"
      ],
      "text/plain": [
       "         category          crime_date department_district  resolution  month  \\\n",
       "2        WARRANTS 2016-04-25 14:59:00             BAYVIEW           0  April   \n",
       "4    NON-CRIMINAL 2016-01-01 00:30:00             MISSION           1    Jan   \n",
       "5         ASSAULT 2016-01-01 21:35:00            NORTHERN           1    Jan   \n",
       "6  OTHER OFFENSES 2016-01-02 00:04:00            SOUTHERN           0    Jan   \n",
       "8        WARRANTS 2016-01-02 12:21:00            SOUTHERN           0    Jan   \n",
       "\n",
       "   Day day_of_week   hour      res_arrest  \n",
       "2   25      Monday  12-15  ARREST, BOOKED  \n",
       "4    1      Friday    0-3            NONE  \n",
       "5    1      Friday  20-23            NONE  \n",
       "6    2    Saturday    0-3  ARREST, BOOKED  \n",
       "8    2    Saturday  12-15  ARREST, BOOKED  "
      ]
     },
     "execution_count": 63,
     "metadata": {},
     "output_type": "execute_result"
    }
   ],
   "source": [
    "df9.head()"
   ]
  },
  {
   "cell_type": "code",
   "execution_count": 64,
   "metadata": {},
   "outputs": [],
   "source": [
    "no_arst=df9['resolution']"
   ]
  },
  {
   "cell_type": "code",
   "execution_count": 65,
   "metadata": {
    "collapsed": true
   },
   "outputs": [
    {
     "data": {
      "text/plain": [
       "2    0\n",
       "4    1\n",
       "5    1\n",
       "6    0\n",
       "8    0\n",
       "Name: resolution, dtype: int64"
      ]
     },
     "execution_count": 65,
     "metadata": {},
     "output_type": "execute_result"
    }
   ],
   "source": [
    "no_arst.head()"
   ]
  },
  {
   "cell_type": "markdown",
   "metadata": {},
   "source": [
    "# Merging Binary "
   ]
  },
  {
   "cell_type": "code",
   "execution_count": 66,
   "metadata": {},
   "outputs": [],
   "source": [
    "df_j_1 = pd.merge(ctg, dfw, right_index=True, left_index=True)"
   ]
  },
  {
   "cell_type": "code",
   "execution_count": 67,
   "metadata": {},
   "outputs": [],
   "source": [
    "df_j_3 = pd.merge(df_j_1, dd, right_index=True, left_index=True)"
   ]
  },
  {
   "cell_type": "code",
   "execution_count": 68,
   "metadata": {},
   "outputs": [],
   "source": [
    "df_j_nrst=pd.merge(df_j_3, no_arst, right_index=True, left_index=True)"
   ]
  },
  {
   "cell_type": "code",
   "execution_count": 69,
   "metadata": {},
   "outputs": [],
   "source": [
    "df_j_n_rst = pd.merge(df_j_nrst, hrr, right_index=True, left_index=True)"
   ]
  },
  {
   "cell_type": "code",
   "execution_count": 70,
   "metadata": {},
   "outputs": [],
   "source": [
    "df_j_n_rst_wo_mnth = df_j_n_rst"
   ]
  },
  {
   "cell_type": "code",
   "execution_count": 71,
   "metadata": {},
   "outputs": [],
   "source": [
    "df_j_n_rst_wo_mnth_smtime = df_j_n_rst_wo_mnth.drop(['16-19'\n",
    "\n",
    "],axis=1)"
   ]
  },
  {
   "cell_type": "code",
   "execution_count": 72,
   "metadata": {
    "collapsed": true
   },
   "outputs": [
    {
     "data": {
      "text/html": [
       "<div>\n",
       "<style scoped>\n",
       "    .dataframe tbody tr th:only-of-type {\n",
       "        vertical-align: middle;\n",
       "    }\n",
       "\n",
       "    .dataframe tbody tr th {\n",
       "        vertical-align: top;\n",
       "    }\n",
       "\n",
       "    .dataframe thead th {\n",
       "        text-align: right;\n",
       "    }\n",
       "</style>\n",
       "<table border=\"1\" class=\"dataframe\">\n",
       "  <thead>\n",
       "    <tr style=\"text-align: right;\">\n",
       "      <th></th>\n",
       "      <th>ASSAULT</th>\n",
       "      <th>BURGLARY</th>\n",
       "      <th>LARCENY/THEFT</th>\n",
       "      <th>NON-CRIMINAL</th>\n",
       "      <th>OTHER OFFENSES</th>\n",
       "      <th>SUSPICIOUS OCC</th>\n",
       "      <th>VANDALISM</th>\n",
       "      <th>VEHICLE THEFT</th>\n",
       "      <th>WARRANTS</th>\n",
       "      <th>Friday</th>\n",
       "      <th>...</th>\n",
       "      <th>MISSION</th>\n",
       "      <th>NORTHERN</th>\n",
       "      <th>SOUTHERN</th>\n",
       "      <th>TARAVAL</th>\n",
       "      <th>resolution</th>\n",
       "      <th>0-3</th>\n",
       "      <th>12-15</th>\n",
       "      <th>16-19</th>\n",
       "      <th>20-23</th>\n",
       "      <th>8-11</th>\n",
       "    </tr>\n",
       "  </thead>\n",
       "  <tbody>\n",
       "    <tr>\n",
       "      <th>2</th>\n",
       "      <td>1</td>\n",
       "      <td>0</td>\n",
       "      <td>0</td>\n",
       "      <td>0</td>\n",
       "      <td>0</td>\n",
       "      <td>0</td>\n",
       "      <td>0</td>\n",
       "      <td>0</td>\n",
       "      <td>0</td>\n",
       "      <td>1</td>\n",
       "      <td>...</td>\n",
       "      <td>0</td>\n",
       "      <td>1</td>\n",
       "      <td>0</td>\n",
       "      <td>0</td>\n",
       "      <td>0</td>\n",
       "      <td>0</td>\n",
       "      <td>0</td>\n",
       "      <td>0</td>\n",
       "      <td>1</td>\n",
       "      <td>0</td>\n",
       "    </tr>\n",
       "    <tr>\n",
       "      <th>4</th>\n",
       "      <td>0</td>\n",
       "      <td>0</td>\n",
       "      <td>0</td>\n",
       "      <td>0</td>\n",
       "      <td>0</td>\n",
       "      <td>0</td>\n",
       "      <td>0</td>\n",
       "      <td>0</td>\n",
       "      <td>1</td>\n",
       "      <td>0</td>\n",
       "      <td>...</td>\n",
       "      <td>0</td>\n",
       "      <td>0</td>\n",
       "      <td>1</td>\n",
       "      <td>0</td>\n",
       "      <td>1</td>\n",
       "      <td>0</td>\n",
       "      <td>1</td>\n",
       "      <td>0</td>\n",
       "      <td>0</td>\n",
       "      <td>0</td>\n",
       "    </tr>\n",
       "    <tr>\n",
       "      <th>5</th>\n",
       "      <td>0</td>\n",
       "      <td>0</td>\n",
       "      <td>1</td>\n",
       "      <td>0</td>\n",
       "      <td>0</td>\n",
       "      <td>0</td>\n",
       "      <td>0</td>\n",
       "      <td>0</td>\n",
       "      <td>0</td>\n",
       "      <td>1</td>\n",
       "      <td>...</td>\n",
       "      <td>0</td>\n",
       "      <td>0</td>\n",
       "      <td>0</td>\n",
       "      <td>1</td>\n",
       "      <td>1</td>\n",
       "      <td>0</td>\n",
       "      <td>0</td>\n",
       "      <td>0</td>\n",
       "      <td>1</td>\n",
       "      <td>0</td>\n",
       "    </tr>\n",
       "    <tr>\n",
       "      <th>6</th>\n",
       "      <td>0</td>\n",
       "      <td>0</td>\n",
       "      <td>0</td>\n",
       "      <td>1</td>\n",
       "      <td>0</td>\n",
       "      <td>0</td>\n",
       "      <td>0</td>\n",
       "      <td>0</td>\n",
       "      <td>0</td>\n",
       "      <td>0</td>\n",
       "      <td>...</td>\n",
       "      <td>0</td>\n",
       "      <td>0</td>\n",
       "      <td>0</td>\n",
       "      <td>1</td>\n",
       "      <td>0</td>\n",
       "      <td>0</td>\n",
       "      <td>1</td>\n",
       "      <td>0</td>\n",
       "      <td>0</td>\n",
       "      <td>0</td>\n",
       "    </tr>\n",
       "    <tr>\n",
       "      <th>8</th>\n",
       "      <td>1</td>\n",
       "      <td>0</td>\n",
       "      <td>0</td>\n",
       "      <td>0</td>\n",
       "      <td>0</td>\n",
       "      <td>0</td>\n",
       "      <td>0</td>\n",
       "      <td>0</td>\n",
       "      <td>0</td>\n",
       "      <td>0</td>\n",
       "      <td>...</td>\n",
       "      <td>1</td>\n",
       "      <td>0</td>\n",
       "      <td>0</td>\n",
       "      <td>0</td>\n",
       "      <td>0</td>\n",
       "      <td>0</td>\n",
       "      <td>0</td>\n",
       "      <td>1</td>\n",
       "      <td>0</td>\n",
       "      <td>0</td>\n",
       "    </tr>\n",
       "  </tbody>\n",
       "</table>\n",
       "<p>5 rows × 29 columns</p>\n",
       "</div>"
      ],
      "text/plain": [
       "   ASSAULT  BURGLARY  LARCENY/THEFT  NON-CRIMINAL  OTHER OFFENSES  \\\n",
       "2        1         0              0             0               0   \n",
       "4        0         0              0             0               0   \n",
       "5        0         0              1             0               0   \n",
       "6        0         0              0             1               0   \n",
       "8        1         0              0             0               0   \n",
       "\n",
       "   SUSPICIOUS OCC  VANDALISM  VEHICLE THEFT  WARRANTS  Friday  ...  MISSION  \\\n",
       "2               0          0              0         0       1  ...        0   \n",
       "4               0          0              0         1       0  ...        0   \n",
       "5               0          0              0         0       1  ...        0   \n",
       "6               0          0              0         0       0  ...        0   \n",
       "8               0          0              0         0       0  ...        1   \n",
       "\n",
       "   NORTHERN  SOUTHERN  TARAVAL  resolution  0-3  12-15  16-19  20-23  8-11  \n",
       "2         1         0        0           0    0      0      0      1     0  \n",
       "4         0         1        0           1    0      1      0      0     0  \n",
       "5         0         0        1           1    0      0      0      1     0  \n",
       "6         0         0        1           0    0      1      0      0     0  \n",
       "8         0         0        0           0    0      0      1      0     0  \n",
       "\n",
       "[5 rows x 29 columns]"
      ]
     },
     "execution_count": 72,
     "metadata": {},
     "output_type": "execute_result"
    }
   ],
   "source": [
    "df_j_n_rst_wo_mnth.head()"
   ]
  },
  {
   "cell_type": "code",
   "execution_count": 55,
   "metadata": {
    "collapsed": true
   },
   "outputs": [
    {
     "name": "stdout",
     "output_type": "stream",
     "text": [
      "Requirement already satisfied: kmodes in c:\\users\\nikhil\\anaconda3\\lib\\site-packages (0.10.1)\n",
      "Requirement already satisfied: numpy>=1.10.4 in c:\\users\\nikhil\\anaconda3\\lib\\site-packages (from kmodes) (1.16.2)\n",
      "Requirement already satisfied: scipy>=0.13.3 in c:\\users\\nikhil\\anaconda3\\lib\\site-packages (from kmodes) (1.2.1)\n",
      "Requirement already satisfied: joblib>=0.11 in c:\\users\\nikhil\\anaconda3\\lib\\site-packages (from kmodes) (0.14.1)\n",
      "Requirement already satisfied: scikit-learn>=0.19.0 in c:\\users\\nikhil\\anaconda3\\lib\\site-packages (from kmodes) (0.20.3)\n",
      "Note: you may need to restart the kernel to use updated packages.\n"
     ]
    }
   ],
   "source": [
    "# pip install kmodes ( need to install for kmodes)"
   ]
  },
  {
   "cell_type": "code",
   "execution_count": 73,
   "metadata": {},
   "outputs": [],
   "source": [
    "from kmodes.kmodes import KModes"
   ]
  },
  {
   "cell_type": "markdown",
   "metadata": {},
   "source": [
    "# 1st Model give us actionable insight, it have variable.\n",
    "\n",
    " ### 1. Hour (12-15.59, 16-19.59 etc)\n",
    " ### 2. Not arrested\n",
    " ### 3. Day of week(Sunday, Monady,Tuesday etc.)\n",
    " ### 4. Category (Theft)\n",
    " ### 5. Department district(Area like Mission, Central, Bayview etc)."
   ]
  },
  {
   "cell_type": "code",
   "execution_count": 66,
   "metadata": {
    "scrolled": true
   },
   "outputs": [
    {
     "name": "stdout",
     "output_type": "stream",
     "text": [
      "without month\n",
      "\n",
      "\n",
      "\n",
      "Init: initializing centroids\n",
      "Init: initializing clusters\n",
      "Starting iterations...\n",
      "Run 1, iteration: 1/100, moves: 16068, cost: 126780.0\n",
      "Run 1, iteration: 2/100, moves: 2363, cost: 126780.0\n",
      "Init: initializing centroids\n",
      "Init: initializing clusters\n",
      "Starting iterations...\n",
      "Run 2, iteration: 1/100, moves: 18435, cost: 129089.0\n",
      "Run 2, iteration: 2/100, moves: 69, cost: 129089.0\n",
      "Init: initializing centroids\n",
      "Init: initializing clusters\n",
      "Starting iterations...\n",
      "Run 3, iteration: 1/100, moves: 18465, cost: 122540.0\n",
      "Run 3, iteration: 2/100, moves: 634, cost: 122540.0\n",
      "Init: initializing centroids\n",
      "Init: initializing clusters\n",
      "Starting iterations...\n",
      "Run 4, iteration: 1/100, moves: 17888, cost: 123176.0\n",
      "Run 4, iteration: 2/100, moves: 5046, cost: 123176.0\n",
      "Init: initializing centroids\n",
      "Init: initializing clusters\n",
      "Starting iterations...\n",
      "Run 5, iteration: 1/100, moves: 18863, cost: 125181.0\n",
      "Run 5, iteration: 2/100, moves: 1942, cost: 125181.0\n",
      "Init: initializing centroids\n",
      "Init: initializing clusters\n",
      "Starting iterations...\n",
      "Run 6, iteration: 1/100, moves: 15386, cost: 124438.0\n",
      "Run 6, iteration: 2/100, moves: 1657, cost: 124438.0\n",
      "Init: initializing centroids\n",
      "Init: initializing clusters\n",
      "Starting iterations...\n",
      "Run 7, iteration: 1/100, moves: 19619, cost: 122338.0\n",
      "Run 7, iteration: 2/100, moves: 1737, cost: 122338.0\n",
      "Init: initializing centroids\n",
      "Init: initializing clusters\n",
      "Starting iterations...\n",
      "Run 8, iteration: 1/100, moves: 18732, cost: 124220.0\n",
      "Run 8, iteration: 2/100, moves: 4669, cost: 123520.0\n",
      "Run 8, iteration: 3/100, moves: 506, cost: 123520.0\n",
      "Init: initializing centroids\n",
      "Init: initializing clusters\n",
      "Starting iterations...\n",
      "Run 9, iteration: 1/100, moves: 17968, cost: 127550.0\n",
      "Run 9, iteration: 2/100, moves: 2482, cost: 125007.0\n",
      "Run 9, iteration: 3/100, moves: 2385, cost: 125007.0\n",
      "Init: initializing centroids\n",
      "Init: initializing clusters\n",
      "Starting iterations...\n",
      "Run 10, iteration: 1/100, moves: 14930, cost: 129499.0\n",
      "Run 10, iteration: 2/100, moves: 2139, cost: 129499.0\n",
      "Init: initializing centroids\n",
      "Init: initializing clusters\n",
      "Starting iterations...\n",
      "Run 11, iteration: 1/100, moves: 15338, cost: 126288.0\n",
      "Run 11, iteration: 2/100, moves: 3543, cost: 126035.0\n",
      "Run 11, iteration: 3/100, moves: 67, cost: 126035.0\n",
      "Init: initializing centroids\n",
      "Init: initializing clusters\n",
      "Starting iterations...\n",
      "Run 12, iteration: 1/100, moves: 17378, cost: 123761.0\n",
      "Run 12, iteration: 2/100, moves: 1699, cost: 123761.0\n",
      "Init: initializing centroids\n",
      "Init: initializing clusters\n",
      "Starting iterations...\n",
      "Run 13, iteration: 1/100, moves: 17892, cost: 117564.0\n",
      "Run 13, iteration: 2/100, moves: 2389, cost: 117564.0\n",
      "Init: initializing centroids\n",
      "Init: initializing clusters\n",
      "Starting iterations...\n",
      "Run 14, iteration: 1/100, moves: 20228, cost: 124373.0\n",
      "Run 14, iteration: 2/100, moves: 1000, cost: 124373.0\n",
      "Init: initializing centroids\n",
      "Init: initializing clusters\n",
      "Starting iterations...\n",
      "Run 15, iteration: 1/100, moves: 18746, cost: 135517.0\n",
      "Run 15, iteration: 2/100, moves: 1666, cost: 135517.0\n",
      "Init: initializing centroids\n",
      "Init: initializing clusters\n",
      "Starting iterations...\n",
      "Run 16, iteration: 1/100, moves: 14896, cost: 131221.0\n",
      "Run 16, iteration: 2/100, moves: 4265, cost: 130129.0\n",
      "Run 16, iteration: 3/100, moves: 276, cost: 130129.0\n",
      "Init: initializing centroids\n",
      "Init: initializing clusters\n",
      "Starting iterations...\n",
      "Run 17, iteration: 1/100, moves: 18159, cost: 125755.0\n",
      "Run 17, iteration: 2/100, moves: 3959, cost: 125206.0\n",
      "Run 17, iteration: 3/100, moves: 1390, cost: 124791.0\n",
      "Run 17, iteration: 4/100, moves: 2418, cost: 121634.0\n",
      "Run 17, iteration: 5/100, moves: 1902, cost: 121634.0\n",
      "Init: initializing centroids\n",
      "Init: initializing clusters\n",
      "Starting iterations...\n",
      "Run 18, iteration: 1/100, moves: 17924, cost: 125533.0\n",
      "Run 18, iteration: 2/100, moves: 2081, cost: 124467.0\n",
      "Run 18, iteration: 3/100, moves: 3218, cost: 122732.0\n",
      "Run 18, iteration: 4/100, moves: 634, cost: 122732.0\n",
      "Init: initializing centroids\n",
      "Init: initializing clusters\n",
      "Starting iterations...\n",
      "Run 19, iteration: 1/100, moves: 19408, cost: 127909.0\n",
      "Run 19, iteration: 2/100, moves: 1351, cost: 127909.0\n",
      "Init: initializing centroids\n",
      "Init: initializing clusters\n",
      "Starting iterations...\n",
      "Run 20, iteration: 1/100, moves: 17812, cost: 121965.0\n",
      "Run 20, iteration: 2/100, moves: 2098, cost: 121965.0\n",
      "Best run was number 13\n",
      "\n",
      "cluster 0: \n",
      "res_arrest\n",
      "16-19\n",
      "\n",
      "cluster 1: \n",
      "res_arrest\n",
      "8-11\n",
      "\n",
      "cluster 2: \n",
      "SOUTHERN\n",
      "res_arrest\n",
      "16-19\n",
      "\n",
      "cluster 3: \n",
      "res_arrest\n",
      "12-15\n",
      "\n",
      "cluster 4: \n",
      "LARCENY/THEFT\n",
      "Sunday\n",
      "CENTRAL\n",
      "res_arrest\n",
      "12-15\n",
      "\n",
      "cluster 5: \n",
      "LARCENY/THEFT\n",
      "SOUTHERN\n",
      "12-15\n",
      "\n",
      "cluster 6: \n",
      "res_arrest\n",
      "20-23\n",
      "\n",
      "cluster 7: \n",
      "20-23\n",
      "\n",
      "cluster 8: \n",
      "LARCENY/THEFT\n",
      "NORTHERN\n",
      "16-19\n",
      "\n",
      "cluster 9: \n",
      "Thursday\n",
      "res_arrest\n",
      "12-15\n",
      "without month\n",
      "\n",
      "\n",
      "\n",
      "Init: initializing centroids\n",
      "Init: initializing clusters\n",
      "Starting iterations...\n",
      "Run 1, iteration: 1/100, moves: 17800, cost: 122792.0\n",
      "Run 1, iteration: 2/100, moves: 2754, cost: 121316.0\n",
      "Run 1, iteration: 3/100, moves: 455, cost: 121316.0\n",
      "Init: initializing centroids\n",
      "Init: initializing clusters\n",
      "Starting iterations...\n",
      "Run 2, iteration: 1/100, moves: 12186, cost: 116203.0\n",
      "Run 2, iteration: 2/100, moves: 0, cost: 116203.0\n",
      "Init: initializing centroids\n",
      "Init: initializing clusters\n",
      "Starting iterations...\n",
      "Run 3, iteration: 1/100, moves: 16206, cost: 123040.0\n",
      "Run 3, iteration: 2/100, moves: 2278, cost: 123040.0\n",
      "Init: initializing centroids\n",
      "Init: initializing clusters\n",
      "Starting iterations...\n",
      "Run 4, iteration: 1/100, moves: 16575, cost: 120154.0\n",
      "Run 4, iteration: 2/100, moves: 3737, cost: 119181.0\n",
      "Run 4, iteration: 3/100, moves: 205, cost: 119181.0\n",
      "Init: initializing centroids\n",
      "Init: initializing clusters\n",
      "Starting iterations...\n",
      "Run 5, iteration: 1/100, moves: 16496, cost: 121731.0\n",
      "Run 5, iteration: 2/100, moves: 904, cost: 121731.0\n",
      "Init: initializing centroids\n",
      "Init: initializing clusters\n",
      "Starting iterations...\n",
      "Run 6, iteration: 1/100, moves: 13809, cost: 121200.0\n",
      "Run 6, iteration: 2/100, moves: 0, cost: 121200.0\n",
      "Init: initializing centroids\n",
      "Init: initializing clusters\n",
      "Starting iterations...\n",
      "Run 7, iteration: 1/100, moves: 21018, cost: 115883.0\n",
      "Run 7, iteration: 2/100, moves: 1879, cost: 115883.0\n",
      "Init: initializing centroids\n",
      "Init: initializing clusters\n",
      "Starting iterations...\n",
      "Run 8, iteration: 1/100, moves: 13339, cost: 119773.0\n",
      "Run 8, iteration: 2/100, moves: 1813, cost: 119773.0\n",
      "Init: initializing centroids\n",
      "Init: initializing clusters\n",
      "Starting iterations...\n",
      "Run 9, iteration: 1/100, moves: 18675, cost: 119847.0\n",
      "Run 9, iteration: 2/100, moves: 4098, cost: 118210.0\n",
      "Run 9, iteration: 3/100, moves: 1148, cost: 118210.0\n",
      "Init: initializing centroids\n",
      "Init: initializing clusters\n",
      "Starting iterations...\n",
      "Run 10, iteration: 1/100, moves: 19423, cost: 119053.0\n",
      "Run 10, iteration: 2/100, moves: 5035, cost: 118185.0\n",
      "Run 10, iteration: 3/100, moves: 1293, cost: 118185.0\n",
      "Init: initializing centroids\n",
      "Init: initializing clusters\n",
      "Starting iterations...\n",
      "Run 11, iteration: 1/100, moves: 18136, cost: 118316.0\n",
      "Run 11, iteration: 2/100, moves: 4590, cost: 117758.0\n",
      "Run 11, iteration: 3/100, moves: 715, cost: 117758.0\n",
      "Init: initializing centroids\n",
      "Init: initializing clusters\n",
      "Starting iterations...\n",
      "Run 12, iteration: 1/100, moves: 12675, cost: 124993.0\n",
      "Run 12, iteration: 2/100, moves: 768, cost: 124993.0\n",
      "Init: initializing centroids\n",
      "Init: initializing clusters\n",
      "Starting iterations...\n",
      "Run 13, iteration: 1/100, moves: 15653, cost: 120762.0\n",
      "Run 13, iteration: 2/100, moves: 3330, cost: 120762.0\n",
      "Init: initializing centroids\n",
      "Init: initializing clusters\n",
      "Starting iterations...\n",
      "Run 14, iteration: 1/100, moves: 21206, cost: 120772.0\n",
      "Run 14, iteration: 2/100, moves: 1217, cost: 120772.0\n",
      "Init: initializing centroids\n",
      "Init: initializing clusters\n",
      "Starting iterations...\n",
      "Run 15, iteration: 1/100, moves: 15942, cost: 115599.0\n",
      "Run 15, iteration: 2/100, moves: 1760, cost: 115599.0\n",
      "Init: initializing centroids\n",
      "Init: initializing clusters\n",
      "Starting iterations...\n",
      "Run 16, iteration: 1/100, moves: 17876, cost: 119653.0\n",
      "Run 16, iteration: 2/100, moves: 1947, cost: 119653.0\n",
      "Init: initializing centroids\n",
      "Init: initializing clusters\n",
      "Starting iterations...\n",
      "Run 17, iteration: 1/100, moves: 19450, cost: 120122.0\n",
      "Run 17, iteration: 2/100, moves: 2098, cost: 120122.0\n",
      "Init: initializing centroids\n",
      "Init: initializing clusters\n",
      "Starting iterations...\n",
      "Run 18, iteration: 1/100, moves: 15164, cost: 122245.0\n"
     ]
    },
    {
     "name": "stdout",
     "output_type": "stream",
     "text": [
      "Run 18, iteration: 2/100, moves: 0, cost: 122245.0\n",
      "Init: initializing centroids\n",
      "Init: initializing clusters\n",
      "Starting iterations...\n",
      "Run 19, iteration: 1/100, moves: 14393, cost: 122212.0\n",
      "Run 19, iteration: 2/100, moves: 0, cost: 122212.0\n",
      "Init: initializing centroids\n",
      "Init: initializing clusters\n",
      "Starting iterations...\n",
      "Run 20, iteration: 1/100, moves: 19841, cost: 119402.0\n",
      "Run 20, iteration: 2/100, moves: 614, cost: 119402.0\n",
      "Best run was number 15\n",
      "\n",
      "cluster 0: \n",
      "OTHER OFFENSES\n",
      "res_arrest\n",
      "12-15\n",
      "\n",
      "cluster 1: \n",
      "VANDALISM\n",
      "res_arrest\n",
      "\n",
      "cluster 2: \n",
      "MISSION\n",
      "\n",
      "cluster 3: \n",
      "LARCENY/THEFT\n",
      "CENTRAL\n",
      "res_arrest\n",
      "\n",
      "cluster 4: \n",
      "20-23\n",
      "\n",
      "cluster 5: \n",
      "Saturday\n",
      "res_arrest\n",
      "\n",
      "cluster 6: \n",
      "LARCENY/THEFT\n",
      "SOUTHERN\n",
      "res_arrest\n",
      "\n",
      "cluster 7: \n",
      "NON-CRIMINAL\n",
      "Friday\n",
      "res_arrest\n",
      "\n",
      "cluster 8: \n",
      "LARCENY/THEFT\n",
      "NORTHERN\n",
      "res_arrest\n",
      "\n",
      "cluster 9: \n",
      "Wednesday\n",
      "res_arrest\n"
     ]
    }
   ],
   "source": [
    "print(\"without month\\n\\n\\n\")\n",
    "\n",
    "# define the k-modes model\n",
    "km = KModes(n_clusters=10, init='Huang', n_init=20, verbose=1)\n",
    "# fit the clusters to the skills dataframe\n",
    "clusters = km.fit_predict(df_j_n_rst_wo_mnth)\n",
    "# get an array of cluster modes\n",
    "kmodes = km.cluster_centroids_\n",
    "shape = kmodes.shape\n",
    "# For each cluster mode (a vector of \"1\" and \"0\")\n",
    "# find and print the column headings where \"1\" appears.\n",
    "# If no \"1\" appears, assign to \"no-skills\" cluster.\n",
    "for i in range(shape[0]):\n",
    "    if sum(kmodes[i,:]) == 0:\n",
    "        print(\"\\ncluster \" + str(i) + \": \")\n",
    "        print(\"no-skills cluster\")\n",
    "    else:\n",
    "        print(\"\\ncluster \" + str(i) + \": \")\n",
    "        cent = kmodes[i,:]\n",
    "        for j in df_j_n_rst_wo_mnth.columns[np.nonzero(cent)]:\n",
    "            print(j)\n",
    "            \n",
    "            \n",
    "            \n",
    "            \n",
    "            \n",
    "#   res_arrest means no arest in output           \n",
    "            \n",
    "print(\"without month, res_arrest means no arest in output \\n\\n\\n\")\n",
    "\n",
    "# define the k-modes model\n",
    "km = KModes(n_clusters=10, init='Huang', n_init=20, verbose=1)\n",
    "# fit the clusters to the skills dataframe\n",
    "clusters = km.fit_predict(df_j_n_rst_wo_mnth_smtime)\n",
    "# get an array of cluster modes\n",
    "kmodes = km.cluster_centroids_\n",
    "shape = kmodes.shape\n",
    "# For each cluster mode (a vector of \"1\" and \"0\")\n",
    "# find and print the column headings where \"1\" appears.\n",
    "# If no \"1\" appears, assign to \"no-skills\" cluster.\n",
    "for i in range(shape[0]):\n",
    "    if sum(kmodes[i,:]) == 0:\n",
    "        print(\"\\ncluster \" + str(i) + \": \")\n",
    "        print(\"no-skills cluster\")\n",
    "    else:\n",
    "        print(\"\\ncluster \" + str(i) + \": \")\n",
    "        cent = kmodes[i,:]\n",
    "        for j in df_j_n_rst_wo_mnth_smtime.columns[np.nonzero(cent)]:\n",
    "            print(j)\n",
    "            \n",
    "            \n",
    "            \n",
    "# res_arrest means no arest in output\n",
    "            "
   ]
  },
  {
   "cell_type": "markdown",
   "metadata": {},
   "source": [
    "# Findings\n",
    "\n",
    "\n",
    "## 1. from cluster cluster 4: CENTRAL, Sunday, LARCENY/THEFT,  res_arrest, 12-15.\n",
    "###    In region CENTRAL on SUNDAY their is a high chance of  LARCENY/THEFT between Time 12-15 in which their is No Arrest was happened.\n",
    "\n",
    "##  \n",
    "\n",
    "\n",
    "## 2. from cluster cluster 5: SOUTHERN, res_arrest, 16-19.   \n",
    "###    In region SOUTHERN between Time 16-19 in which their is No Arrest was happened for the criminal offences.\n",
    "\n",
    "###   \n",
    "\n",
    "## 3. from cluster cluster 8: LARCENY/THEFT, NORTHERN, 16-19. \n",
    "###    In region NORTHERN between Time 16-19  there is high chances of LARCENY/THEFT.\n",
    "\n",
    "\n",
    "##  \n",
    "\n",
    "\n",
    "## 4. from cluster cluster 9: Thursday, res_arrest, 12-15.\n",
    "###   On Thursday between time 12-15 the crime offences have No Arrest factor was large.\n",
    "###  \n",
    "\n",
    "## 5. from other clusters no concrete conclusion can be derived.\n",
    "\n",
    "##   \n",
    "# Summary:- \n",
    "# 1. Time between 12-15(i.e12.00-15.59) is critical time from crime perspective.\n",
    "##          a) On Thursday as their is high chance of No Arrest(Criminal escape).\n",
    "##          b) On Sunday at Central Region for Larceny/Theft crime, Criminal did not Abducted/Areested.\n",
    "\n",
    "##    \n",
    "# 2. Time between 16-19(i.e16.00-19.59) is critical time from crime perspective. \n",
    "##           a) Crime happened on southern region has less Arrest factor.\n",
    "##           b) Larceny/Theft crime factor was large in  Northen region."
   ]
  }
 ],
 "metadata": {
  "kernelspec": {
   "display_name": "Python 3",
   "language": "python",
   "name": "python3"
  },
  "language_info": {
   "codemirror_mode": {
    "name": "ipython",
    "version": 3
   },
   "file_extension": ".py",
   "mimetype": "text/x-python",
   "name": "python",
   "nbconvert_exporter": "python",
   "pygments_lexer": "ipython3",
   "version": "3.7.3"
  }
 },
 "nbformat": 4,
 "nbformat_minor": 2
}
