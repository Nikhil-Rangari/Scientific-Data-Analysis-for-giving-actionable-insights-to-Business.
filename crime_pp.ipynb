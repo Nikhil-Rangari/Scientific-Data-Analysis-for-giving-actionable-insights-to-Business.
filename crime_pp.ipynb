{
 "cells": [
  {
   "cell_type": "code",
   "execution_count": 57,
   "metadata": {},
   "outputs": [],
   "source": [
    "import time\n",
    "import random\n",
    "from math import *\n",
    "import operator\n",
    "import pandas as pd\n",
    "import numpy as np\n",
    "import datetime \n",
    "import calendar\n",
    "from sklearn.preprocessing import LabelBinarizer"
   ]
  },
  {
   "cell_type": "code",
   "execution_count": 2,
   "metadata": {},
   "outputs": [],
   "source": [
    "# Importing File\n",
    "\n",
    "location = r\"file:///C:\\Users\\nikhil\\Downloads\\police_department_data%20(1).csv\""
   ]
  },
  {
   "cell_type": "code",
   "execution_count": 3,
   "metadata": {},
   "outputs": [],
   "source": [
    "crime_raw=pd.read_csv(location)"
   ]
  },
  {
   "cell_type": "code",
   "execution_count": 4,
   "metadata": {
    "collapsed": true
   },
   "outputs": [
    {
     "data": {
      "text/html": [
       "<div>\n",
       "<style scoped>\n",
       "    .dataframe tbody tr th:only-of-type {\n",
       "        vertical-align: middle;\n",
       "    }\n",
       "\n",
       "    .dataframe tbody tr th {\n",
       "        vertical-align: top;\n",
       "    }\n",
       "\n",
       "    .dataframe thead th {\n",
       "        text-align: right;\n",
       "    }\n",
       "</style>\n",
       "<table border=\"1\" class=\"dataframe\">\n",
       "  <thead>\n",
       "    <tr style=\"text-align: right;\">\n",
       "      <th></th>\n",
       "      <th>incident_id</th>\n",
       "      <th>category</th>\n",
       "      <th>crime_description</th>\n",
       "      <th>crime_date</th>\n",
       "      <th>department_district</th>\n",
       "      <th>resolution</th>\n",
       "      <th>address</th>\n",
       "      <th>department_id</th>\n",
       "      <th>location</th>\n",
       "    </tr>\n",
       "  </thead>\n",
       "  <tbody>\n",
       "    <tr>\n",
       "      <th>0</th>\n",
       "      <td>120058272</td>\n",
       "      <td>WEAPON LAWS</td>\n",
       "      <td>POSS OF PROHIBITED WEAPON</td>\n",
       "      <td>2016-01-29 11:00:00</td>\n",
       "      <td>SOUTHERN</td>\n",
       "      <td>ARREST, BOOKED</td>\n",
       "      <td>800 Block of BRYANT ST</td>\n",
       "      <td>12005827212120</td>\n",
       "      <td>(37.775420706711, -122.403404791479)</td>\n",
       "    </tr>\n",
       "    <tr>\n",
       "      <th>1</th>\n",
       "      <td>120058272</td>\n",
       "      <td>WEAPON LAWS</td>\n",
       "      <td>FIREARM, LOADED, IN VEHICLE, POSSESSION OR USE</td>\n",
       "      <td>2016-01-29 11:00:00</td>\n",
       "      <td>SOUTHERN</td>\n",
       "      <td>ARREST, BOOKED</td>\n",
       "      <td>800 Block of BRYANT ST</td>\n",
       "      <td>12005827212168</td>\n",
       "      <td>(37.775420706711, -122.403404791479)</td>\n",
       "    </tr>\n",
       "    <tr>\n",
       "      <th>2</th>\n",
       "      <td>141059263</td>\n",
       "      <td>WARRANTS</td>\n",
       "      <td>WARRANT ARREST</td>\n",
       "      <td>2016-04-25 14:59:00</td>\n",
       "      <td>BAYVIEW</td>\n",
       "      <td>ARREST, BOOKED</td>\n",
       "      <td>KEITH ST / SHAFTER AV</td>\n",
       "      <td>14105926363010</td>\n",
       "      <td>(37.7299809672996, -122.388856204292)</td>\n",
       "    </tr>\n",
       "  </tbody>\n",
       "</table>\n",
       "</div>"
      ],
      "text/plain": [
       "   incident_id     category                               crime_description  \\\n",
       "0    120058272  WEAPON LAWS                       POSS OF PROHIBITED WEAPON   \n",
       "1    120058272  WEAPON LAWS  FIREARM, LOADED, IN VEHICLE, POSSESSION OR USE   \n",
       "2    141059263     WARRANTS                                  WARRANT ARREST   \n",
       "\n",
       "            crime_date department_district      resolution  \\\n",
       "0  2016-01-29 11:00:00            SOUTHERN  ARREST, BOOKED   \n",
       "1  2016-01-29 11:00:00            SOUTHERN  ARREST, BOOKED   \n",
       "2  2016-04-25 14:59:00             BAYVIEW  ARREST, BOOKED   \n",
       "\n",
       "                  address   department_id  \\\n",
       "0  800 Block of BRYANT ST  12005827212120   \n",
       "1  800 Block of BRYANT ST  12005827212168   \n",
       "2   KEITH ST / SHAFTER AV  14105926363010   \n",
       "\n",
       "                                location  \n",
       "0   (37.775420706711, -122.403404791479)  \n",
       "1   (37.775420706711, -122.403404791479)  \n",
       "2  (37.7299809672996, -122.388856204292)  "
      ]
     },
     "execution_count": 4,
     "metadata": {},
     "output_type": "execute_result"
    }
   ],
   "source": [
    "# Checking Imported File\n",
    "\n",
    "crime_raw.head(3)"
   ]
  },
  {
   "cell_type": "code",
   "execution_count": 5,
   "metadata": {},
   "outputs": [],
   "source": [
    "# Droping column Not Necessary for study\n",
    "\n",
    "selected_variable=crime_raw.drop(['incident_id','crime_description','address','department_id','location'\n",
    "\n",
    "],axis=1)"
   ]
  },
  {
   "cell_type": "code",
   "execution_count": 6,
   "metadata": {
    "collapsed": true
   },
   "outputs": [
    {
     "data": {
      "text/html": [
       "<div>\n",
       "<style scoped>\n",
       "    .dataframe tbody tr th:only-of-type {\n",
       "        vertical-align: middle;\n",
       "    }\n",
       "\n",
       "    .dataframe tbody tr th {\n",
       "        vertical-align: top;\n",
       "    }\n",
       "\n",
       "    .dataframe thead th {\n",
       "        text-align: right;\n",
       "    }\n",
       "</style>\n",
       "<table border=\"1\" class=\"dataframe\">\n",
       "  <thead>\n",
       "    <tr style=\"text-align: right;\">\n",
       "      <th></th>\n",
       "      <th>category</th>\n",
       "      <th>crime_date</th>\n",
       "      <th>department_district</th>\n",
       "      <th>resolution</th>\n",
       "    </tr>\n",
       "  </thead>\n",
       "  <tbody>\n",
       "    <tr>\n",
       "      <th>0</th>\n",
       "      <td>WEAPON LAWS</td>\n",
       "      <td>2016-01-29 11:00:00</td>\n",
       "      <td>SOUTHERN</td>\n",
       "      <td>ARREST, BOOKED</td>\n",
       "    </tr>\n",
       "    <tr>\n",
       "      <th>1</th>\n",
       "      <td>WEAPON LAWS</td>\n",
       "      <td>2016-01-29 11:00:00</td>\n",
       "      <td>SOUTHERN</td>\n",
       "      <td>ARREST, BOOKED</td>\n",
       "    </tr>\n",
       "    <tr>\n",
       "      <th>2</th>\n",
       "      <td>WARRANTS</td>\n",
       "      <td>2016-04-25 14:59:00</td>\n",
       "      <td>BAYVIEW</td>\n",
       "      <td>ARREST, BOOKED</td>\n",
       "    </tr>\n",
       "  </tbody>\n",
       "</table>\n",
       "</div>"
      ],
      "text/plain": [
       "      category           crime_date department_district      resolution\n",
       "0  WEAPON LAWS  2016-01-29 11:00:00            SOUTHERN  ARREST, BOOKED\n",
       "1  WEAPON LAWS  2016-01-29 11:00:00            SOUTHERN  ARREST, BOOKED\n",
       "2     WARRANTS  2016-04-25 14:59:00             BAYVIEW  ARREST, BOOKED"
      ]
     },
     "execution_count": 6,
     "metadata": {},
     "output_type": "execute_result"
    }
   ],
   "source": [
    "selected_variable.head(3)"
   ]
  },
  {
   "cell_type": "code",
   "execution_count": 7,
   "metadata": {},
   "outputs": [],
   "source": [
    "data_mnth=selected_variable"
   ]
  },
  {
   "cell_type": "code",
   "execution_count": 8,
   "metadata": {},
   "outputs": [],
   "source": [
    "# Getting Month from crime date\n",
    "\n",
    "data_mnth['month'] = pd.DatetimeIndex(data_mnth['crime_date']).month"
   ]
  },
  {
   "cell_type": "code",
   "execution_count": 9,
   "metadata": {},
   "outputs": [],
   "source": [
    "month1={1:\"Jan\" ,2:\"Feb\" ,3:\"Mar\" ,4:\"April\" ,5:\"May\" ,6:\"June\" ,7:\"July\" ,8:\"Aug\" ,9:\"Sep\"\n",
    "       ,10:\"Oct\" ,11:\"Nov\" ,12:\"Dec\"}"
   ]
  },
  {
   "cell_type": "code",
   "execution_count": 10,
   "metadata": {},
   "outputs": [],
   "source": [
    "data_mnth['month']=[month1[items] for items in data_mnth['month']]"
   ]
  },
  {
   "cell_type": "code",
   "execution_count": 11,
   "metadata": {
    "collapsed": true
   },
   "outputs": [
    {
     "data": {
      "text/plain": [
       "0      Jan\n",
       "1      Jan\n",
       "2    April\n",
       "Name: month, dtype: object"
      ]
     },
     "execution_count": 11,
     "metadata": {},
     "output_type": "execute_result"
    }
   ],
   "source": [
    "data_mnth['month'].head(3)"
   ]
  },
  {
   "cell_type": "code",
   "execution_count": 12,
   "metadata": {},
   "outputs": [],
   "source": [
    "data_day_mth=data_mnth"
   ]
  },
  {
   "cell_type": "code",
   "execution_count": 13,
   "metadata": {},
   "outputs": [],
   "source": [
    "data_day_mth['Day'] = pd.DatetimeIndex(data_day_mth['crime_date']).day"
   ]
  },
  {
   "cell_type": "code",
   "execution_count": 14,
   "metadata": {},
   "outputs": [],
   "source": [
    "data_day_mth['crime_date'] = pd.to_datetime(data_day_mth['crime_date'])"
   ]
  },
  {
   "cell_type": "code",
   "execution_count": 15,
   "metadata": {},
   "outputs": [],
   "source": [
    "# Getting day of week(sun, mon, tue)\n",
    "\n",
    "data_day_mth['day_of_week'] = data_day_mth['crime_date'].dt.day_name()"
   ]
  },
  {
   "cell_type": "code",
   "execution_count": 16,
   "metadata": {
    "collapsed": true
   },
   "outputs": [
    {
     "data": {
      "text/plain": [
       "array(['Friday', 'Monday', 'Tuesday', 'Saturday', 'Thursday', 'Sunday',\n",
       "       'Wednesday'], dtype=object)"
      ]
     },
     "execution_count": 16,
     "metadata": {},
     "output_type": "execute_result"
    }
   ],
   "source": [
    "data_day_mth.day_of_week.unique()"
   ]
  },
  {
   "cell_type": "code",
   "execution_count": 17,
   "metadata": {
    "collapsed": true
   },
   "outputs": [
    {
     "data": {
      "text/plain": [
       "Friday       15.528904\n",
       "Saturday     14.732226\n",
       "Thursday     14.215947\n",
       "Wednesday    14.174086\n",
       "Tuesday      14.114286\n",
       "Monday       13.809302\n",
       "Sunday       13.425249\n",
       "Name: day_of_week, dtype: float64"
      ]
     },
     "execution_count": 17,
     "metadata": {},
     "output_type": "execute_result"
    }
   ],
   "source": [
    "(data_day_mth['day_of_week'].value_counts()/data_day_mth['day_of_week'].count())*100"
   ]
  },
  {
   "cell_type": "code",
   "execution_count": 18,
   "metadata": {},
   "outputs": [],
   "source": [
    "# Getting hour of day (1, 2, 3)\n",
    "data_day_mth_hr=data_day_mth\n",
    "\n",
    "data_day_mth_hr['hour'] = data_day_mth_hr['crime_date'].dt.hour"
   ]
  },
  {
   "cell_type": "code",
   "execution_count": 19,
   "metadata": {
    "collapsed": true
   },
   "outputs": [
    {
     "data": {
      "text/plain": [
       "array([11, 14, 23,  0, 21,  1, 12, 10, 22, 13,  7, 16, 17,  4,  6,  9, 15,\n",
       "       19, 20,  5,  2,  8, 18,  3], dtype=int64)"
      ]
     },
     "execution_count": 19,
     "metadata": {},
     "output_type": "execute_result"
    }
   ],
   "source": [
    "data_day_mth_hr.hour.unique()"
   ]
  },
  {
   "cell_type": "code",
   "execution_count": 20,
   "metadata": {
    "collapsed": true
   },
   "outputs": [
    {
     "data": {
      "text/plain": [
       "18    6.457143\n",
       "17    6.351495\n",
       "12    5.994020\n",
       "19    5.967442\n",
       "16    5.751495\n",
       "15    5.534219\n",
       "20    5.380731\n",
       "14    5.063787\n",
       "21    4.970100\n",
       "13    4.829236\n",
       "22    4.716944\n",
       "0     4.611960\n",
       "11    4.508970\n",
       "23    4.367442\n",
       "10    4.307641\n",
       "9     3.897010\n",
       "8     3.704319\n",
       "1     2.896346\n",
       "7     2.587375\n",
       "2     2.321595\n",
       "3     1.696346\n",
       "6     1.673090\n",
       "4     1.252492\n",
       "5     1.158804\n",
       "Name: hour, dtype: float64"
      ]
     },
     "execution_count": 20,
     "metadata": {},
     "output_type": "execute_result"
    }
   ],
   "source": [
    "(data_day_mth_hr['hour'].value_counts()/data_day_mth_hr['hour'].count())*100"
   ]
  },
  {
   "cell_type": "code",
   "execution_count": 21,
   "metadata": {},
   "outputs": [],
   "source": [
    "data_day_mth_hrl=data_day_mth_hr.drop(data_day_mth_hr[data_day_mth_hr.hour.isin([\"9\",\"8\",\"1\",\"2\",\"7\",\"3\",\"6\",\"4\",\"5\"\n",
    "])].index)"
   ]
  },
  {
   "cell_type": "code",
   "execution_count": 22,
   "metadata": {
    "collapsed": true
   },
   "outputs": [
    {
     "data": {
      "text/html": [
       "<div>\n",
       "<style scoped>\n",
       "    .dataframe tbody tr th:only-of-type {\n",
       "        vertical-align: middle;\n",
       "    }\n",
       "\n",
       "    .dataframe tbody tr th {\n",
       "        vertical-align: top;\n",
       "    }\n",
       "\n",
       "    .dataframe thead th {\n",
       "        text-align: right;\n",
       "    }\n",
       "</style>\n",
       "<table border=\"1\" class=\"dataframe\">\n",
       "  <thead>\n",
       "    <tr style=\"text-align: right;\">\n",
       "      <th></th>\n",
       "      <th>category</th>\n",
       "      <th>crime_date</th>\n",
       "      <th>department_district</th>\n",
       "      <th>resolution</th>\n",
       "      <th>month</th>\n",
       "      <th>Day</th>\n",
       "      <th>day_of_week</th>\n",
       "      <th>hour</th>\n",
       "    </tr>\n",
       "  </thead>\n",
       "  <tbody>\n",
       "    <tr>\n",
       "      <th>0</th>\n",
       "      <td>WEAPON LAWS</td>\n",
       "      <td>2016-01-29 11:00:00</td>\n",
       "      <td>SOUTHERN</td>\n",
       "      <td>ARREST, BOOKED</td>\n",
       "      <td>Jan</td>\n",
       "      <td>29</td>\n",
       "      <td>Friday</td>\n",
       "      <td>11</td>\n",
       "    </tr>\n",
       "    <tr>\n",
       "      <th>1</th>\n",
       "      <td>WEAPON LAWS</td>\n",
       "      <td>2016-01-29 11:00:00</td>\n",
       "      <td>SOUTHERN</td>\n",
       "      <td>ARREST, BOOKED</td>\n",
       "      <td>Jan</td>\n",
       "      <td>29</td>\n",
       "      <td>Friday</td>\n",
       "      <td>11</td>\n",
       "    </tr>\n",
       "    <tr>\n",
       "      <th>2</th>\n",
       "      <td>WARRANTS</td>\n",
       "      <td>2016-04-25 14:59:00</td>\n",
       "      <td>BAYVIEW</td>\n",
       "      <td>ARREST, BOOKED</td>\n",
       "      <td>April</td>\n",
       "      <td>25</td>\n",
       "      <td>Monday</td>\n",
       "      <td>14</td>\n",
       "    </tr>\n",
       "  </tbody>\n",
       "</table>\n",
       "</div>"
      ],
      "text/plain": [
       "      category          crime_date department_district      resolution  month  \\\n",
       "0  WEAPON LAWS 2016-01-29 11:00:00            SOUTHERN  ARREST, BOOKED    Jan   \n",
       "1  WEAPON LAWS 2016-01-29 11:00:00            SOUTHERN  ARREST, BOOKED    Jan   \n",
       "2     WARRANTS 2016-04-25 14:59:00             BAYVIEW  ARREST, BOOKED  April   \n",
       "\n",
       "   Day day_of_week  hour  \n",
       "0   29      Friday    11  \n",
       "1   29      Friday    11  \n",
       "2   25      Monday    14  "
      ]
     },
     "execution_count": 22,
     "metadata": {},
     "output_type": "execute_result"
    }
   ],
   "source": [
    "data_day_mth_hr.head(3)"
   ]
  },
  {
   "cell_type": "markdown",
   "metadata": {},
   "source": [
    "### Droping less frequency variable from category variable"
   ]
  },
  {
   "cell_type": "code",
   "execution_count": 23,
   "metadata": {
    "collapsed": true
   },
   "outputs": [
    {
     "data": {
      "text/plain": [
       "LARCENY/THEFT                  26.849834\n",
       "OTHER OFFENSES                 13.022591\n",
       "NON-CRIMINAL                   11.871096\n",
       "ASSAULT                         9.021262\n",
       "VANDALISM                       5.706977\n",
       "VEHICLE THEFT                   4.265116\n",
       "WARRANTS                        3.929568\n",
       "BURGLARY                        3.855150\n",
       "SUSPICIOUS OCC                  3.841860\n",
       "MISSING PERSON                  2.882392\n",
       "DRUG/NARCOTIC                   2.819269\n",
       "ROBBERY                         2.192027\n",
       "FRAUD                           1.750831\n",
       "SECONDARY CODES                 1.223256\n",
       "TRESPASS                        1.203987\n",
       "WEAPON LAWS                     1.101661\n",
       "SEX OFFENSES, FORCIBLE          0.624585\n",
       "STOLEN PROPERTY                 0.586047\n",
       "RECOVERED VEHICLE               0.489037\n",
       "DISORDERLY CONDUCT              0.437209\n",
       "PROSTITUTION                    0.425914\n",
       "FORGERY/COUNTERFEITING          0.411296\n",
       "DRUNKENNESS                     0.308970\n",
       "DRIVING UNDER THE INFLUENCE     0.251163\n",
       "ARSON                           0.190033\n",
       "KIDNAPPING                      0.170764\n",
       "EMBEZZLEMENT                    0.111628\n",
       "LIQUOR LAWS                     0.103654\n",
       "RUNAWAY                         0.093023\n",
       "SUICIDE                         0.045847\n",
       "BRIBERY                         0.043854\n",
       "EXTORTION                       0.039867\n",
       "FAMILY OFFENSES                 0.035216\n",
       "LOITERING                       0.027907\n",
       "SEX OFFENSES, NON FORCIBLE      0.026578\n",
       "BAD CHECKS                      0.022591\n",
       "GAMBLING                        0.013289\n",
       "PORNOGRAPHY/OBSCENE MAT         0.002658\n",
       "TREA                            0.001993\n",
       "Name: category, dtype: float64"
      ]
     },
     "execution_count": 23,
     "metadata": {},
     "output_type": "execute_result"
    }
   ],
   "source": [
    "(data_day_mth_hr['category'].value_counts()/data_day_mth_hr['category'].count())*100"
   ]
  },
  {
   "cell_type": "code",
   "execution_count": 24,
   "metadata": {},
   "outputs": [],
   "source": [
    "dt_aft_drp_row=data_day_mth_hr"
   ]
  },
  {
   "cell_type": "code",
   "execution_count": 25,
   "metadata": {},
   "outputs": [],
   "source": [
    "aft_drp_rw_ctg=dt_aft_drp_row.drop(dt_aft_drp_row[dt_aft_drp_row.category.isin([\"SEX OFFENSES, FORCIBLE\",\"STOLEN PROPERTY\",\"RECOVERED VEHICLE\",\"DISORDERLY CONDUCT\",\n",
    "                                    \"PROSTITUTION\",\"FORGERY/COUNTERFEITING\",\"DRUNKENNESS\",\"DRIVING UNDER THE INFLUENCE\",\"ARSON\",\"KIDNAPPING\",\"EMBEZZLEMENT\",\n",
    "          \"LIQUOR LAWS\",\"RUNAWAY\",\"SUICIDE\",\"BRIBERY\",\"EXTORTION\",\"FAMILY OFFENSE\",\"LOITERING\",\"SEX OFFENSES, NON FORCIBLE\",\n",
    "          \"BAD CHECKS\",\"GAMBLING\",\"PORNOGRAPHY/OBSCENE MAT\",\"TREA\",\"MISSING PERSON\",\"DRUG/NARCOTIC\",\"ROBBERY\",\"FRAUD\",\n",
    "        \"SECONDARY CODES\",\"TRESPASS\",\"FAMILY OFFENSES\",\"WEAPON LAWS\"\n",
    "                                   ])].index)"
   ]
  },
  {
   "cell_type": "code",
   "execution_count": 26,
   "metadata": {
    "collapsed": true
   },
   "outputs": [
    {
     "data": {
      "text/plain": [
       "LARCENY/THEFT     32.599208\n",
       "OTHER OFFENSES    15.811128\n",
       "NON-CRIMINAL      14.413063\n",
       "ASSAULT           10.952992\n",
       "VANDALISM          6.929016\n",
       "VEHICLE THEFT      5.178409\n",
       "WARRANTS           4.771009\n",
       "BURGLARY           4.680655\n",
       "SUSPICIOUS OCC     4.664521\n",
       "Name: category, dtype: float64"
      ]
     },
     "execution_count": 26,
     "metadata": {},
     "output_type": "execute_result"
    }
   ],
   "source": [
    "(aft_drp_rw_ctg['category'].value_counts()/aft_drp_rw_ctg['category'].count())*100"
   ]
  },
  {
   "cell_type": "markdown",
   "metadata": {
    "collapsed": true
   },
   "source": [
    "### Droping less frequency variable from resolution variable"
   ]
  },
  {
   "cell_type": "code",
   "execution_count": 27,
   "metadata": {
    "collapsed": true
   },
   "outputs": [
    {
     "data": {
      "text/plain": [
       "NONE                                      75.068774\n",
       "ARREST, BOOKED                            23.086232\n",
       "UNFOUNDED                                  0.990666\n",
       "JUVENILE BOOKED                            0.497753\n",
       "EXCEPTIONAL CLEARANCE                      0.211364\n",
       "ARREST, CITED                              0.103262\n",
       "CLEARED-CONTACT JUVENILE FOR MORE INFO     0.015328\n",
       "PSYCHOPATHIC CASE                          0.011294\n",
       "NOT PROSECUTED                             0.008874\n",
       "JUVENILE CITED                             0.002420\n",
       "COMPLAINANT REFUSES TO PROSECUTE           0.001613\n",
       "LOCATED                                    0.001613\n",
       "PROSECUTED BY OUTSIDE AGENCY               0.000807\n",
       "Name: resolution, dtype: float64"
      ]
     },
     "execution_count": 27,
     "metadata": {},
     "output_type": "execute_result"
    }
   ],
   "source": [
    "(aft_drp_rw_ctg['resolution'].value_counts()/aft_drp_rw_ctg['resolution'].count())*100"
   ]
  },
  {
   "cell_type": "code",
   "execution_count": 28,
   "metadata": {},
   "outputs": [],
   "source": [
    "aft_drp_rw_ctg_resn=aft_drp_rw_ctg.drop(aft_drp_rw_ctg[aft_drp_rw_ctg.resolution.isin([\"CLEARED-CONTACT JUVENILE FOR MORE INFO\",\"NOT PROSECUTED\",\"LOCATED\",\n",
    "                                      \"PSYCHOPATHIC CASE\",\"JUVENILE CITED\",\"COMPLAINANT REFUSES TO PROSECUTE\",\n",
    "                                      \"JUVENILE DIVERTED\",\"PROSECUTED BY OUTSIDE AGENCY\",\"UNFOUNDED\",\"JUVENILE BOOKED\",\n",
    "                                      \"EXCEPTIONAL CLEARANCE\",\"ARREST, CITED\",\"CLEARED-CONTACT JUVENILE FOR MORE INFO\",\n",
    "                                    \"NOT PROSECUTED\",\"LOCATED\",\"PSYCHOPATHIC CASE\",\"JUVENILE CITED\",\n",
    "                                      \"COMPLAINANT REFUSES TO PROSECUTE\",\"JUVENILE DIVERTED\",\"PROSECUTED BY OUTSIDE AGENCY\"\n",
    "])].index)"
   ]
  },
  {
   "cell_type": "code",
   "execution_count": 29,
   "metadata": {
    "collapsed": true
   },
   "outputs": [
    {
     "data": {
      "text/plain": [
       "NONE              76.479822\n",
       "ARREST, BOOKED    23.520178\n",
       "Name: resolution, dtype: float64"
      ]
     },
     "execution_count": 29,
     "metadata": {},
     "output_type": "execute_result"
    }
   ],
   "source": [
    "(aft_drp_rw_ctg_resn['resolution'].value_counts()/aft_drp_rw_ctg_resn['resolution'].count())*100"
   ]
  },
  {
   "cell_type": "markdown",
   "metadata": {
    "collapsed": true
   },
   "source": [
    "### Droping less frequency variable from Department District variable"
   ]
  },
  {
   "cell_type": "code",
   "execution_count": 30,
   "metadata": {
    "collapsed": true
   },
   "outputs": [
    {
     "data": {
      "text/plain": [
       "SOUTHERN      18.948952\n",
       "NORTHERN      13.816995\n",
       "MISSION       12.524143\n",
       "CENTRAL       12.400036\n",
       "BAYVIEW        9.347492\n",
       "INGLESIDE      7.553280\n",
       "TARAVAL        7.458761\n",
       "RICHMOND       6.243990\n",
       "TENDERLOIN     6.056596\n",
       "PARK           5.649755\n",
       "Name: department_district, dtype: float64"
      ]
     },
     "execution_count": 30,
     "metadata": {},
     "output_type": "execute_result"
    }
   ],
   "source": [
    "(aft_drp_rw_ctg_resn['department_district'].value_counts()/aft_drp_rw_ctg_resn['department_district'].count())*100"
   ]
  },
  {
   "cell_type": "code",
   "execution_count": 31,
   "metadata": {},
   "outputs": [],
   "source": [
    "aft_drp_rw_ctg_resn_dd=aft_drp_rw_ctg_resn.drop(aft_drp_rw_ctg_resn[aft_drp_rw_ctg_resn.department_district.isin([\"TENDERLOIN\",'RICHMOND', 'PARK'\n",
    "])].index)"
   ]
  },
  {
   "cell_type": "code",
   "execution_count": 32,
   "metadata": {
    "collapsed": true
   },
   "outputs": [
    {
     "data": {
      "text/plain": [
       "SOUTHERN     23.094492\n",
       "NORTHERN     16.839796\n",
       "MISSION      15.264102\n",
       "CENTRAL      15.112843\n",
       "BAYVIEW      11.392481\n",
       "INGLESIDE     9.205742\n",
       "TARAVAL       9.090545\n",
       "Name: department_district, dtype: float64"
      ]
     },
     "execution_count": 32,
     "metadata": {},
     "output_type": "execute_result"
    }
   ],
   "source": [
    "(aft_drp_rw_ctg_resn_dd['department_district'].value_counts()/aft_drp_rw_ctg_resn_dd['department_district'].count())*100"
   ]
  },
  {
   "cell_type": "markdown",
   "metadata": {
    "collapsed": true
   },
   "source": [
    "### Droping NA values"
   ]
  },
  {
   "cell_type": "code",
   "execution_count": 33,
   "metadata": {},
   "outputs": [],
   "source": [
    "aft_drp_rw_ctg_resn=aft_drp_rw_ctg_resn.dropna()"
   ]
  },
  {
   "cell_type": "code",
   "execution_count": 34,
   "metadata": {
    "collapsed": true
   },
   "outputs": [
    {
     "data": {
      "text/html": [
       "<div>\n",
       "<style scoped>\n",
       "    .dataframe tbody tr th:only-of-type {\n",
       "        vertical-align: middle;\n",
       "    }\n",
       "\n",
       "    .dataframe tbody tr th {\n",
       "        vertical-align: top;\n",
       "    }\n",
       "\n",
       "    .dataframe thead th {\n",
       "        text-align: right;\n",
       "    }\n",
       "</style>\n",
       "<table border=\"1\" class=\"dataframe\">\n",
       "  <thead>\n",
       "    <tr style=\"text-align: right;\">\n",
       "      <th></th>\n",
       "      <th>category</th>\n",
       "      <th>crime_date</th>\n",
       "      <th>department_district</th>\n",
       "      <th>resolution</th>\n",
       "      <th>month</th>\n",
       "      <th>Day</th>\n",
       "      <th>day_of_week</th>\n",
       "      <th>hour</th>\n",
       "    </tr>\n",
       "  </thead>\n",
       "  <tbody>\n",
       "    <tr>\n",
       "      <th>2</th>\n",
       "      <td>WARRANTS</td>\n",
       "      <td>2016-04-25 14:59:00</td>\n",
       "      <td>BAYVIEW</td>\n",
       "      <td>ARREST, BOOKED</td>\n",
       "      <td>April</td>\n",
       "      <td>25</td>\n",
       "      <td>Monday</td>\n",
       "      <td>14</td>\n",
       "    </tr>\n",
       "    <tr>\n",
       "      <th>3</th>\n",
       "      <td>NON-CRIMINAL</td>\n",
       "      <td>2016-01-05 23:50:00</td>\n",
       "      <td>TENDERLOIN</td>\n",
       "      <td>NONE</td>\n",
       "      <td>Jan</td>\n",
       "      <td>5</td>\n",
       "      <td>Tuesday</td>\n",
       "      <td>23</td>\n",
       "    </tr>\n",
       "    <tr>\n",
       "      <th>4</th>\n",
       "      <td>NON-CRIMINAL</td>\n",
       "      <td>2016-01-01 00:30:00</td>\n",
       "      <td>MISSION</td>\n",
       "      <td>NONE</td>\n",
       "      <td>Jan</td>\n",
       "      <td>1</td>\n",
       "      <td>Friday</td>\n",
       "      <td>0</td>\n",
       "    </tr>\n",
       "  </tbody>\n",
       "</table>\n",
       "</div>"
      ],
      "text/plain": [
       "       category          crime_date department_district      resolution  \\\n",
       "2      WARRANTS 2016-04-25 14:59:00             BAYVIEW  ARREST, BOOKED   \n",
       "3  NON-CRIMINAL 2016-01-05 23:50:00          TENDERLOIN            NONE   \n",
       "4  NON-CRIMINAL 2016-01-01 00:30:00             MISSION            NONE   \n",
       "\n",
       "   month  Day day_of_week  hour  \n",
       "2  April   25      Monday    14  \n",
       "3    Jan    5     Tuesday    23  \n",
       "4    Jan    1      Friday     0  "
      ]
     },
     "execution_count": 34,
     "metadata": {},
     "output_type": "execute_result"
    }
   ],
   "source": [
    "aft_drp_rw_ctg_resn.head(3)"
   ]
  },
  {
   "cell_type": "markdown",
   "metadata": {},
   "source": [
    "# Variable conversion to binary"
   ]
  },
  {
   "cell_type": "code",
   "execution_count": 35,
   "metadata": {},
   "outputs": [],
   "source": [
    "# For day_of_week\n",
    "lb_style = LabelBinarizer()\n",
    "lb_results = lb_style.fit_transform(aft_drp_rw_ctg_resn[\"day_of_week\"])\n",
    "dfw=pd.DataFrame(lb_results, columns=lb_style.classes_)\n",
    "\n",
    "# For category\n",
    "lb_style = LabelBinarizer()\n",
    "lb_results = lb_style.fit_transform(aft_drp_rw_ctg_resn[\"category\"])\n",
    "ctg=pd.DataFrame(lb_results, columns=lb_style.classes_)\n",
    "\n",
    "# For month\n",
    "lb_style = LabelBinarizer()\n",
    "lb_results = lb_style.fit_transform(aft_drp_rw_ctg_resn[\"month\"])\n",
    "mth=pd.DataFrame(lb_results, columns=lb_style.classes_)\n",
    "\n",
    "# For department_district\n",
    "lb_style = LabelBinarizer()\n",
    "lb_results = lb_style.fit_transform(aft_drp_rw_ctg_resn[\"department_district\"])\n",
    "ddd=pd.DataFrame(lb_results, columns=lb_style.classes_)"
   ]
  },
  {
   "cell_type": "code",
   "execution_count": 36,
   "metadata": {},
   "outputs": [],
   "source": [
    "# For hour\n",
    "hr_gp={0:'0-3' ,1:'0-3' ,2:'0-3' ,3:'0-3' ,4:'4-7' ,5:'4-7' ,6:'4-7' ,7:'4-7' ,8:'8-11' ,9:'8-11' ,\n",
    "10:'8-11' ,11:'8-11' ,12:'12-15' ,13:'12-15',14:'12-15',15:'12-15',16:'16-19',17:'16-19',18:'16-19',\n",
    "      19:'16-19',20:'20-23',21:'20-23',22:'20-23',23:'20-23'}\n",
    "\n",
    "aft_drp_rw_ctg_resn.hour=[hr_gp[items] for items in aft_drp_rw_ctg_resn.hour]\n",
    "lb_style = LabelBinarizer()\n",
    "lb_results = lb_style.fit_transform(aft_drp_rw_ctg_resn[\"hour\"])\n",
    "hrr=pd.DataFrame(lb_results, columns=lb_style.classes_)"
   ]
  },
  {
   "cell_type": "code",
   "execution_count": 37,
   "metadata": {},
   "outputs": [],
   "source": [
    "# for arrest factor, if arrested\n",
    "\n",
    "df8=aft_drp_rw_ctg_resn\n",
    "a_b={\"NONE\":0 ,\"ARREST, BOOKED\":1}\n",
    "df8.resolution=[a_b[items] for items in df8.resolution]\n",
    "rstt=df8['resolution']"
   ]
  },
  {
   "cell_type": "code",
   "execution_count": 38,
   "metadata": {},
   "outputs": [],
   "source": [
    "# for arrest factor, if not arrested\n",
    "\n",
    "df9=aft_drp_rw_ctg_resn\n",
    "a_bb={0:1 ,1:0}\n",
    "df9.resolution=[a_bb[items] for items in df9.resolution]\n",
    "no_arst=df9['resolution']"
   ]
  },
  {
   "cell_type": "code",
   "execution_count": 39,
   "metadata": {
    "collapsed": true
   },
   "outputs": [
    {
     "data": {
      "text/html": [
       "<div>\n",
       "<style scoped>\n",
       "    .dataframe tbody tr th:only-of-type {\n",
       "        vertical-align: middle;\n",
       "    }\n",
       "\n",
       "    .dataframe tbody tr th {\n",
       "        vertical-align: top;\n",
       "    }\n",
       "\n",
       "    .dataframe thead th {\n",
       "        text-align: right;\n",
       "    }\n",
       "</style>\n",
       "<table border=\"1\" class=\"dataframe\">\n",
       "  <thead>\n",
       "    <tr style=\"text-align: right;\">\n",
       "      <th></th>\n",
       "      <th>Friday</th>\n",
       "      <th>Monday</th>\n",
       "      <th>Saturday</th>\n",
       "      <th>Sunday</th>\n",
       "      <th>Thursday</th>\n",
       "      <th>Tuesday</th>\n",
       "      <th>Wednesday</th>\n",
       "    </tr>\n",
       "  </thead>\n",
       "  <tbody>\n",
       "    <tr>\n",
       "      <th>0</th>\n",
       "      <td>0</td>\n",
       "      <td>1</td>\n",
       "      <td>0</td>\n",
       "      <td>0</td>\n",
       "      <td>0</td>\n",
       "      <td>0</td>\n",
       "      <td>0</td>\n",
       "    </tr>\n",
       "    <tr>\n",
       "      <th>1</th>\n",
       "      <td>0</td>\n",
       "      <td>0</td>\n",
       "      <td>0</td>\n",
       "      <td>0</td>\n",
       "      <td>0</td>\n",
       "      <td>1</td>\n",
       "      <td>0</td>\n",
       "    </tr>\n",
       "    <tr>\n",
       "      <th>2</th>\n",
       "      <td>1</td>\n",
       "      <td>0</td>\n",
       "      <td>0</td>\n",
       "      <td>0</td>\n",
       "      <td>0</td>\n",
       "      <td>0</td>\n",
       "      <td>0</td>\n",
       "    </tr>\n",
       "  </tbody>\n",
       "</table>\n",
       "</div>"
      ],
      "text/plain": [
       "   Friday  Monday  Saturday  Sunday  Thursday  Tuesday  Wednesday\n",
       "0       0       1         0       0         0        0          0\n",
       "1       0       0         0       0         0        1          0\n",
       "2       1       0         0       0         0        0          0"
      ]
     },
     "execution_count": 39,
     "metadata": {},
     "output_type": "execute_result"
    }
   ],
   "source": [
    "# Binary for Day of week\n",
    "dfw.head(3)"
   ]
  },
  {
   "cell_type": "code",
   "execution_count": 40,
   "metadata": {
    "collapsed": true
   },
   "outputs": [
    {
     "data": {
      "text/html": [
       "<div>\n",
       "<style scoped>\n",
       "    .dataframe tbody tr th:only-of-type {\n",
       "        vertical-align: middle;\n",
       "    }\n",
       "\n",
       "    .dataframe tbody tr th {\n",
       "        vertical-align: top;\n",
       "    }\n",
       "\n",
       "    .dataframe thead th {\n",
       "        text-align: right;\n",
       "    }\n",
       "</style>\n",
       "<table border=\"1\" class=\"dataframe\">\n",
       "  <thead>\n",
       "    <tr style=\"text-align: right;\">\n",
       "      <th></th>\n",
       "      <th>ASSAULT</th>\n",
       "      <th>BURGLARY</th>\n",
       "      <th>LARCENY/THEFT</th>\n",
       "      <th>NON-CRIMINAL</th>\n",
       "      <th>OTHER OFFENSES</th>\n",
       "      <th>SUSPICIOUS OCC</th>\n",
       "      <th>VANDALISM</th>\n",
       "      <th>VEHICLE THEFT</th>\n",
       "      <th>WARRANTS</th>\n",
       "    </tr>\n",
       "  </thead>\n",
       "  <tbody>\n",
       "    <tr>\n",
       "      <th>0</th>\n",
       "      <td>0</td>\n",
       "      <td>0</td>\n",
       "      <td>0</td>\n",
       "      <td>0</td>\n",
       "      <td>0</td>\n",
       "      <td>0</td>\n",
       "      <td>0</td>\n",
       "      <td>0</td>\n",
       "      <td>1</td>\n",
       "    </tr>\n",
       "    <tr>\n",
       "      <th>1</th>\n",
       "      <td>0</td>\n",
       "      <td>0</td>\n",
       "      <td>0</td>\n",
       "      <td>1</td>\n",
       "      <td>0</td>\n",
       "      <td>0</td>\n",
       "      <td>0</td>\n",
       "      <td>0</td>\n",
       "      <td>0</td>\n",
       "    </tr>\n",
       "    <tr>\n",
       "      <th>2</th>\n",
       "      <td>0</td>\n",
       "      <td>0</td>\n",
       "      <td>0</td>\n",
       "      <td>1</td>\n",
       "      <td>0</td>\n",
       "      <td>0</td>\n",
       "      <td>0</td>\n",
       "      <td>0</td>\n",
       "      <td>0</td>\n",
       "    </tr>\n",
       "  </tbody>\n",
       "</table>\n",
       "</div>"
      ],
      "text/plain": [
       "   ASSAULT  BURGLARY  LARCENY/THEFT  NON-CRIMINAL  OTHER OFFENSES  \\\n",
       "0        0         0              0             0               0   \n",
       "1        0         0              0             1               0   \n",
       "2        0         0              0             1               0   \n",
       "\n",
       "   SUSPICIOUS OCC  VANDALISM  VEHICLE THEFT  WARRANTS  \n",
       "0               0          0              0         1  \n",
       "1               0          0              0         0  \n",
       "2               0          0              0         0  "
      ]
     },
     "execution_count": 40,
     "metadata": {},
     "output_type": "execute_result"
    }
   ],
   "source": [
    "# Binary for category\n",
    "ctg.head(3)"
   ]
  },
  {
   "cell_type": "code",
   "execution_count": 41,
   "metadata": {
    "collapsed": true
   },
   "outputs": [
    {
     "data": {
      "text/html": [
       "<div>\n",
       "<style scoped>\n",
       "    .dataframe tbody tr th:only-of-type {\n",
       "        vertical-align: middle;\n",
       "    }\n",
       "\n",
       "    .dataframe tbody tr th {\n",
       "        vertical-align: top;\n",
       "    }\n",
       "\n",
       "    .dataframe thead th {\n",
       "        text-align: right;\n",
       "    }\n",
       "</style>\n",
       "<table border=\"1\" class=\"dataframe\">\n",
       "  <thead>\n",
       "    <tr style=\"text-align: right;\">\n",
       "      <th></th>\n",
       "      <th>April</th>\n",
       "      <th>Aug</th>\n",
       "      <th>Dec</th>\n",
       "      <th>Feb</th>\n",
       "      <th>Jan</th>\n",
       "      <th>July</th>\n",
       "      <th>June</th>\n",
       "      <th>Mar</th>\n",
       "      <th>May</th>\n",
       "      <th>Nov</th>\n",
       "      <th>Oct</th>\n",
       "      <th>Sep</th>\n",
       "    </tr>\n",
       "  </thead>\n",
       "  <tbody>\n",
       "    <tr>\n",
       "      <th>0</th>\n",
       "      <td>1</td>\n",
       "      <td>0</td>\n",
       "      <td>0</td>\n",
       "      <td>0</td>\n",
       "      <td>0</td>\n",
       "      <td>0</td>\n",
       "      <td>0</td>\n",
       "      <td>0</td>\n",
       "      <td>0</td>\n",
       "      <td>0</td>\n",
       "      <td>0</td>\n",
       "      <td>0</td>\n",
       "    </tr>\n",
       "    <tr>\n",
       "      <th>1</th>\n",
       "      <td>0</td>\n",
       "      <td>0</td>\n",
       "      <td>0</td>\n",
       "      <td>0</td>\n",
       "      <td>1</td>\n",
       "      <td>0</td>\n",
       "      <td>0</td>\n",
       "      <td>0</td>\n",
       "      <td>0</td>\n",
       "      <td>0</td>\n",
       "      <td>0</td>\n",
       "      <td>0</td>\n",
       "    </tr>\n",
       "    <tr>\n",
       "      <th>2</th>\n",
       "      <td>0</td>\n",
       "      <td>0</td>\n",
       "      <td>0</td>\n",
       "      <td>0</td>\n",
       "      <td>1</td>\n",
       "      <td>0</td>\n",
       "      <td>0</td>\n",
       "      <td>0</td>\n",
       "      <td>0</td>\n",
       "      <td>0</td>\n",
       "      <td>0</td>\n",
       "      <td>0</td>\n",
       "    </tr>\n",
       "  </tbody>\n",
       "</table>\n",
       "</div>"
      ],
      "text/plain": [
       "   April  Aug  Dec  Feb  Jan  July  June  Mar  May  Nov  Oct  Sep\n",
       "0      1    0    0    0    0     0     0    0    0    0    0    0\n",
       "1      0    0    0    0    1     0     0    0    0    0    0    0\n",
       "2      0    0    0    0    1     0     0    0    0    0    0    0"
      ]
     },
     "execution_count": 41,
     "metadata": {},
     "output_type": "execute_result"
    }
   ],
   "source": [
    "# Binary for month\n",
    "mth.head(3)"
   ]
  },
  {
   "cell_type": "code",
   "execution_count": 43,
   "metadata": {
    "collapsed": true
   },
   "outputs": [
    {
     "data": {
      "text/html": [
       "<div>\n",
       "<style scoped>\n",
       "    .dataframe tbody tr th:only-of-type {\n",
       "        vertical-align: middle;\n",
       "    }\n",
       "\n",
       "    .dataframe tbody tr th {\n",
       "        vertical-align: top;\n",
       "    }\n",
       "\n",
       "    .dataframe thead th {\n",
       "        text-align: right;\n",
       "    }\n",
       "</style>\n",
       "<table border=\"1\" class=\"dataframe\">\n",
       "  <thead>\n",
       "    <tr style=\"text-align: right;\">\n",
       "      <th></th>\n",
       "      <th>BAYVIEW</th>\n",
       "      <th>CENTRAL</th>\n",
       "      <th>INGLESIDE</th>\n",
       "      <th>MISSION</th>\n",
       "      <th>NORTHERN</th>\n",
       "      <th>PARK</th>\n",
       "      <th>RICHMOND</th>\n",
       "      <th>SOUTHERN</th>\n",
       "      <th>TARAVAL</th>\n",
       "      <th>TENDERLOIN</th>\n",
       "    </tr>\n",
       "  </thead>\n",
       "  <tbody>\n",
       "    <tr>\n",
       "      <th>0</th>\n",
       "      <td>1</td>\n",
       "      <td>0</td>\n",
       "      <td>0</td>\n",
       "      <td>0</td>\n",
       "      <td>0</td>\n",
       "      <td>0</td>\n",
       "      <td>0</td>\n",
       "      <td>0</td>\n",
       "      <td>0</td>\n",
       "      <td>0</td>\n",
       "    </tr>\n",
       "    <tr>\n",
       "      <th>1</th>\n",
       "      <td>0</td>\n",
       "      <td>0</td>\n",
       "      <td>0</td>\n",
       "      <td>0</td>\n",
       "      <td>0</td>\n",
       "      <td>0</td>\n",
       "      <td>0</td>\n",
       "      <td>0</td>\n",
       "      <td>0</td>\n",
       "      <td>1</td>\n",
       "    </tr>\n",
       "    <tr>\n",
       "      <th>2</th>\n",
       "      <td>0</td>\n",
       "      <td>0</td>\n",
       "      <td>0</td>\n",
       "      <td>1</td>\n",
       "      <td>0</td>\n",
       "      <td>0</td>\n",
       "      <td>0</td>\n",
       "      <td>0</td>\n",
       "      <td>0</td>\n",
       "      <td>0</td>\n",
       "    </tr>\n",
       "  </tbody>\n",
       "</table>\n",
       "</div>"
      ],
      "text/plain": [
       "   BAYVIEW  CENTRAL  INGLESIDE  MISSION  NORTHERN  PARK  RICHMOND  SOUTHERN  \\\n",
       "0        1        0          0        0         0     0         0         0   \n",
       "1        0        0          0        0         0     0         0         0   \n",
       "2        0        0          0        1         0     0         0         0   \n",
       "\n",
       "   TARAVAL  TENDERLOIN  \n",
       "0        0           0  \n",
       "1        0           1  \n",
       "2        0           0  "
      ]
     },
     "execution_count": 43,
     "metadata": {},
     "output_type": "execute_result"
    }
   ],
   "source": [
    "# Binary for Department District\n",
    "ddd.head(3)"
   ]
  },
  {
   "cell_type": "code",
   "execution_count": null,
   "metadata": {},
   "outputs": [],
   "source": [
    "# Binary for hour\n",
    "hrr.head(3)"
   ]
  },
  {
   "cell_type": "code",
   "execution_count": null,
   "metadata": {},
   "outputs": [],
   "source": [
    "# Binary for arrested\n",
    "rstt.head(3)"
   ]
  },
  {
   "cell_type": "code",
   "execution_count": null,
   "metadata": {},
   "outputs": [],
   "source": [
    "# Binary for not arrested\n",
    "no_arst.head(3)"
   ]
  },
  {
   "cell_type": "markdown",
   "metadata": {},
   "source": [
    "# Merging Binary "
   ]
  },
  {
   "cell_type": "code",
   "execution_count": 44,
   "metadata": {},
   "outputs": [],
   "source": [
    "c1 = pd.merge(ctg, dfw, right_index=True, left_index=True)\n",
    "c2 = pd.merge(c1, ddd, right_index=True, left_index=True)\n",
    "c3=pd.merge(c2, no_arst, right_index=True, left_index=True)\n",
    "c4 = pd.merge(c3, hrr, right_index=True, left_index=True)"
   ]
  },
  {
   "cell_type": "code",
   "execution_count": 45,
   "metadata": {},
   "outputs": [],
   "source": [
    "df_j_n_rst_wo_mnth=c4"
   ]
  },
  {
   "cell_type": "code",
   "execution_count": 46,
   "metadata": {},
   "outputs": [],
   "source": [
    "# pip install kmodes ( need to install for kmodes)"
   ]
  },
  {
   "cell_type": "code",
   "execution_count": 47,
   "metadata": {},
   "outputs": [],
   "source": [
    "from kmodes.kmodes import KModes"
   ]
  },
  {
   "cell_type": "code",
   "execution_count": 48,
   "metadata": {
    "collapsed": true
   },
   "outputs": [
    {
     "data": {
      "text/html": [
       "<div>\n",
       "<style scoped>\n",
       "    .dataframe tbody tr th:only-of-type {\n",
       "        vertical-align: middle;\n",
       "    }\n",
       "\n",
       "    .dataframe tbody tr th {\n",
       "        vertical-align: top;\n",
       "    }\n",
       "\n",
       "    .dataframe thead th {\n",
       "        text-align: right;\n",
       "    }\n",
       "</style>\n",
       "<table border=\"1\" class=\"dataframe\">\n",
       "  <thead>\n",
       "    <tr style=\"text-align: right;\">\n",
       "      <th></th>\n",
       "      <th>ASSAULT</th>\n",
       "      <th>BURGLARY</th>\n",
       "      <th>LARCENY/THEFT</th>\n",
       "      <th>NON-CRIMINAL</th>\n",
       "      <th>OTHER OFFENSES</th>\n",
       "      <th>SUSPICIOUS OCC</th>\n",
       "      <th>VANDALISM</th>\n",
       "      <th>VEHICLE THEFT</th>\n",
       "      <th>WARRANTS</th>\n",
       "      <th>Friday</th>\n",
       "      <th>...</th>\n",
       "      <th>SOUTHERN</th>\n",
       "      <th>TARAVAL</th>\n",
       "      <th>TENDERLOIN</th>\n",
       "      <th>resolution</th>\n",
       "      <th>0-3</th>\n",
       "      <th>12-15</th>\n",
       "      <th>16-19</th>\n",
       "      <th>20-23</th>\n",
       "      <th>4-7</th>\n",
       "      <th>8-11</th>\n",
       "    </tr>\n",
       "  </thead>\n",
       "  <tbody>\n",
       "    <tr>\n",
       "      <th>2</th>\n",
       "      <td>0</td>\n",
       "      <td>0</td>\n",
       "      <td>0</td>\n",
       "      <td>1</td>\n",
       "      <td>0</td>\n",
       "      <td>0</td>\n",
       "      <td>0</td>\n",
       "      <td>0</td>\n",
       "      <td>0</td>\n",
       "      <td>1</td>\n",
       "      <td>...</td>\n",
       "      <td>0</td>\n",
       "      <td>0</td>\n",
       "      <td>0</td>\n",
       "      <td>0</td>\n",
       "      <td>1</td>\n",
       "      <td>0</td>\n",
       "      <td>0</td>\n",
       "      <td>0</td>\n",
       "      <td>0</td>\n",
       "      <td>0</td>\n",
       "    </tr>\n",
       "    <tr>\n",
       "      <th>3</th>\n",
       "      <td>1</td>\n",
       "      <td>0</td>\n",
       "      <td>0</td>\n",
       "      <td>0</td>\n",
       "      <td>0</td>\n",
       "      <td>0</td>\n",
       "      <td>0</td>\n",
       "      <td>0</td>\n",
       "      <td>0</td>\n",
       "      <td>1</td>\n",
       "      <td>...</td>\n",
       "      <td>0</td>\n",
       "      <td>0</td>\n",
       "      <td>0</td>\n",
       "      <td>1</td>\n",
       "      <td>0</td>\n",
       "      <td>0</td>\n",
       "      <td>0</td>\n",
       "      <td>1</td>\n",
       "      <td>0</td>\n",
       "      <td>0</td>\n",
       "    </tr>\n",
       "    <tr>\n",
       "      <th>4</th>\n",
       "      <td>0</td>\n",
       "      <td>0</td>\n",
       "      <td>0</td>\n",
       "      <td>0</td>\n",
       "      <td>1</td>\n",
       "      <td>0</td>\n",
       "      <td>0</td>\n",
       "      <td>0</td>\n",
       "      <td>0</td>\n",
       "      <td>0</td>\n",
       "      <td>...</td>\n",
       "      <td>1</td>\n",
       "      <td>0</td>\n",
       "      <td>0</td>\n",
       "      <td>1</td>\n",
       "      <td>1</td>\n",
       "      <td>0</td>\n",
       "      <td>0</td>\n",
       "      <td>0</td>\n",
       "      <td>0</td>\n",
       "      <td>0</td>\n",
       "    </tr>\n",
       "  </tbody>\n",
       "</table>\n",
       "<p>3 rows × 33 columns</p>\n",
       "</div>"
      ],
      "text/plain": [
       "   ASSAULT  BURGLARY  LARCENY/THEFT  NON-CRIMINAL  OTHER OFFENSES  \\\n",
       "2        0         0              0             1               0   \n",
       "3        1         0              0             0               0   \n",
       "4        0         0              0             0               1   \n",
       "\n",
       "   SUSPICIOUS OCC  VANDALISM  VEHICLE THEFT  WARRANTS  Friday  ...  SOUTHERN  \\\n",
       "2               0          0              0         0       1  ...         0   \n",
       "3               0          0              0         0       1  ...         0   \n",
       "4               0          0              0         0       0  ...         1   \n",
       "\n",
       "   TARAVAL  TENDERLOIN  resolution  0-3  12-15  16-19  20-23  4-7  8-11  \n",
       "2        0           0           0    1      0      0      0    0     0  \n",
       "3        0           0           1    0      0      0      1    0     0  \n",
       "4        0           0           1    1      0      0      0    0     0  \n",
       "\n",
       "[3 rows x 33 columns]"
      ]
     },
     "execution_count": 48,
     "metadata": {},
     "output_type": "execute_result"
    }
   ],
   "source": [
    "c4.head(3)"
   ]
  },
  {
   "cell_type": "markdown",
   "metadata": {},
   "source": [
    "# 1st Model give us actionable insight, it have variable.\n",
    "\n",
    " ### 1. Hour (12-15.59, 16-19.59 etc)\n",
    " ### 2. Not arrested\n",
    " ### 3. Day of week(Sunday, Monady,Tuesday etc.)\n",
    " ### 4. Category (Theft)\n",
    " ### 5. Department district(Area like Mission, Central, Bayview etc)."
   ]
  },
  {
   "cell_type": "code",
   "execution_count": 48,
   "metadata": {
    "collapsed": true
   },
   "outputs": [
    {
     "name": "stdout",
     "output_type": "stream",
     "text": [
      "Model have variable, 1. Hour (12-15.59, 16-19.59 etc), 2. Not arrested, 3. Day of week(Sunday, Monady,Tuesday etc.), 4. Category (Theft), 5. Department district(Area like Mission, Central, Bayview etc).\n",
      "\n",
      "\n",
      "\n",
      "1st run\n",
      "\n",
      "\n",
      "\n",
      "Init: initializing centroids\n",
      "Init: initializing clusters\n",
      "Starting iterations...\n",
      "Run 1, iteration: 1/100, moves: 19457, cost: 130283.0\n",
      "Run 1, iteration: 2/100, moves: 1310, cost: 130283.0\n",
      "Init: initializing centroids\n",
      "Init: initializing clusters\n",
      "Starting iterations...\n",
      "Run 2, iteration: 1/100, moves: 16582, cost: 131318.0\n",
      "Run 2, iteration: 2/100, moves: 967, cost: 131318.0\n",
      "Init: initializing centroids\n",
      "Init: initializing clusters\n",
      "Starting iterations...\n",
      "Run 3, iteration: 1/100, moves: 12934, cost: 127362.0\n",
      "Run 3, iteration: 2/100, moves: 0, cost: 127362.0\n",
      "Init: initializing centroids\n",
      "Init: initializing clusters\n",
      "Starting iterations...\n",
      "Run 4, iteration: 1/100, moves: 17342, cost: 133894.0\n",
      "Run 4, iteration: 2/100, moves: 878, cost: 133894.0\n",
      "Init: initializing centroids\n",
      "Init: initializing clusters\n",
      "Starting iterations...\n",
      "Run 5, iteration: 1/100, moves: 13724, cost: 128626.0\n",
      "Run 5, iteration: 2/100, moves: 3059, cost: 127736.0\n",
      "Run 5, iteration: 3/100, moves: 178, cost: 127736.0\n",
      "Init: initializing centroids\n",
      "Init: initializing clusters\n",
      "Starting iterations...\n",
      "Run 6, iteration: 1/100, moves: 19593, cost: 130125.0\n",
      "Run 6, iteration: 2/100, moves: 4276, cost: 129576.0\n",
      "Run 6, iteration: 3/100, moves: 83, cost: 129576.0\n",
      "Init: initializing centroids\n",
      "Init: initializing clusters\n",
      "Starting iterations...\n",
      "Run 7, iteration: 1/100, moves: 16687, cost: 127450.0\n",
      "Run 7, iteration: 2/100, moves: 1546, cost: 127450.0\n",
      "Init: initializing centroids\n",
      "Init: initializing clusters\n",
      "Starting iterations...\n",
      "Run 8, iteration: 1/100, moves: 16106, cost: 128789.0\n",
      "Run 8, iteration: 2/100, moves: 470, cost: 128789.0\n",
      "Init: initializing centroids\n",
      "Init: initializing clusters\n",
      "Starting iterations...\n",
      "Run 9, iteration: 1/100, moves: 18557, cost: 125785.0\n",
      "Run 9, iteration: 2/100, moves: 968, cost: 125785.0\n",
      "Init: initializing centroids\n",
      "Init: initializing clusters\n",
      "Starting iterations...\n",
      "Run 10, iteration: 1/100, moves: 20559, cost: 122430.0\n",
      "Run 10, iteration: 2/100, moves: 4074, cost: 122430.0\n",
      "Init: initializing centroids\n",
      "Init: initializing clusters\n",
      "Starting iterations...\n",
      "Run 11, iteration: 1/100, moves: 18383, cost: 123556.0\n",
      "Run 11, iteration: 2/100, moves: 2146, cost: 123556.0\n",
      "Init: initializing centroids\n",
      "Init: initializing clusters\n",
      "Starting iterations...\n",
      "Run 12, iteration: 1/100, moves: 16990, cost: 124701.0\n",
      "Run 12, iteration: 2/100, moves: 2376, cost: 124701.0\n",
      "Init: initializing centroids\n",
      "Init: initializing clusters\n",
      "Starting iterations...\n",
      "Run 13, iteration: 1/100, moves: 14615, cost: 125765.0\n",
      "Run 13, iteration: 2/100, moves: 534, cost: 125765.0\n",
      "Init: initializing centroids\n",
      "Init: initializing clusters\n",
      "Starting iterations...\n",
      "Run 14, iteration: 1/100, moves: 17919, cost: 118589.0\n",
      "Run 14, iteration: 2/100, moves: 3363, cost: 116850.0\n",
      "Run 14, iteration: 3/100, moves: 347, cost: 116850.0\n",
      "Init: initializing centroids\n",
      "Init: initializing clusters\n",
      "Starting iterations...\n",
      "Run 15, iteration: 1/100, moves: 18409, cost: 131311.0\n",
      "Run 15, iteration: 2/100, moves: 817, cost: 131311.0\n",
      "Init: initializing centroids\n",
      "Init: initializing clusters\n",
      "Starting iterations...\n",
      "Run 16, iteration: 1/100, moves: 17609, cost: 127827.0\n",
      "Run 16, iteration: 2/100, moves: 2080, cost: 127827.0\n",
      "Init: initializing centroids\n",
      "Init: initializing clusters\n",
      "Starting iterations...\n",
      "Run 17, iteration: 1/100, moves: 15444, cost: 131584.0\n",
      "Run 17, iteration: 2/100, moves: 27, cost: 131584.0\n",
      "Init: initializing centroids\n",
      "Init: initializing clusters\n",
      "Starting iterations...\n",
      "Run 18, iteration: 1/100, moves: 22688, cost: 131029.0\n",
      "Run 18, iteration: 2/100, moves: 1946, cost: 130698.0\n",
      "Run 18, iteration: 3/100, moves: 588, cost: 130698.0\n",
      "Init: initializing centroids\n",
      "Init: initializing clusters\n",
      "Starting iterations...\n",
      "Run 19, iteration: 1/100, moves: 17144, cost: 124368.0\n",
      "Run 19, iteration: 2/100, moves: 3624, cost: 124368.0\n",
      "Init: initializing centroids\n",
      "Init: initializing clusters\n",
      "Starting iterations...\n",
      "Run 20, iteration: 1/100, moves: 19151, cost: 128454.0\n",
      "Run 20, iteration: 2/100, moves: 3151, cost: 127657.0\n",
      "Run 20, iteration: 3/100, moves: 186, cost: 127657.0\n",
      "Best run was number 14\n",
      "\n",
      "cluster 0: \n",
      "resolution\n",
      "16-19\n",
      "\n",
      "cluster 1: \n",
      "LARCENY/THEFT\n",
      "SOUTHERN\n",
      "20-23\n",
      "\n",
      "cluster 2: \n",
      "resolution\n",
      "12-15\n",
      "\n",
      "cluster 3: \n",
      "LARCENY/THEFT\n",
      "resolution\n",
      "16-19\n",
      "\n",
      "cluster 4: \n",
      "resolution\n",
      "8-11\n",
      "\n",
      "cluster 5: \n",
      "OTHER OFFENSES\n",
      "resolution\n",
      "20-23\n",
      "\n",
      "cluster 6: \n",
      "resolution\n",
      "20-23\n",
      "\n",
      "cluster 7: \n",
      "LARCENY/THEFT\n",
      "resolution\n",
      "12-15\n",
      "\n",
      "cluster 8: \n",
      "LARCENY/THEFT\n",
      "Thursday\n",
      "resolution\n",
      "16-19\n",
      "\n",
      "cluster 9: \n",
      "NON-CRIMINAL\n",
      "resolution\n",
      "12-15\n",
      "2nd run\n",
      "\n",
      "\n",
      "\n",
      "Init: initializing centroids\n",
      "Init: initializing clusters\n",
      "Starting iterations...\n",
      "Run 1, iteration: 1/100, moves: 16779, cost: 125427.0\n",
      "Run 1, iteration: 2/100, moves: 0, cost: 125427.0\n",
      "Init: initializing centroids\n",
      "Init: initializing clusters\n",
      "Starting iterations...\n",
      "Run 2, iteration: 1/100, moves: 16568, cost: 129678.0\n",
      "Run 2, iteration: 2/100, moves: 689, cost: 129678.0\n",
      "Init: initializing centroids\n",
      "Init: initializing clusters\n",
      "Starting iterations...\n",
      "Run 3, iteration: 1/100, moves: 16479, cost: 130705.0\n",
      "Run 3, iteration: 2/100, moves: 3752, cost: 129768.0\n",
      "Run 3, iteration: 3/100, moves: 645, cost: 129768.0\n",
      "Init: initializing centroids\n",
      "Init: initializing clusters\n",
      "Starting iterations...\n",
      "Run 4, iteration: 1/100, moves: 18922, cost: 125459.0\n",
      "Run 4, iteration: 2/100, moves: 1353, cost: 125459.0\n",
      "Init: initializing centroids\n",
      "Init: initializing clusters\n",
      "Starting iterations...\n",
      "Run 5, iteration: 1/100, moves: 18795, cost: 120919.0\n",
      "Run 5, iteration: 2/100, moves: 2728, cost: 120919.0\n",
      "Init: initializing centroids\n",
      "Init: initializing clusters\n",
      "Starting iterations...\n",
      "Run 6, iteration: 1/100, moves: 16890, cost: 125836.0\n",
      "Run 6, iteration: 2/100, moves: 468, cost: 125836.0\n",
      "Init: initializing centroids\n",
      "Init: initializing clusters\n",
      "Starting iterations...\n",
      "Run 7, iteration: 1/100, moves: 17102, cost: 124905.0\n",
      "Run 7, iteration: 2/100, moves: 454, cost: 124905.0\n",
      "Init: initializing centroids\n",
      "Init: initializing clusters\n",
      "Starting iterations...\n",
      "Run 8, iteration: 1/100, moves: 17811, cost: 127043.0\n",
      "Run 8, iteration: 2/100, moves: 1733, cost: 125703.0\n",
      "Run 8, iteration: 3/100, moves: 1991, cost: 125703.0\n",
      "Init: initializing centroids\n",
      "Init: initializing clusters\n",
      "Starting iterations...\n",
      "Run 9, iteration: 1/100, moves: 18536, cost: 128012.0\n",
      "Run 9, iteration: 2/100, moves: 688, cost: 128012.0\n",
      "Init: initializing centroids\n",
      "Init: initializing clusters\n",
      "Starting iterations...\n",
      "Run 10, iteration: 1/100, moves: 16552, cost: 126070.0\n",
      "Run 10, iteration: 2/100, moves: 692, cost: 126070.0\n",
      "Init: initializing centroids\n",
      "Init: initializing clusters\n",
      "Starting iterations...\n",
      "Run 11, iteration: 1/100, moves: 19491, cost: 121550.0\n",
      "Run 11, iteration: 2/100, moves: 472, cost: 121550.0\n",
      "Init: initializing centroids\n",
      "Init: initializing clusters\n",
      "Starting iterations...\n",
      "Run 12, iteration: 1/100, moves: 18307, cost: 129490.0\n",
      "Run 12, iteration: 2/100, moves: 1822, cost: 129490.0\n",
      "Init: initializing centroids\n",
      "Init: initializing clusters\n",
      "Starting iterations...\n",
      "Run 13, iteration: 1/100, moves: 15766, cost: 130601.0\n",
      "Run 13, iteration: 2/100, moves: 1246, cost: 130528.0\n",
      "Run 13, iteration: 3/100, moves: 80, cost: 130528.0\n",
      "Init: initializing centroids\n",
      "Init: initializing clusters\n",
      "Starting iterations...\n",
      "Run 14, iteration: 1/100, moves: 19060, cost: 120557.0\n",
      "Run 14, iteration: 2/100, moves: 3007, cost: 120557.0\n",
      "Init: initializing centroids\n",
      "Init: initializing clusters\n",
      "Starting iterations...\n",
      "Run 15, iteration: 1/100, moves: 18371, cost: 133430.0\n",
      "Run 15, iteration: 2/100, moves: 3113, cost: 133430.0\n",
      "Init: initializing centroids\n",
      "Init: initializing clusters\n",
      "Starting iterations...\n",
      "Run 16, iteration: 1/100, moves: 21482, cost: 125140.0\n",
      "Run 16, iteration: 2/100, moves: 1495, cost: 125140.0\n",
      "Init: initializing centroids\n",
      "Init: initializing clusters\n",
      "Starting iterations...\n",
      "Run 17, iteration: 1/100, moves: 16530, cost: 131282.0\n",
      "Run 17, iteration: 2/100, moves: 0, cost: 131282.0\n",
      "Init: initializing centroids\n",
      "Init: initializing clusters\n",
      "Starting iterations...\n",
      "Run 18, iteration: 1/100, moves: 20148, cost: 119178.0\n",
      "Run 18, iteration: 2/100, moves: 1541, cost: 119178.0\n",
      "Init: initializing centroids\n"
     ]
    },
    {
     "name": "stdout",
     "output_type": "stream",
     "text": [
      "Init: initializing clusters\n",
      "Starting iterations...\n",
      "Run 19, iteration: 1/100, moves: 17907, cost: 127832.0\n",
      "Run 19, iteration: 2/100, moves: 1053, cost: 127832.0\n",
      "Init: initializing centroids\n",
      "Init: initializing clusters\n",
      "Starting iterations...\n",
      "Run 20, iteration: 1/100, moves: 16558, cost: 125573.0\n",
      "Run 20, iteration: 2/100, moves: 3168, cost: 125573.0\n",
      "Best run was number 18\n",
      "\n",
      "cluster 0: \n",
      "no-skills cluster\n",
      "\n",
      "cluster 1: \n",
      "LARCENY/THEFT\n",
      "Friday\n",
      "12-15\n",
      "\n",
      "cluster 2: \n",
      "resolution\n",
      "12-15\n",
      "\n",
      "cluster 3: \n",
      "resolution\n",
      "16-19\n",
      "\n",
      "cluster 4: \n",
      "resolution\n",
      "8-11\n",
      "\n",
      "cluster 5: \n",
      "SOUTHERN\n",
      "resolution\n",
      "12-15\n",
      "\n",
      "cluster 6: \n",
      "LARCENY/THEFT\n",
      "Thursday\n",
      "resolution\n",
      "\n",
      "cluster 7: \n",
      "resolution\n",
      "20-23\n",
      "\n",
      "cluster 8: \n",
      "LARCENY/THEFT\n",
      "resolution\n",
      "20-23\n",
      "\n",
      "cluster 9: \n",
      "LARCENY/THEFT\n",
      "SOUTHERN\n",
      "resolution\n",
      "16-19\n"
     ]
    }
   ],
   "source": [
    "print(\"Model have variable, 1. Hour (12-15.59, 16-19.59 etc), 2. Not arrested, 3. Day of week(Sunday, Monady,Tuesday etc.), 4. Category (Theft), 5. Department district(Area like Mission, Central, Bayview etc).\\n\\n\\n\")\n",
    "\n",
    "print(\"1st run\\n\\n\\n\")\n",
    "\n",
    "# define the k-modes model\n",
    "km = KModes(n_clusters=10, init='Huang', n_init=20, verbose=1)\n",
    "# fit the clusters to the skills dataframe\n",
    "clusters = km.fit_predict(df_j_n_rst_wo_mnth)\n",
    "# get an array of cluster modes\n",
    "kmodes = km.cluster_centroids_\n",
    "shape = kmodes.shape\n",
    "# For each cluster mode (a vector of \"1\" and \"0\")\n",
    "# find and print the column headings where \"1\" appears.\n",
    "# If no \"1\" appears, assign to \"no-skills\" cluster.\n",
    "for i in range(shape[0]):\n",
    "    if sum(kmodes[i,:]) == 0:\n",
    "        print(\"\\ncluster \" + str(i) + \": \")\n",
    "        print(\"no-skills cluster\")\n",
    "    else:\n",
    "        print(\"\\ncluster \" + str(i) + \": \")\n",
    "        cent = kmodes[i,:]\n",
    "        for j in df_j_n_rst_wo_mnth.columns[np.nonzero(cent)]:\n",
    "            print(j)\n",
    "            \n",
    "            \n",
    "print(\"2nd run\\n\\n\\n\")\n",
    "\n",
    "# define the k-modes model\n",
    "km = KModes(n_clusters=10, init='Huang', n_init=20, verbose=1)\n",
    "# fit the clusters to the skills dataframe\n",
    "clusters = km.fit_predict(df_j_n_rst_wo_mnth)\n",
    "# get an array of cluster modes\n",
    "kmodes = km.cluster_centroids_\n",
    "shape = kmodes.shape\n",
    "# For each cluster mode (a vector of \"1\" and \"0\")\n",
    "# find and print the column headings where \"1\" appears.\n",
    "# If no \"1\" appears, assign to \"no-skills\" cluster.\n",
    "for i in range(shape[0]):\n",
    "    if sum(kmodes[i,:]) == 0:\n",
    "        print(\"\\ncluster \" + str(i) + \": \")\n",
    "        print(\"no-skills cluster\")\n",
    "    else:\n",
    "        print(\"\\ncluster \" + str(i) + \": \")\n",
    "        cent = kmodes[i,:]\n",
    "        for j in df_j_n_rst_wo_mnth.columns[np.nonzero(cent)]:\n",
    "            print(j)\n",
    "            "
   ]
  },
  {
   "cell_type": "code",
   "execution_count": 231,
   "metadata": {
    "collapsed": true
   },
   "outputs": [
    {
     "name": "stdout",
     "output_type": "stream",
     "text": [
      "3rd run\n",
      "\n",
      "Init: initializing centroids\n",
      "Init: initializing clusters\n",
      "Starting iterations...\n",
      "Run 1, iteration: 1/100, moves: 44154, cost: 325189.0\n",
      "Run 1, iteration: 2/100, moves: 1817, cost: 325189.0\n",
      "Init: initializing centroids\n",
      "Init: initializing clusters\n",
      "Starting iterations...\n",
      "Run 2, iteration: 1/100, moves: 54379, cost: 337744.0\n",
      "Run 2, iteration: 2/100, moves: 16683, cost: 337744.0\n",
      "Init: initializing centroids\n",
      "Init: initializing clusters\n",
      "Starting iterations...\n",
      "Run 3, iteration: 1/100, moves: 50762, cost: 321887.0\n",
      "Run 3, iteration: 2/100, moves: 10435, cost: 313567.0\n",
      "Run 3, iteration: 3/100, moves: 7085, cost: 308789.0\n",
      "Run 3, iteration: 4/100, moves: 2756, cost: 308789.0\n",
      "Init: initializing centroids\n",
      "Init: initializing clusters\n",
      "Starting iterations...\n",
      "Run 4, iteration: 1/100, moves: 48325, cost: 315989.0\n",
      "Run 4, iteration: 2/100, moves: 3956, cost: 315174.0\n",
      "Run 4, iteration: 3/100, moves: 281, cost: 315174.0\n",
      "Init: initializing centroids\n",
      "Init: initializing clusters\n",
      "Starting iterations...\n",
      "Run 5, iteration: 1/100, moves: 42202, cost: 309500.0\n",
      "Run 5, iteration: 2/100, moves: 6217, cost: 309500.0\n",
      "Init: initializing centroids\n",
      "Init: initializing clusters\n",
      "Starting iterations...\n",
      "Run 6, iteration: 1/100, moves: 39972, cost: 328496.0\n",
      "Run 6, iteration: 2/100, moves: 0, cost: 328496.0\n",
      "Init: initializing centroids\n",
      "Init: initializing clusters\n",
      "Starting iterations...\n",
      "Run 7, iteration: 1/100, moves: 49164, cost: 318878.0\n",
      "Run 7, iteration: 2/100, moves: 15723, cost: 317362.0\n",
      "Run 7, iteration: 3/100, moves: 6565, cost: 317362.0\n",
      "Init: initializing centroids\n",
      "Init: initializing clusters\n",
      "Starting iterations...\n",
      "Run 8, iteration: 1/100, moves: 53104, cost: 307983.0\n",
      "Run 8, iteration: 2/100, moves: 7192, cost: 307983.0\n",
      "Init: initializing centroids\n",
      "Init: initializing clusters\n",
      "Starting iterations...\n",
      "Run 9, iteration: 1/100, moves: 47512, cost: 314261.0\n",
      "Run 9, iteration: 2/100, moves: 8151, cost: 306785.0\n",
      "Run 9, iteration: 3/100, moves: 1590, cost: 306785.0\n",
      "Init: initializing centroids\n",
      "Init: initializing clusters\n",
      "Starting iterations...\n",
      "Run 10, iteration: 1/100, moves: 48057, cost: 322899.0\n",
      "Run 10, iteration: 2/100, moves: 4155, cost: 322899.0\n",
      "Init: initializing centroids\n",
      "Init: initializing clusters\n",
      "Starting iterations...\n",
      "Run 11, iteration: 1/100, moves: 46025, cost: 329832.0\n",
      "Run 11, iteration: 2/100, moves: 0, cost: 329832.0\n",
      "Init: initializing centroids\n",
      "Init: initializing clusters\n",
      "Starting iterations...\n",
      "Run 12, iteration: 1/100, moves: 51463, cost: 328790.0\n",
      "Run 12, iteration: 2/100, moves: 0, cost: 328790.0\n",
      "Init: initializing centroids\n",
      "Init: initializing clusters\n",
      "Starting iterations...\n",
      "Run 13, iteration: 1/100, moves: 48110, cost: 318593.0\n",
      "Run 13, iteration: 2/100, moves: 1493, cost: 318593.0\n",
      "Init: initializing centroids\n",
      "Init: initializing clusters\n",
      "Starting iterations...\n",
      "Run 14, iteration: 1/100, moves: 51327, cost: 328351.0\n",
      "Run 14, iteration: 2/100, moves: 6538, cost: 324539.0\n",
      "Run 14, iteration: 3/100, moves: 1451, cost: 324539.0\n",
      "Init: initializing centroids\n",
      "Init: initializing clusters\n",
      "Starting iterations...\n",
      "Run 15, iteration: 1/100, moves: 52705, cost: 316000.0\n",
      "Run 15, iteration: 2/100, moves: 1044, cost: 316000.0\n",
      "Init: initializing centroids\n",
      "Init: initializing clusters\n",
      "Starting iterations...\n",
      "Run 16, iteration: 1/100, moves: 39674, cost: 320383.0\n",
      "Run 16, iteration: 2/100, moves: 3465, cost: 320383.0\n",
      "Init: initializing centroids\n",
      "Init: initializing clusters\n",
      "Starting iterations...\n",
      "Run 17, iteration: 1/100, moves: 49393, cost: 321071.0\n",
      "Run 17, iteration: 2/100, moves: 8601, cost: 316879.0\n",
      "Run 17, iteration: 3/100, moves: 1111, cost: 316879.0\n",
      "Init: initializing centroids\n",
      "Init: initializing clusters\n",
      "Starting iterations...\n",
      "Run 18, iteration: 1/100, moves: 51234, cost: 329672.0\n",
      "Run 18, iteration: 2/100, moves: 7634, cost: 329672.0\n",
      "Init: initializing centroids\n",
      "Init: initializing clusters\n",
      "Starting iterations...\n",
      "Run 19, iteration: 1/100, moves: 42935, cost: 328551.0\n",
      "Run 19, iteration: 2/100, moves: 2177, cost: 328551.0\n",
      "Init: initializing centroids\n",
      "Init: initializing clusters\n",
      "Starting iterations...\n",
      "Run 20, iteration: 1/100, moves: 50974, cost: 325187.0\n",
      "Run 20, iteration: 2/100, moves: 1644, cost: 325187.0\n",
      "Best run was number 9\n",
      "\n",
      "cluster 0: \n",
      "resolution\n",
      "16-19\n",
      "\n",
      "cluster 1: \n",
      "resolution\n",
      "12-15\n",
      "\n",
      "cluster 2: \n",
      "resolution\n",
      "20-23\n",
      "\n",
      "cluster 3: \n",
      "Sunday\n",
      "resolution\n",
      "0-3\n",
      "\n",
      "cluster 4: \n",
      "Tuesday\n",
      "resolution\n",
      "\n",
      "cluster 5: \n",
      "resolution\n",
      "8-11\n",
      "\n",
      "cluster 6: \n",
      "LARCENY/THEFT\n",
      "Sunday\n",
      "SOUTHERN\n",
      "resolution\n",
      "8-11\n",
      "\n",
      "cluster 7: \n",
      "resolution\n",
      "0-3\n",
      "\n",
      "cluster 8: \n",
      "resolution\n",
      "4-7\n",
      "\n",
      "cluster 9: \n",
      "OTHER OFFENSES\n",
      "Thursday\n",
      "resolution\n",
      "\n",
      "\n",
      "\n",
      "4th run\n",
      "\n",
      "Init: initializing centroids\n",
      "Init: initializing clusters\n",
      "Starting iterations...\n",
      "Run 1, iteration: 1/100, moves: 55737, cost: 322223.0\n",
      "Run 1, iteration: 2/100, moves: 5980, cost: 322223.0\n",
      "Init: initializing centroids\n",
      "Init: initializing clusters\n",
      "Starting iterations...\n",
      "Run 2, iteration: 1/100, moves: 44147, cost: 325550.0\n",
      "Run 2, iteration: 2/100, moves: 319, cost: 325550.0\n",
      "Init: initializing centroids\n",
      "Init: initializing clusters\n",
      "Starting iterations...\n",
      "Run 3, iteration: 1/100, moves: 42967, cost: 317907.0\n",
      "Run 3, iteration: 2/100, moves: 2209, cost: 317907.0\n",
      "Init: initializing centroids\n",
      "Init: initializing clusters\n",
      "Starting iterations...\n",
      "Run 4, iteration: 1/100, moves: 42724, cost: 327634.0\n",
      "Run 4, iteration: 2/100, moves: 0, cost: 327634.0\n",
      "Init: initializing centroids\n",
      "Init: initializing clusters\n",
      "Starting iterations...\n",
      "Run 5, iteration: 1/100, moves: 56314, cost: 325926.0\n",
      "Run 5, iteration: 2/100, moves: 315, cost: 325926.0\n",
      "Init: initializing centroids\n",
      "Init: initializing clusters\n",
      "Starting iterations...\n",
      "Run 6, iteration: 1/100, moves: 42032, cost: 321982.0\n",
      "Run 6, iteration: 2/100, moves: 6460, cost: 321982.0\n",
      "Init: initializing centroids\n",
      "Init: initializing clusters\n",
      "Starting iterations...\n",
      "Run 7, iteration: 1/100, moves: 36688, cost: 322442.0\n",
      "Run 7, iteration: 2/100, moves: 0, cost: 322442.0\n",
      "Init: initializing centroids\n",
      "Init: initializing clusters\n",
      "Starting iterations...\n",
      "Run 8, iteration: 1/100, moves: 44343, cost: 325828.0\n",
      "Run 8, iteration: 2/100, moves: 10379, cost: 324293.0\n",
      "Run 8, iteration: 3/100, moves: 4842, cost: 324293.0\n",
      "Init: initializing centroids\n",
      "Init: initializing clusters\n",
      "Starting iterations...\n",
      "Run 9, iteration: 1/100, moves: 47911, cost: 313972.0\n",
      "Run 9, iteration: 2/100, moves: 7201, cost: 313972.0\n",
      "Init: initializing centroids\n",
      "Init: initializing clusters\n",
      "Starting iterations...\n",
      "Run 10, iteration: 1/100, moves: 50479, cost: 303035.0\n",
      "Run 10, iteration: 2/100, moves: 8823, cost: 303035.0\n",
      "Init: initializing centroids\n",
      "Init: initializing clusters\n",
      "Starting iterations...\n",
      "Run 11, iteration: 1/100, moves: 53575, cost: 328021.0\n",
      "Run 11, iteration: 2/100, moves: 1088, cost: 328021.0\n",
      "Init: initializing centroids\n",
      "Init: initializing clusters\n",
      "Starting iterations...\n",
      "Run 12, iteration: 1/100, moves: 51385, cost: 326846.0\n",
      "Run 12, iteration: 2/100, moves: 0, cost: 326846.0\n",
      "Init: initializing centroids\n",
      "Init: initializing clusters\n",
      "Starting iterations...\n",
      "Run 13, iteration: 1/100, moves: 41425, cost: 330954.0\n",
      "Run 13, iteration: 2/100, moves: 8716, cost: 330954.0\n",
      "Init: initializing centroids\n",
      "Init: initializing clusters\n",
      "Starting iterations...\n",
      "Run 14, iteration: 1/100, moves: 44830, cost: 329368.0\n",
      "Run 14, iteration: 2/100, moves: 2660, cost: 329368.0\n",
      "Init: initializing centroids\n",
      "Init: initializing clusters\n",
      "Starting iterations...\n",
      "Run 15, iteration: 1/100, moves: 46050, cost: 320681.0\n",
      "Run 15, iteration: 2/100, moves: 0, cost: 320681.0\n",
      "Init: initializing centroids\n",
      "Init: initializing clusters\n",
      "Starting iterations...\n",
      "Run 16, iteration: 1/100, moves: 51830, cost: 323235.0\n",
      "Run 16, iteration: 2/100, moves: 4305, cost: 323235.0\n",
      "Init: initializing centroids\n",
      "Init: initializing clusters\n",
      "Starting iterations...\n",
      "Run 17, iteration: 1/100, moves: 43706, cost: 321975.0\n",
      "Run 17, iteration: 2/100, moves: 2378, cost: 321975.0\n",
      "Init: initializing centroids\n",
      "Init: initializing clusters\n",
      "Starting iterations...\n",
      "Run 18, iteration: 1/100, moves: 52935, cost: 322662.0\n",
      "Run 18, iteration: 2/100, moves: 261, cost: 322662.0\n",
      "Init: initializing centroids\n",
      "Init: initializing clusters\n",
      "Starting iterations...\n",
      "Run 19, iteration: 1/100, moves: 51830, cost: 314931.0\n",
      "Run 19, iteration: 2/100, moves: 3302, cost: 314931.0\n",
      "Init: initializing centroids\n",
      "Init: initializing clusters\n",
      "Starting iterations...\n"
     ]
    },
    {
     "name": "stdout",
     "output_type": "stream",
     "text": [
      "Run 20, iteration: 1/100, moves: 52400, cost: 337280.0\n",
      "Run 20, iteration: 2/100, moves: 0, cost: 337280.0\n",
      "Best run was number 10\n",
      "\n",
      "cluster 0: \n",
      "Saturday\n",
      "\n",
      "cluster 1: \n",
      "resolution\n",
      "16-19\n",
      "\n",
      "cluster 2: \n",
      "LARCENY/THEFT\n",
      "resolution\n",
      "16-19\n",
      "\n",
      "cluster 3: \n",
      "resolution\n",
      "20-23\n",
      "\n",
      "cluster 4: \n",
      "LARCENY/THEFT\n",
      "Tuesday\n",
      "16-19\n",
      "\n",
      "cluster 5: \n",
      "Sunday\n",
      "resolution\n",
      "20-23\n",
      "\n",
      "cluster 6: \n",
      "ASSAULT\n",
      "INGLESIDE\n",
      "resolution\n",
      "\n",
      "cluster 7: \n",
      "resolution\n",
      "0-3\n",
      "\n",
      "cluster 8: \n",
      "resolution\n",
      "12-15\n",
      "\n",
      "cluster 9: \n",
      "resolution\n",
      "8-11\n"
     ]
    }
   ],
   "source": [
    "print(\"3rd run\\n\")\n",
    "\n",
    "# define the k-modes model\n",
    "km = KModes(n_clusters=10, init='Huang', n_init=20, verbose=1)\n",
    "# fit the clusters to the skills dataframe\n",
    "clusters = km.fit_predict(df_j_n_rst_wo_mnth)\n",
    "# get an array of cluster modes\n",
    "kmodes = km.cluster_centroids_\n",
    "shape = kmodes.shape\n",
    "# For each cluster mode (a vector of \"1\" and \"0\")\n",
    "# find and print the column headings where \"1\" appears.\n",
    "# If no \"1\" appears, assign to \"no-skills\" cluster.\n",
    "for i in range(shape[0]):\n",
    "    if sum(kmodes[i,:]) == 0:\n",
    "        print(\"\\ncluster \" + str(i) + \": \")\n",
    "        print(\"no-skills cluster\")\n",
    "    else:\n",
    "        print(\"\\ncluster \" + str(i) + \": \")\n",
    "        cent = kmodes[i,:]\n",
    "        for j in df_j_n_rst_wo_mnth.columns[np.nonzero(cent)]:\n",
    "            print(j)\n",
    "            \n",
    "print(\"\\n\\n\")         \n",
    "print(\"4th run\\n\")\n",
    "\n",
    "# define the k-modes model\n",
    "km = KModes(n_clusters=10, init='Huang', n_init=20, verbose=1)\n",
    "# fit the clusters to the skills dataframe\n",
    "clusters = km.fit_predict(df_j_n_rst_wo_mnth)\n",
    "# get an array of cluster modes\n",
    "kmodes = km.cluster_centroids_\n",
    "shape = kmodes.shape\n",
    "# For each cluster mode (a vector of \"1\" and \"0\")\n",
    "# find and print the column headings where \"1\" appears.\n",
    "# If no \"1\" appears, assign to \"no-skills\" cluster.\n",
    "for i in range(shape[0]):\n",
    "    if sum(kmodes[i,:]) == 0:\n",
    "        print(\"\\ncluster \" + str(i) + \": \")\n",
    "        print(\"no-skills cluster\")\n",
    "    else:\n",
    "        print(\"\\ncluster \" + str(i) + \": \")\n",
    "        cent = kmodes[i,:]\n",
    "        for j in df_j_n_rst_wo_mnth.columns[np.nonzero(cent)]:\n",
    "            print(j)\n",
    "            "
   ]
  },
  {
   "cell_type": "markdown",
   "metadata": {},
   "source": [
    "# For result kindly check excle file crime_result\n"
   ]
  }
 ],
 "metadata": {
  "kernelspec": {
   "display_name": "Python 3",
   "language": "python",
   "name": "python3"
  },
  "language_info": {
   "codemirror_mode": {
    "name": "ipython",
    "version": 3
   },
   "file_extension": ".py",
   "mimetype": "text/x-python",
   "name": "python",
   "nbconvert_exporter": "python",
   "pygments_lexer": "ipython3",
   "version": "3.7.3"
  }
 },
 "nbformat": 4,
 "nbformat_minor": 2
}
